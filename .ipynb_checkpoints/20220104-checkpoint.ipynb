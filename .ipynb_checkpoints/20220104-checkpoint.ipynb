{
 "cells": [
  {
   "cell_type": "code",
   "execution_count": null,
   "metadata": {
    "colab": {
     "base_uri": "https://localhost:8080/",
     "height": 36
    },
    "executionInfo": {
     "elapsed": 289,
     "status": "ok",
     "timestamp": 1641270000304,
     "user": {
      "displayName": "Nuka",
      "photoUrl": "https://lh3.googleusercontent.com/a-/AOh14GgzXEbNiG5F4JTW3wieKoLzpVqgW4vsXYaCn0mu=s64",
      "userId": "00108578877416785794"
     },
     "user_tz": -540
    },
    "id": "RXwilCm9g95g",
    "outputId": "f4f1813d-033a-410a-c4c1-ecce10a8a940"
   },
   "outputs": [
    {
     "data": {
      "application/vnd.google.colaboratory.intrinsic+json": {
       "type": "string"
      },
      "text/plain": [
       "'I eat 3 apples'"
      ]
     },
     "execution_count": 5,
     "metadata": {},
     "output_type": "execute_result"
    }
   ],
   "source": [
    "n=3\n",
    "\"I eat {0} apples\" .format(n)"
   ]
  },
  {
   "cell_type": "code",
   "execution_count": null,
   "metadata": {
    "colab": {
     "base_uri": "https://localhost:8080/",
     "height": 36
    },
    "executionInfo": {
     "elapsed": 282,
     "status": "ok",
     "timestamp": 1641269897763,
     "user": {
      "displayName": "Nuka",
      "photoUrl": "https://lh3.googleusercontent.com/a-/AOh14GgzXEbNiG5F4JTW3wieKoLzpVqgW4vsXYaCn0mu=s64",
      "userId": "00108578877416785794"
     },
     "user_tz": -540
    },
    "id": "0dndEXViTJ9X",
    "outputId": "d62e9665-17fd-48a2-bd25-953f05ff2a2d"
   },
   "outputs": [
    {
     "data": {
      "application/vnd.google.colaboratory.intrinsic+json": {
       "type": "string"
      },
      "text/plain": [
       "'I eat five apples'"
      ]
     },
     "execution_count": 3,
     "metadata": {},
     "output_type": "execute_result"
    }
   ],
   "source": [
    "'I eat {0} apples' .format('five')"
   ]
  },
  {
   "cell_type": "code",
   "execution_count": null,
   "metadata": {
    "colab": {
     "base_uri": "https://localhost:8080/",
     "height": 36
    },
    "executionInfo": {
     "elapsed": 285,
     "status": "ok",
     "timestamp": 1641270082975,
     "user": {
      "displayName": "Nuka",
      "photoUrl": "https://lh3.googleusercontent.com/a-/AOh14GgzXEbNiG5F4JTW3wieKoLzpVqgW4vsXYaCn0mu=s64",
      "userId": "00108578877416785794"
     },
     "user_tz": -540
    },
    "id": "AUtzCOfqTydO",
    "outputId": "94d37d94-96c4-4194-8f30-45500cdaad3c"
   },
   "outputs": [
    {
     "data": {
      "application/vnd.google.colaboratory.intrinsic+json": {
       "type": "string"
      },
      "text/plain": [
       "'I ate 10 apples. so I was sick for tree days.'"
      ]
     },
     "execution_count": 7,
     "metadata": {},
     "output_type": "execute_result"
    }
   ],
   "source": [
    "n=10\n",
    "day = 'tree'\n",
    "\n",
    "\"I ate {0} apples. so I was sick for {1} days.\" .format(n, day)"
   ]
  },
  {
   "cell_type": "code",
   "execution_count": null,
   "metadata": {
    "colab": {
     "base_uri": "https://localhost:8080/",
     "height": 177
    },
    "executionInfo": {
     "elapsed": 381,
     "status": "error",
     "timestamp": 1641270333907,
     "user": {
      "displayName": "Nuka",
      "photoUrl": "https://lh3.googleusercontent.com/a-/AOh14GgzXEbNiG5F4JTW3wieKoLzpVqgW4vsXYaCn0mu=s64",
      "userId": "00108578877416785794"
     },
     "user_tz": -540
    },
    "id": "vlCDWvOaUNnd",
    "outputId": "55ee9a1c-74c7-4b0d-d18e-38df19a5bfbd"
   },
   "outputs": [
    {
     "ename": "IndexError",
     "evalue": "ignored",
     "output_type": "error",
     "traceback": [
      "\u001b[0;31m---------------------------------------------------------------------------\u001b[0m",
      "\u001b[0;31mIndexError\u001b[0m                                Traceback (most recent call last)",
      "\u001b[0;32m<ipython-input-8-9977fc3c1697>\u001b[0m in \u001b[0;36m<module>\u001b[0;34m()\u001b[0m\n\u001b[0;32m----> 1\u001b[0;31m \u001b[0;34m\"I ate {0} apples. so I was sick for {1} days\"\u001b[0m \u001b[0;34m.\u001b[0m\u001b[0mformat\u001b[0m\u001b[0;34m(\u001b[0m\u001b[0mn\u001b[0m\u001b[0;34m=\u001b[0m\u001b[0;36m100\u001b[0m\u001b[0;34m,\u001b[0m \u001b[0mday\u001b[0m\u001b[0;34m=\u001b[0m\u001b[0;34m'first'\u001b[0m\u001b[0;34m)\u001b[0m\u001b[0;34m\u001b[0m\u001b[0;34m\u001b[0m\u001b[0m\n\u001b[0m",
      "\u001b[0;31mIndexError\u001b[0m: tuple index out of range"
     ]
    }
   ],
   "source": [
    "\"I ate {0} apples. so I was sick for {1} days\" .format(n=100, day='first')"
   ]
  },
  {
   "cell_type": "code",
   "execution_count": null,
   "metadata": {
    "colab": {
     "base_uri": "https://localhost:8080/",
     "height": 36
    },
    "executionInfo": {
     "elapsed": 297,
     "status": "ok",
     "timestamp": 1641270517966,
     "user": {
      "displayName": "Nuka",
      "photoUrl": "https://lh3.googleusercontent.com/a-/AOh14GgzXEbNiG5F4JTW3wieKoLzpVqgW4vsXYaCn0mu=s64",
      "userId": "00108578877416785794"
     },
     "user_tz": -540
    },
    "id": "zGcwb7FIVcym",
    "outputId": "45ddcded-eae5-4488-8347-ebc4b4b21238"
   },
   "outputs": [
    {
     "data": {
      "application/vnd.google.colaboratory.intrinsic+json": {
       "type": "string"
      },
      "text/plain": [
       "'I ate 100 apples. so I was sick for first days'"
      ]
     },
     "execution_count": 14,
     "metadata": {},
     "output_type": "execute_result"
    }
   ],
   "source": [
    "\"I ate {n} apples. so I was sick for {day} days\" .format(n=100, day='first')"
   ]
  },
  {
   "cell_type": "code",
   "execution_count": null,
   "metadata": {
    "colab": {
     "base_uri": "https://localhost:8080/",
     "height": 36
    },
    "executionInfo": {
     "elapsed": 293,
     "status": "ok",
     "timestamp": 1641270769438,
     "user": {
      "displayName": "Nuka",
      "photoUrl": "https://lh3.googleusercontent.com/a-/AOh14GgzXEbNiG5F4JTW3wieKoLzpVqgW4vsXYaCn0mu=s64",
      "userId": "00108578877416785794"
     },
     "user_tz": -540
    },
    "id": "6HbvoBoSVgVd",
    "outputId": "0c424065-b133-4818-f9c2-d6f18553a2ba"
   },
   "outputs": [
    {
     "data": {
      "application/vnd.google.colaboratory.intrinsic+json": {
       "type": "string"
      },
      "text/plain": [
       "'I ate 100 apples. so I was sick for first days'"
      ]
     },
     "execution_count": 15,
     "metadata": {},
     "output_type": "execute_result"
    }
   ],
   "source": [
    "\"I ate {0} apples. so I was sick for {day} days\" .format(100, day='first')"
   ]
  },
  {
   "cell_type": "code",
   "execution_count": null,
   "metadata": {
    "colab": {
     "base_uri": "https://localhost:8080/",
     "height": 36
    },
    "executionInfo": {
     "elapsed": 293,
     "status": "ok",
     "timestamp": 1641270893383,
     "user": {
      "displayName": "Nuka",
      "photoUrl": "https://lh3.googleusercontent.com/a-/AOh14GgzXEbNiG5F4JTW3wieKoLzpVqgW4vsXYaCn0mu=s64",
      "userId": "00108578877416785794"
     },
     "user_tz": -540
    },
    "id": "d6nx8l7fXHRc",
    "outputId": "25f442a1-39f6-465b-a650-a4e7745a423e"
   },
   "outputs": [
    {
     "data": {
      "application/vnd.google.colaboratory.intrinsic+json": {
       "type": "string"
      },
      "text/plain": [
       "'hi        '"
      ]
     },
     "execution_count": 18,
     "metadata": {},
     "output_type": "execute_result"
    }
   ],
   "source": [
    "\"{0:<10}\" .format('hi')"
   ]
  },
  {
   "cell_type": "code",
   "execution_count": null,
   "metadata": {
    "colab": {
     "base_uri": "https://localhost:8080/",
     "height": 36
    },
    "executionInfo": {
     "elapsed": 287,
     "status": "ok",
     "timestamp": 1641271092535,
     "user": {
      "displayName": "Nuka",
      "photoUrl": "https://lh3.googleusercontent.com/a-/AOh14GgzXEbNiG5F4JTW3wieKoLzpVqgW4vsXYaCn0mu=s64",
      "userId": "00108578877416785794"
     },
     "user_tz": -540
    },
    "id": "nBFm7lADXhGk",
    "outputId": "bb4e59a7-5128-470e-ae9f-855d9654489c"
   },
   "outputs": [
    {
     "data": {
      "application/vnd.google.colaboratory.intrinsic+json": {
       "type": "string"
      },
      "text/plain": [
       "'        hi'"
      ]
     },
     "execution_count": 19,
     "metadata": {},
     "output_type": "execute_result"
    }
   ],
   "source": [
    "\"{0:>10}\" .format('hi')"
   ]
  },
  {
   "cell_type": "code",
   "execution_count": null,
   "metadata": {
    "colab": {
     "base_uri": "https://localhost:8080/",
     "height": 36
    },
    "executionInfo": {
     "elapsed": 365,
     "status": "ok",
     "timestamp": 1641271099141,
     "user": {
      "displayName": "Nuka",
      "photoUrl": "https://lh3.googleusercontent.com/a-/AOh14GgzXEbNiG5F4JTW3wieKoLzpVqgW4vsXYaCn0mu=s64",
      "userId": "00108578877416785794"
     },
     "user_tz": -540
    },
    "id": "T5dLswg1YWJ1",
    "outputId": "e9b2b1cc-fc7c-4b5d-98ba-89e5fae9d90f"
   },
   "outputs": [
    {
     "data": {
      "application/vnd.google.colaboratory.intrinsic+json": {
       "type": "string"
      },
      "text/plain": [
       "'    hi    '"
      ]
     },
     "execution_count": 20,
     "metadata": {},
     "output_type": "execute_result"
    }
   ],
   "source": [
    "\"{0:^10}\" .format('hi')"
   ]
  },
  {
   "cell_type": "code",
   "execution_count": null,
   "metadata": {
    "colab": {
     "base_uri": "https://localhost:8080/",
     "height": 36
    },
    "executionInfo": {
     "elapsed": 313,
     "status": "ok",
     "timestamp": 1641271191480,
     "user": {
      "displayName": "Nuka",
      "photoUrl": "https://lh3.googleusercontent.com/a-/AOh14GgzXEbNiG5F4JTW3wieKoLzpVqgW4vsXYaCn0mu=s64",
      "userId": "00108578877416785794"
     },
     "user_tz": -540
    },
    "id": "ikD_1RqrYXwE",
    "outputId": "9aa1f6ff-b84f-474b-fcf6-b3d1b5840d75"
   },
   "outputs": [
    {
     "data": {
      "application/vnd.google.colaboratory.intrinsic+json": {
       "type": "string"
      },
      "text/plain": [
       "'hi========'"
      ]
     },
     "execution_count": 21,
     "metadata": {},
     "output_type": "execute_result"
    }
   ],
   "source": [
    "\"{0:=<10}\" .format('hi')"
   ]
  },
  {
   "cell_type": "code",
   "execution_count": null,
   "metadata": {
    "colab": {
     "base_uri": "https://localhost:8080/",
     "height": 36
    },
    "executionInfo": {
     "elapsed": 289,
     "status": "ok",
     "timestamp": 1641271243109,
     "user": {
      "displayName": "Nuka",
      "photoUrl": "https://lh3.googleusercontent.com/a-/AOh14GgzXEbNiG5F4JTW3wieKoLzpVqgW4vsXYaCn0mu=s64",
      "userId": "00108578877416785794"
     },
     "user_tz": -540
    },
    "id": "PUj9hN6jYuT8",
    "outputId": "29725437-b24c-4bae-ed06-55299eb0a180"
   },
   "outputs": [
    {
     "data": {
      "application/vnd.google.colaboratory.intrinsic+json": {
       "type": "string"
      },
      "text/plain": [
       "'hi!!!!!!!!'"
      ]
     },
     "execution_count": 24,
     "metadata": {},
     "output_type": "execute_result"
    }
   ],
   "source": [
    "\"{0:!<10}\" .format('hi')"
   ]
  },
  {
   "cell_type": "code",
   "execution_count": null,
   "metadata": {
    "colab": {
     "base_uri": "https://localhost:8080/",
     "height": 36
    },
    "executionInfo": {
     "elapsed": 292,
     "status": "ok",
     "timestamp": 1641271377082,
     "user": {
      "displayName": "Nuka",
      "photoUrl": "https://lh3.googleusercontent.com/a-/AOh14GgzXEbNiG5F4JTW3wieKoLzpVqgW4vsXYaCn0mu=s64",
      "userId": "00108578877416785794"
     },
     "user_tz": -540
    },
    "id": "Gz_qt3wSY0iE",
    "outputId": "b1ef2656-4bb2-48c3-f55e-fb33ea6f9edc"
   },
   "outputs": [
    {
     "data": {
      "application/vnd.google.colaboratory.intrinsic+json": {
       "type": "string"
      },
      "text/plain": [
       "'3.1416'"
      ]
     },
     "execution_count": 26,
     "metadata": {},
     "output_type": "execute_result"
    }
   ],
   "source": [
    "\"{0:0.4f}\" .format(3.141569)"
   ]
  },
  {
   "cell_type": "code",
   "execution_count": null,
   "metadata": {
    "colab": {
     "base_uri": "https://localhost:8080/",
     "height": 36
    },
    "executionInfo": {
     "elapsed": 293,
     "status": "ok",
     "timestamp": 1641271472595,
     "user": {
      "displayName": "Nuka",
      "photoUrl": "https://lh3.googleusercontent.com/a-/AOh14GgzXEbNiG5F4JTW3wieKoLzpVqgW4vsXYaCn0mu=s64",
      "userId": "00108578877416785794"
     },
     "user_tz": -540
    },
    "id": "H5QfEXaqZAuE",
    "outputId": "b663f18a-d1de-49ac-adc9-1f4131de780c"
   },
   "outputs": [
    {
     "data": {
      "application/vnd.google.colaboratory.intrinsic+json": {
       "type": "string"
      },
      "text/plain": [
       "'{and}'"
      ]
     },
     "execution_count": 29,
     "metadata": {},
     "output_type": "execute_result"
    }
   ],
   "source": [
    "'{{and}}' .format()"
   ]
  },
  {
   "cell_type": "markdown",
   "metadata": {
    "id": "yE6iOuopdnz2"
   },
   "source": [
    "## f-formatting"
   ]
  },
  {
   "cell_type": "code",
   "execution_count": null,
   "metadata": {
    "colab": {
     "base_uri": "https://localhost:8080/",
     "height": 36
    },
    "executionInfo": {
     "elapsed": 359,
     "status": "ok",
     "timestamp": 1641271858716,
     "user": {
      "displayName": "Nuka",
      "photoUrl": "https://lh3.googleusercontent.com/a-/AOh14GgzXEbNiG5F4JTW3wieKoLzpVqgW4vsXYaCn0mu=s64",
      "userId": "00108578877416785794"
     },
     "user_tz": -540
    },
    "id": "Xdi7oOHVZ6G8",
    "outputId": "f74a207b-b0a0-479f-c922-9a7201e0d4a9"
   },
   "outputs": [
    {
     "data": {
      "application/vnd.google.colaboratory.intrinsic+json": {
       "type": "string"
      },
      "text/plain": [
       "'나의 이름은 홍길동 입니다. 나이는 20 입니다.'"
      ]
     },
     "execution_count": 41,
     "metadata": {},
     "output_type": "execute_result"
    }
   ],
   "source": [
    "name = '홍길동'\n",
    "age = 20\n",
    "\n",
    "f'나의 이름은 {name} 입니다. 나이는 {age} 입니다.'"
   ]
  },
  {
   "cell_type": "code",
   "execution_count": null,
   "metadata": {
    "colab": {
     "base_uri": "https://localhost:8080/",
     "height": 36
    },
    "executionInfo": {
     "elapsed": 279,
     "status": "ok",
     "timestamp": 1641271898970,
     "user": {
      "displayName": "Nuka",
      "photoUrl": "https://lh3.googleusercontent.com/a-/AOh14GgzXEbNiG5F4JTW3wieKoLzpVqgW4vsXYaCn0mu=s64",
      "userId": "00108578877416785794"
     },
     "user_tz": -540
    },
    "id": "44CxUFJKa20k",
    "outputId": "cbfa7adc-4efc-4448-ead9-a4097d6b8a2d"
   },
   "outputs": [
    {
     "data": {
      "application/vnd.google.colaboratory.intrinsic+json": {
       "type": "string"
      },
      "text/plain": [
       "'나는 올해 21 이 되었다.'"
      ]
     },
     "execution_count": 43,
     "metadata": {},
     "output_type": "execute_result"
    }
   ],
   "source": [
    "f'나는 올해 {age+1} 이 되었다.'"
   ]
  },
  {
   "cell_type": "code",
   "execution_count": 104,
   "metadata": {
    "colab": {
     "base_uri": "https://localhost:8080/",
     "height": 36
    },
    "executionInfo": {
     "elapsed": 271,
     "status": "ok",
     "timestamp": 1641285058922,
     "user": {
      "displayName": "Nuka",
      "photoUrl": "https://lh3.googleusercontent.com/a-/AOh14GgzXEbNiG5F4JTW3wieKoLzpVqgW4vsXYaCn0mu=s64",
      "userId": "00108578877416785794"
     },
     "user_tz": -540
    },
    "id": "yAyVAKhAbZts",
    "outputId": "b024723a-e4ab-41b8-e475-22f56f5a1cdc"
   },
   "outputs": [
    {
     "data": {
      "application/vnd.google.colaboratory.intrinsic+json": {
       "type": "string"
      },
      "text/plain": [
       "'나의 이름은 김철수 입니다. 나이는 20 입니다.'"
      ]
     },
     "execution_count": 104,
     "metadata": {},
     "output_type": "execute_result"
    }
   ],
   "source": [
    "d={ 'name' : '김철수' , 'age':20}\n",
    "f'나의 이름은 {d[\"name\"]} 입니다. 나이는 {d[\"age\"]} 입니다.'"
   ]
  },
  {
   "cell_type": "code",
   "execution_count": null,
   "metadata": {
    "colab": {
     "base_uri": "https://localhost:8080/",
     "height": 36
    },
    "executionInfo": {
     "elapsed": 274,
     "status": "ok",
     "timestamp": 1641272236985,
     "user": {
      "displayName": "Nuka",
      "photoUrl": "https://lh3.googleusercontent.com/a-/AOh14GgzXEbNiG5F4JTW3wieKoLzpVqgW4vsXYaCn0mu=s64",
      "userId": "00108578877416785794"
     },
     "user_tz": -540
    },
    "id": "rhS1V7kScB4r",
    "outputId": "a5f3fd5e-5139-4092-e737-44a1a5046be9"
   },
   "outputs": [
    {
     "data": {
      "application/vnd.google.colaboratory.intrinsic+json": {
       "type": "string"
      },
      "text/plain": [
       "'hi        '"
      ]
     },
     "execution_count": 49,
     "metadata": {},
     "output_type": "execute_result"
    }
   ],
   "source": [
    "f'{\"hi\":<10}'"
   ]
  },
  {
   "cell_type": "code",
   "execution_count": null,
   "metadata": {
    "colab": {
     "base_uri": "https://localhost:8080/",
     "height": 36
    },
    "executionInfo": {
     "elapsed": 267,
     "status": "ok",
     "timestamp": 1641272325191,
     "user": {
      "displayName": "Nuka",
      "photoUrl": "https://lh3.googleusercontent.com/a-/AOh14GgzXEbNiG5F4JTW3wieKoLzpVqgW4vsXYaCn0mu=s64",
      "userId": "00108578877416785794"
     },
     "user_tz": -540
    },
    "id": "YGHNkwkoctkb",
    "outputId": "13b13e11-2c0f-4231-d8cf-9bef44026a7b"
   },
   "outputs": [
    {
     "data": {
      "application/vnd.google.colaboratory.intrinsic+json": {
       "type": "string"
      },
      "text/plain": [
       "'        hi'"
      ]
     },
     "execution_count": 50,
     "metadata": {},
     "output_type": "execute_result"
    }
   ],
   "source": [
    "f'{\"hi\":>10}'"
   ]
  },
  {
   "cell_type": "code",
   "execution_count": null,
   "metadata": {
    "colab": {
     "base_uri": "https://localhost:8080/",
     "height": 36
    },
    "executionInfo": {
     "elapsed": 262,
     "status": "ok",
     "timestamp": 1641272578894,
     "user": {
      "displayName": "Nuka",
      "photoUrl": "https://lh3.googleusercontent.com/a-/AOh14GgzXEbNiG5F4JTW3wieKoLzpVqgW4vsXYaCn0mu=s64",
      "userId": "00108578877416785794"
     },
     "user_tz": -540
    },
    "id": "VaHL8EFSdDGs",
    "outputId": "1d88bbbd-30cf-4997-ed49-b0780403d738"
   },
   "outputs": [
    {
     "data": {
      "application/vnd.google.colaboratory.intrinsic+json": {
       "type": "string"
      },
      "text/plain": [
       "'    hi    '"
      ]
     },
     "execution_count": 53,
     "metadata": {},
     "output_type": "execute_result"
    }
   ],
   "source": [
    "f'{\"hi\":^10}' "
   ]
  },
  {
   "cell_type": "markdown",
   "metadata": {
    "id": "erxKenQPdX7Q"
   },
   "source": [
    "\n",
    "'''{[인덱스/값]:[공백을 채울 문자][정령방식][자리수]}'''"
   ]
  },
  {
   "cell_type": "code",
   "execution_count": null,
   "metadata": {
    "colab": {
     "base_uri": "https://localhost:8080/",
     "height": 36
    },
    "executionInfo": {
     "elapsed": 326,
     "status": "ok",
     "timestamp": 1641272728313,
     "user": {
      "displayName": "Nuka",
      "photoUrl": "https://lh3.googleusercontent.com/a-/AOh14GgzXEbNiG5F4JTW3wieKoLzpVqgW4vsXYaCn0mu=s64",
      "userId": "00108578877416785794"
     },
     "user_tz": -540
    },
    "id": "1TxZxtmRdZ9v",
    "outputId": "d9f601dd-ae63-4555-d148-c0eb44e84d0a"
   },
   "outputs": [
    {
     "data": {
      "application/vnd.google.colaboratory.intrinsic+json": {
       "type": "string"
      },
      "text/plain": [
       "'$$$$hi$$$$'"
      ]
     },
     "execution_count": 54,
     "metadata": {},
     "output_type": "execute_result"
    }
   ],
   "source": [
    "f'{\"hi\":$^10}'"
   ]
  },
  {
   "cell_type": "code",
   "execution_count": null,
   "metadata": {
    "colab": {
     "base_uri": "https://localhost:8080/",
     "height": 36
    },
    "executionInfo": {
     "elapsed": 673,
     "status": "ok",
     "timestamp": 1641273777437,
     "user": {
      "displayName": "Nuka",
      "photoUrl": "https://lh3.googleusercontent.com/a-/AOh14GgzXEbNiG5F4JTW3wieKoLzpVqgW4vsXYaCn0mu=s64",
      "userId": "00108578877416785794"
     },
     "user_tz": -540
    },
    "id": "mZ0PO98TelX7",
    "outputId": "0bdb00b4-bf31-4c33-c8ab-98e5d695a4b2"
   },
   "outputs": [
    {
     "data": {
      "application/vnd.google.colaboratory.intrinsic+json": {
       "type": "string"
      },
      "text/plain": [
       "'a,b,c'"
      ]
     },
     "execution_count": 55,
     "metadata": {},
     "output_type": "execute_result"
    }
   ],
   "source": [
    "'{0},{1},{2}' .format('a','b','c')"
   ]
  },
  {
   "cell_type": "code",
   "execution_count": null,
   "metadata": {
    "colab": {
     "base_uri": "https://localhost:8080/",
     "height": 36
    },
    "executionInfo": {
     "elapsed": 305,
     "status": "ok",
     "timestamp": 1641273803007,
     "user": {
      "displayName": "Nuka",
      "photoUrl": "https://lh3.googleusercontent.com/a-/AOh14GgzXEbNiG5F4JTW3wieKoLzpVqgW4vsXYaCn0mu=s64",
      "userId": "00108578877416785794"
     },
     "user_tz": -540
    },
    "id": "ronDIbZ0ilbO",
    "outputId": "69a6b3ef-b09b-4c56-c961-03521b562cfa"
   },
   "outputs": [
    {
     "data": {
      "application/vnd.google.colaboratory.intrinsic+json": {
       "type": "string"
      },
      "text/plain": [
       "'a,b,c'"
      ]
     },
     "execution_count": 56,
     "metadata": {},
     "output_type": "execute_result"
    }
   ],
   "source": [
    "'{},{},{}' .format('a','b','c')"
   ]
  },
  {
   "cell_type": "code",
   "execution_count": null,
   "metadata": {
    "colab": {
     "base_uri": "https://localhost:8080/",
     "height": 36
    },
    "executionInfo": {
     "elapsed": 740,
     "status": "ok",
     "timestamp": 1641273820112,
     "user": {
      "displayName": "Nuka",
      "photoUrl": "https://lh3.googleusercontent.com/a-/AOh14GgzXEbNiG5F4JTW3wieKoLzpVqgW4vsXYaCn0mu=s64",
      "userId": "00108578877416785794"
     },
     "user_tz": -540
    },
    "id": "Smm_Nanlir4i",
    "outputId": "c3f9a0a6-4cb6-4514-8f4e-84b0830fb2b3"
   },
   "outputs": [
    {
     "data": {
      "application/vnd.google.colaboratory.intrinsic+json": {
       "type": "string"
      },
      "text/plain": [
       "'c,b,a'"
      ]
     },
     "execution_count": 57,
     "metadata": {},
     "output_type": "execute_result"
    }
   ],
   "source": [
    "'{2},{1},{0}' .format('a','b','c')"
   ]
  },
  {
   "cell_type": "code",
   "execution_count": null,
   "metadata": {
    "colab": {
     "base_uri": "https://localhost:8080/",
     "height": 36
    },
    "executionInfo": {
     "elapsed": 299,
     "status": "ok",
     "timestamp": 1641273850737,
     "user": {
      "displayName": "Nuka",
      "photoUrl": "https://lh3.googleusercontent.com/a-/AOh14GgzXEbNiG5F4JTW3wieKoLzpVqgW4vsXYaCn0mu=s64",
      "userId": "00108578877416785794"
     },
     "user_tz": -540
    },
    "id": "UcGKMoWIiv0K",
    "outputId": "459c946a-0a8f-48db-92e2-c208520c8cf9"
   },
   "outputs": [
    {
     "data": {
      "application/vnd.google.colaboratory.intrinsic+json": {
       "type": "string"
      },
      "text/plain": [
       "'c,b,a'"
      ]
     },
     "execution_count": 58,
     "metadata": {},
     "output_type": "execute_result"
    }
   ],
   "source": [
    "'{2},{1},{0}' .format(*'abc')"
   ]
  },
  {
   "cell_type": "code",
   "execution_count": null,
   "metadata": {
    "colab": {
     "base_uri": "https://localhost:8080/",
     "height": 36
    },
    "executionInfo": {
     "elapsed": 389,
     "status": "ok",
     "timestamp": 1641274028337,
     "user": {
      "displayName": "Nuka",
      "photoUrl": "https://lh3.googleusercontent.com/a-/AOh14GgzXEbNiG5F4JTW3wieKoLzpVqgW4vsXYaCn0mu=s64",
      "userId": "00108578877416785794"
     },
     "user_tz": -540
    },
    "id": "JKXCUnrNi3iK",
    "outputId": "c7044c7a-97b3-4eec-f121-30896ee29684"
   },
   "outputs": [
    {
     "data": {
      "application/vnd.google.colaboratory.intrinsic+json": {
       "type": "string"
      },
      "text/plain": [
       "'abracadabra'"
      ]
     },
     "execution_count": 60,
     "metadata": {},
     "output_type": "execute_result"
    }
   ],
   "source": [
    "'{0}{1}{0}' .format('abra', 'cad')"
   ]
  },
  {
   "cell_type": "code",
   "execution_count": null,
   "metadata": {
    "colab": {
     "base_uri": "https://localhost:8080/",
     "height": 177
    },
    "executionInfo": {
     "elapsed": 290,
     "status": "error",
     "timestamp": 1641274208133,
     "user": {
      "displayName": "Nuka",
      "photoUrl": "https://lh3.googleusercontent.com/a-/AOh14GgzXEbNiG5F4JTW3wieKoLzpVqgW4vsXYaCn0mu=s64",
      "userId": "00108578877416785794"
     },
     "user_tz": -540
    },
    "id": "BBTE57-QjfTa",
    "outputId": "afb8b46b-cfef-4b02-f8f3-edf25d51b020"
   },
   "outputs": [
    {
     "ename": "SyntaxError",
     "evalue": "ignored",
     "output_type": "error",
     "traceback": [
      "\u001b[0;36m  File \u001b[0;32m\"<ipython-input-61-b377d9894810>\"\u001b[0;36m, line \u001b[0;32m1\u001b[0m\n\u001b[0;31m    'Coordinates: {latitude}, {longtitude}' .format(latitude='37.24N', longtitude='-115.81\\')\u001b[0m\n\u001b[0m                                                                                             ^\u001b[0m\n\u001b[0;31mSyntaxError\u001b[0m\u001b[0;31m:\u001b[0m EOL while scanning string literal\n"
     ]
    }
   ],
   "source": [
    "'Coordinates: {latitude}, {longtitude}' .format(latitude='37.24N', longtitude='-115.81\\')"
   ]
  },
  {
   "cell_type": "code",
   "execution_count": null,
   "metadata": {
    "id": "HQY0oIZxkOy6"
   },
   "outputs": [],
   "source": []
  },
  {
   "cell_type": "markdown",
   "metadata": {
    "id": "OhMbbKx2kWNl"
   },
   "source": [
    "### 문자열 함수"
   ]
  },
  {
   "cell_type": "code",
   "execution_count": null,
   "metadata": {
    "colab": {
     "base_uri": "https://localhost:8080/"
    },
    "executionInfo": {
     "elapsed": 296,
     "status": "ok",
     "timestamp": 1641274408369,
     "user": {
      "displayName": "Nuka",
      "photoUrl": "https://lh3.googleusercontent.com/a-/AOh14GgzXEbNiG5F4JTW3wieKoLzpVqgW4vsXYaCn0mu=s64",
      "userId": "00108578877416785794"
     },
     "user_tz": -540
    },
    "id": "fF225y1-kbJU",
    "outputId": "5d471c51-7d55-412c-e4b2-229237d8b573"
   },
   "outputs": [
    {
     "data": {
      "text/plain": [
       "3"
      ]
     },
     "execution_count": 62,
     "metadata": {},
     "output_type": "execute_result"
    }
   ],
   "source": [
    "a = 'Hello World'\n",
    "\n",
    "a.count('l')"
   ]
  },
  {
   "cell_type": "code",
   "execution_count": null,
   "metadata": {
    "colab": {
     "base_uri": "https://localhost:8080/"
    },
    "executionInfo": {
     "elapsed": 299,
     "status": "ok",
     "timestamp": 1641274592228,
     "user": {
      "displayName": "Nuka",
      "photoUrl": "https://lh3.googleusercontent.com/a-/AOh14GgzXEbNiG5F4JTW3wieKoLzpVqgW4vsXYaCn0mu=s64",
      "userId": "00108578877416785794"
     },
     "user_tz": -540
    },
    "id": "UFviauAAk_rq",
    "outputId": "1a8b8d08-6d4a-412b-d08a-436313258ac6"
   },
   "outputs": [
    {
     "data": {
      "text/plain": [
       "14"
      ]
     },
     "execution_count": 63,
     "metadata": {},
     "output_type": "execute_result"
    }
   ],
   "source": [
    "a = 'Python is the best choice'\n",
    "\n",
    "a. find('b')"
   ]
  },
  {
   "cell_type": "code",
   "execution_count": null,
   "metadata": {
    "colab": {
     "base_uri": "https://localhost:8080/"
    },
    "executionInfo": {
     "elapsed": 295,
     "status": "ok",
     "timestamp": 1641274670215,
     "user": {
      "displayName": "Nuka",
      "photoUrl": "https://lh3.googleusercontent.com/a-/AOh14GgzXEbNiG5F4JTW3wieKoLzpVqgW4vsXYaCn0mu=s64",
      "userId": "00108578877416785794"
     },
     "user_tz": -540
    },
    "id": "frsFMgsUlskT",
    "outputId": "33975694-2385-4cb2-e1fa-cfb74fa4fb69"
   },
   "outputs": [
    {
     "data": {
      "text/plain": [
       "-1"
      ]
     },
     "execution_count": 64,
     "metadata": {},
     "output_type": "execute_result"
    }
   ],
   "source": [
    "a. find('k')"
   ]
  },
  {
   "cell_type": "code",
   "execution_count": null,
   "metadata": {
    "colab": {
     "base_uri": "https://localhost:8080/"
    },
    "executionInfo": {
     "elapsed": 312,
     "status": "ok",
     "timestamp": 1641274826892,
     "user": {
      "displayName": "Nuka",
      "photoUrl": "https://lh3.googleusercontent.com/a-/AOh14GgzXEbNiG5F4JTW3wieKoLzpVqgW4vsXYaCn0mu=s64",
      "userId": "00108578877416785794"
     },
     "user_tz": -540
    },
    "id": "PMEWmvAKl_mi",
    "outputId": "fc319cef-ae00-4929-ac64-6287a79978ea"
   },
   "outputs": [
    {
     "data": {
      "text/plain": [
       "8"
      ]
     },
     "execution_count": 66,
     "metadata": {},
     "output_type": "execute_result"
    }
   ],
   "source": [
    "a= 'Life is too short'\n",
    "\n",
    "a. index('t')"
   ]
  },
  {
   "cell_type": "code",
   "execution_count": null,
   "metadata": {
    "colab": {
     "base_uri": "https://localhost:8080/",
     "height": 177
    },
    "executionInfo": {
     "elapsed": 319,
     "status": "error",
     "timestamp": 1641274886945,
     "user": {
      "displayName": "Nuka",
      "photoUrl": "https://lh3.googleusercontent.com/a-/AOh14GgzXEbNiG5F4JTW3wieKoLzpVqgW4vsXYaCn0mu=s64",
      "userId": "00108578877416785794"
     },
     "user_tz": -540
    },
    "id": "smQgzPL7midJ",
    "outputId": "25087a5d-2d4a-4286-d090-d0e4e0bf5410"
   },
   "outputs": [
    {
     "ename": "ValueError",
     "evalue": "ignored",
     "output_type": "error",
     "traceback": [
      "\u001b[0;31m---------------------------------------------------------------------------\u001b[0m",
      "\u001b[0;31mValueError\u001b[0m                                Traceback (most recent call last)",
      "\u001b[0;32m<ipython-input-67-d380036473b0>\u001b[0m in \u001b[0;36m<module>\u001b[0;34m()\u001b[0m\n\u001b[0;32m----> 1\u001b[0;31m \u001b[0ma\u001b[0m\u001b[0;34m.\u001b[0m \u001b[0mindex\u001b[0m\u001b[0;34m(\u001b[0m\u001b[0;34m'k'\u001b[0m\u001b[0;34m)\u001b[0m\u001b[0;34m\u001b[0m\u001b[0;34m\u001b[0m\u001b[0m\n\u001b[0m",
      "\u001b[0;31mValueError\u001b[0m: substring not found"
     ]
    }
   ],
   "source": [
    "a. index('k')"
   ]
  },
  {
   "cell_type": "code",
   "execution_count": null,
   "metadata": {
    "colab": {
     "base_uri": "https://localhost:8080/",
     "height": 36
    },
    "executionInfo": {
     "elapsed": 392,
     "status": "ok",
     "timestamp": 1641275075356,
     "user": {
      "displayName": "Nuka",
      "photoUrl": "https://lh3.googleusercontent.com/a-/AOh14GgzXEbNiG5F4JTW3wieKoLzpVqgW4vsXYaCn0mu=s64",
      "userId": "00108578877416785794"
     },
     "user_tz": -540
    },
    "id": "wfaySOHYm0g6",
    "outputId": "f49acfc6-c34c-427c-8758-1a04af347432"
   },
   "outputs": [
    {
     "data": {
      "application/vnd.google.colaboratory.intrinsic+json": {
       "type": "string"
      },
      "text/plain": [
       "'a,b,c,d'"
      ]
     },
     "execution_count": 68,
     "metadata": {},
     "output_type": "execute_result"
    }
   ],
   "source": [
    "',' .join('abcd')"
   ]
  },
  {
   "cell_type": "code",
   "execution_count": null,
   "metadata": {
    "colab": {
     "base_uri": "https://localhost:8080/",
     "height": 36
    },
    "executionInfo": {
     "elapsed": 317,
     "status": "ok",
     "timestamp": 1641275171593,
     "user": {
      "displayName": "Nuka",
      "photoUrl": "https://lh3.googleusercontent.com/a-/AOh14GgzXEbNiG5F4JTW3wieKoLzpVqgW4vsXYaCn0mu=s64",
      "userId": "00108578877416785794"
     },
     "user_tz": -540
    },
    "id": "RPbCbP72nieh",
    "outputId": "fab20d87-5d92-475f-9e5e-96c894295a11"
   },
   "outputs": [
    {
     "data": {
      "application/vnd.google.colaboratory.intrinsic+json": {
       "type": "string"
      },
      "text/plain": [
       "'a,b,c,d'"
      ]
     },
     "execution_count": 69,
     "metadata": {},
     "output_type": "execute_result"
    }
   ],
   "source": [
    "',' .join(['a','b','c','d'])"
   ]
  },
  {
   "cell_type": "code",
   "execution_count": null,
   "metadata": {
    "colab": {
     "base_uri": "https://localhost:8080/",
     "height": 36
    },
    "executionInfo": {
     "elapsed": 309,
     "status": "ok",
     "timestamp": 1641275657195,
     "user": {
      "displayName": "Nuka",
      "photoUrl": "https://lh3.googleusercontent.com/a-/AOh14GgzXEbNiG5F4JTW3wieKoLzpVqgW4vsXYaCn0mu=s64",
      "userId": "00108578877416785794"
     },
     "user_tz": -540
    },
    "id": "8LYcp-d-pn1h",
    "outputId": "0936ee4e-1488-4516-a12e-885ef7ec50fb"
   },
   "outputs": [
    {
     "data": {
      "application/vnd.google.colaboratory.intrinsic+json": {
       "type": "string"
      },
      "text/plain": [
       "'WELCOME'"
      ]
     },
     "execution_count": 71,
     "metadata": {},
     "output_type": "execute_result"
    }
   ],
   "source": [
    "a = 'Welcome'\n",
    "\n",
    "a. upper()"
   ]
  },
  {
   "cell_type": "code",
   "execution_count": null,
   "metadata": {
    "colab": {
     "base_uri": "https://localhost:8080/",
     "height": 36
    },
    "executionInfo": {
     "elapsed": 326,
     "status": "ok",
     "timestamp": 1641275718226,
     "user": {
      "displayName": "Nuka",
      "photoUrl": "https://lh3.googleusercontent.com/a-/AOh14GgzXEbNiG5F4JTW3wieKoLzpVqgW4vsXYaCn0mu=s64",
      "userId": "00108578877416785794"
     },
     "user_tz": -540
    },
    "id": "bKXMElZgpwkZ",
    "outputId": "4315c76a-fcba-4d1a-c89f-8f32df5062b5"
   },
   "outputs": [
    {
     "data": {
      "application/vnd.google.colaboratory.intrinsic+json": {
       "type": "string"
      },
      "text/plain": [
       "'welcome'"
      ]
     },
     "execution_count": 72,
     "metadata": {},
     "output_type": "execute_result"
    }
   ],
   "source": [
    "a. lower()"
   ]
  },
  {
   "cell_type": "code",
   "execution_count": null,
   "metadata": {
    "colab": {
     "base_uri": "https://localhost:8080/",
     "height": 36
    },
    "executionInfo": {
     "elapsed": 306,
     "status": "ok",
     "timestamp": 1641275810042,
     "user": {
      "displayName": "Nuka",
      "photoUrl": "https://lh3.googleusercontent.com/a-/AOh14GgzXEbNiG5F4JTW3wieKoLzpVqgW4vsXYaCn0mu=s64",
      "userId": "00108578877416785794"
     },
     "user_tz": -540
    },
    "id": "ugpwCrYrp_dh",
    "outputId": "15e43c51-8750-4e9c-fffe-4e1b33b0f2ae"
   },
   "outputs": [
    {
     "data": {
      "application/vnd.google.colaboratory.intrinsic+json": {
       "type": "string"
      },
      "text/plain": [
       "'hi'"
      ]
     },
     "execution_count": 73,
     "metadata": {},
     "output_type": "execute_result"
    }
   ],
   "source": [
    "a = '       hi'\n",
    "\n",
    "a. lstrip()"
   ]
  },
  {
   "cell_type": "code",
   "execution_count": null,
   "metadata": {
    "colab": {
     "base_uri": "https://localhost:8080/",
     "height": 36
    },
    "executionInfo": {
     "elapsed": 433,
     "status": "ok",
     "timestamp": 1641275868478,
     "user": {
      "displayName": "Nuka",
      "photoUrl": "https://lh3.googleusercontent.com/a-/AOh14GgzXEbNiG5F4JTW3wieKoLzpVqgW4vsXYaCn0mu=s64",
      "userId": "00108578877416785794"
     },
     "user_tz": -540
    },
    "id": "jYdpWdJmqV4R",
    "outputId": "f407ed6d-b1a6-4c3b-b204-22a2f0006d41"
   },
   "outputs": [
    {
     "data": {
      "application/vnd.google.colaboratory.intrinsic+json": {
       "type": "string"
      },
      "text/plain": [
       "'hi'"
      ]
     },
     "execution_count": 74,
     "metadata": {},
     "output_type": "execute_result"
    }
   ],
   "source": [
    "a. strip()"
   ]
  },
  {
   "cell_type": "code",
   "execution_count": null,
   "metadata": {
    "colab": {
     "base_uri": "https://localhost:8080/",
     "height": 36
    },
    "executionInfo": {
     "elapsed": 347,
     "status": "ok",
     "timestamp": 1641275979223,
     "user": {
      "displayName": "Nuka",
      "photoUrl": "https://lh3.googleusercontent.com/a-/AOh14GgzXEbNiG5F4JTW3wieKoLzpVqgW4vsXYaCn0mu=s64",
      "userId": "00108578877416785794"
     },
     "user_tz": -540
    },
    "id": "TuIlk5LLqkHh",
    "outputId": "ab6d0285-ba1b-4fe1-ecbc-e0069427485f"
   },
   "outputs": [
    {
     "data": {
      "application/vnd.google.colaboratory.intrinsic+json": {
       "type": "string"
      },
      "text/plain": [
       "'Your leg is too short'"
      ]
     },
     "execution_count": 75,
     "metadata": {},
     "output_type": "execute_result"
    }
   ],
   "source": [
    "a='Life is too short'\n",
    "\n",
    "a. replace('Life', 'Your leg')"
   ]
  },
  {
   "cell_type": "code",
   "execution_count": null,
   "metadata": {
    "colab": {
     "base_uri": "https://localhost:8080/",
     "height": 36
    },
    "executionInfo": {
     "elapsed": 287,
     "status": "ok",
     "timestamp": 1641276096028,
     "user": {
      "displayName": "Nuka",
      "photoUrl": "https://lh3.googleusercontent.com/a-/AOh14GgzXEbNiG5F4JTW3wieKoLzpVqgW4vsXYaCn0mu=s64",
      "userId": "00108578877416785794"
     },
     "user_tz": -540
    },
    "id": "eNPvqgDDq_LY",
    "outputId": "eb264def-b7ba-41f8-f739-77c71cdc7ac9"
   },
   "outputs": [
    {
     "data": {
      "application/vnd.google.colaboratory.intrinsic+json": {
       "type": "string"
      },
      "text/plain": [
       "'Your leg is too short'"
      ]
     },
     "execution_count": 76,
     "metadata": {},
     "output_type": "execute_result"
    }
   ],
   "source": [
    "'Your leg' + a[4:]"
   ]
  },
  {
   "cell_type": "code",
   "execution_count": null,
   "metadata": {
    "colab": {
     "base_uri": "https://localhost:8080/"
    },
    "executionInfo": {
     "elapsed": 294,
     "status": "ok",
     "timestamp": 1641276122304,
     "user": {
      "displayName": "Nuka",
      "photoUrl": "https://lh3.googleusercontent.com/a-/AOh14GgzXEbNiG5F4JTW3wieKoLzpVqgW4vsXYaCn0mu=s64",
      "userId": "00108578877416785794"
     },
     "user_tz": -540
    },
    "id": "swaGPrkcrbtR",
    "outputId": "b7161a61-b1df-4302-8c95-e5581af6073d"
   },
   "outputs": [
    {
     "data": {
      "text/plain": [
       "['Life', 'is', 'too', 'short']"
      ]
     },
     "execution_count": 77,
     "metadata": {},
     "output_type": "execute_result"
    }
   ],
   "source": [
    "a. split()"
   ]
  },
  {
   "cell_type": "code",
   "execution_count": null,
   "metadata": {
    "colab": {
     "base_uri": "https://localhost:8080/"
    },
    "executionInfo": {
     "elapsed": 294,
     "status": "ok",
     "timestamp": 1641276222356,
     "user": {
      "displayName": "Nuka",
      "photoUrl": "https://lh3.googleusercontent.com/a-/AOh14GgzXEbNiG5F4JTW3wieKoLzpVqgW4vsXYaCn0mu=s64",
      "userId": "00108578877416785794"
     },
     "user_tz": -540
    },
    "id": "nSRUbGHIriHp",
    "outputId": "f205bfeb-0744-4832-f74a-6a2d293ac3c6"
   },
   "outputs": [
    {
     "data": {
      "text/plain": [
       "['a', 'b', 'c', 'd']"
      ]
     },
     "execution_count": 78,
     "metadata": {},
     "output_type": "execute_result"
    }
   ],
   "source": [
    "a= 'a:b:c:d'\n",
    "\n",
    "a. split(':')"
   ]
  },
  {
   "cell_type": "markdown",
   "metadata": {
    "id": "GC_Vj1K82vI-"
   },
   "source": [
    "### 3.리스트"
   ]
  },
  {
   "cell_type": "code",
   "execution_count": null,
   "metadata": {
    "colab": {
     "base_uri": "https://localhost:8080/"
    },
    "executionInfo": {
     "elapsed": 356,
     "status": "ok",
     "timestamp": 1641279184527,
     "user": {
      "displayName": "Nuka",
      "photoUrl": "https://lh3.googleusercontent.com/a-/AOh14GgzXEbNiG5F4JTW3wieKoLzpVqgW4vsXYaCn0mu=s64",
      "userId": "00108578877416785794"
     },
     "user_tz": -540
    },
    "id": "3MoT4mPCr6i_",
    "outputId": "a5a9c43a-9657-4c41-b0d3-3d75b6e8edd1"
   },
   "outputs": [
    {
     "data": {
      "text/plain": [
       "[1, 3, 5, 7, 9]"
      ]
     },
     "execution_count": 79,
     "metadata": {},
     "output_type": "execute_result"
    }
   ],
   "source": [
    "odd = [1,3,5,7,9]\n",
    "odd"
   ]
  },
  {
   "cell_type": "code",
   "execution_count": null,
   "metadata": {
    "colab": {
     "base_uri": "https://localhost:8080/"
    },
    "executionInfo": {
     "elapsed": 1357,
     "status": "ok",
     "timestamp": 1641279218212,
     "user": {
      "displayName": "Nuka",
      "photoUrl": "https://lh3.googleusercontent.com/a-/AOh14GgzXEbNiG5F4JTW3wieKoLzpVqgW4vsXYaCn0mu=s64",
      "userId": "00108578877416785794"
     },
     "user_tz": -540
    },
    "id": "OeH-cTAm3NdH",
    "outputId": "ff76da44-425c-489a-c43e-3f9c003b3569"
   },
   "outputs": [
    {
     "data": {
      "text/plain": [
       "1"
      ]
     },
     "execution_count": 80,
     "metadata": {},
     "output_type": "execute_result"
    }
   ],
   "source": [
    "odd[0]"
   ]
  },
  {
   "cell_type": "code",
   "execution_count": null,
   "metadata": {
    "colab": {
     "base_uri": "https://localhost:8080/"
    },
    "executionInfo": {
     "elapsed": 320,
     "status": "ok",
     "timestamp": 1641279282932,
     "user": {
      "displayName": "Nuka",
      "photoUrl": "https://lh3.googleusercontent.com/a-/AOh14GgzXEbNiG5F4JTW3wieKoLzpVqgW4vsXYaCn0mu=s64",
      "userId": "00108578877416785794"
     },
     "user_tz": -540
    },
    "id": "jUGkRGo83VtN",
    "outputId": "76962cee-5772-4ac9-fb61-040febcc7cf7"
   },
   "outputs": [
    {
     "data": {
      "text/plain": [
       "[]"
      ]
     },
     "execution_count": 82,
     "metadata": {},
     "output_type": "execute_result"
    }
   ],
   "source": [
    "a = []\n",
    "\n",
    "a"
   ]
  },
  {
   "cell_type": "code",
   "execution_count": null,
   "metadata": {
    "colab": {
     "base_uri": "https://localhost:8080/"
    },
    "executionInfo": {
     "elapsed": 271,
     "status": "ok",
     "timestamp": 1641279362263,
     "user": {
      "displayName": "Nuka",
      "photoUrl": "https://lh3.googleusercontent.com/a-/AOh14GgzXEbNiG5F4JTW3wieKoLzpVqgW4vsXYaCn0mu=s64",
      "userId": "00108578877416785794"
     },
     "user_tz": -540
    },
    "id": "zW0z0cO53dsV",
    "outputId": "a086f33f-899d-444a-c5fc-aaea162c8a9e"
   },
   "outputs": [
    {
     "data": {
      "text/plain": [
       "['I', 'love', 'you']"
      ]
     },
     "execution_count": 84,
     "metadata": {},
     "output_type": "execute_result"
    }
   ],
   "source": [
    "a = ['I','love','you']\n",
    "a"
   ]
  },
  {
   "cell_type": "code",
   "execution_count": null,
   "metadata": {
    "colab": {
     "base_uri": "https://localhost:8080/"
    },
    "executionInfo": {
     "elapsed": 337,
     "status": "ok",
     "timestamp": 1641279402485,
     "user": {
      "displayName": "Nuka",
      "photoUrl": "https://lh3.googleusercontent.com/a-/AOh14GgzXEbNiG5F4JTW3wieKoLzpVqgW4vsXYaCn0mu=s64",
      "userId": "00108578877416785794"
     },
     "user_tz": -540
    },
    "id": "B8ZkTJUD34at",
    "outputId": "19d3303f-b8a9-4781-d1aa-559a60b98b18"
   },
   "outputs": [
    {
     "data": {
      "text/plain": [
       "[1, 2, 'I', 'love', 'you']"
      ]
     },
     "execution_count": 85,
     "metadata": {},
     "output_type": "execute_result"
    }
   ],
   "source": [
    "a = [1,2,'I','love','you']\n",
    "\n",
    "a"
   ]
  },
  {
   "cell_type": "code",
   "execution_count": null,
   "metadata": {
    "colab": {
     "base_uri": "https://localhost:8080/"
    },
    "executionInfo": {
     "elapsed": 880,
     "status": "ok",
     "timestamp": 1641280550028,
     "user": {
      "displayName": "Nuka",
      "photoUrl": "https://lh3.googleusercontent.com/a-/AOh14GgzXEbNiG5F4JTW3wieKoLzpVqgW4vsXYaCn0mu=s64",
      "userId": "00108578877416785794"
     },
     "user_tz": -540
    },
    "id": "uMlUvgGy4C11",
    "outputId": "19bd37df-42ca-4f67-cd8d-384a16a2a394"
   },
   "outputs": [
    {
     "data": {
      "text/plain": [
       "[1, 2, ['I', 'love', 'you']]"
      ]
     },
     "execution_count": 87,
     "metadata": {},
     "output_type": "execute_result"
    }
   ],
   "source": [
    "a = [1,2,['I','love','you']]\n",
    "\n",
    "a"
   ]
  },
  {
   "cell_type": "code",
   "execution_count": null,
   "metadata": {
    "colab": {
     "base_uri": "https://localhost:8080/"
    },
    "executionInfo": {
     "elapsed": 361,
     "status": "ok",
     "timestamp": 1641281254715,
     "user": {
      "displayName": "Nuka",
      "photoUrl": "https://lh3.googleusercontent.com/a-/AOh14GgzXEbNiG5F4JTW3wieKoLzpVqgW4vsXYaCn0mu=s64",
      "userId": "00108578877416785794"
     },
     "user_tz": -540
    },
    "id": "ZBOk243G8ZQ1",
    "outputId": "ddcba76c-d135-44a3-870a-6be77e312a4d"
   },
   "outputs": [
    {
     "data": {
      "text/plain": [
       "[1, 2, 3]"
      ]
     },
     "execution_count": 88,
     "metadata": {},
     "output_type": "execute_result"
    }
   ],
   "source": [
    "a = [1,2,3]\n",
    "a"
   ]
  },
  {
   "cell_type": "code",
   "execution_count": null,
   "metadata": {
    "colab": {
     "base_uri": "https://localhost:8080/"
    },
    "executionInfo": {
     "elapsed": 273,
     "status": "ok",
     "timestamp": 1641281273578,
     "user": {
      "displayName": "Nuka",
      "photoUrl": "https://lh3.googleusercontent.com/a-/AOh14GgzXEbNiG5F4JTW3wieKoLzpVqgW4vsXYaCn0mu=s64",
      "userId": "00108578877416785794"
     },
     "user_tz": -540
    },
    "id": "rBv8IWDR_HIt",
    "outputId": "e3112cc3-9ebe-4608-b7e9-150c4bac1fe4"
   },
   "outputs": [
    {
     "data": {
      "text/plain": [
       "1"
      ]
     },
     "execution_count": 89,
     "metadata": {},
     "output_type": "execute_result"
    }
   ],
   "source": [
    "a[0]"
   ]
  },
  {
   "cell_type": "code",
   "execution_count": null,
   "metadata": {
    "colab": {
     "base_uri": "https://localhost:8080/"
    },
    "executionInfo": {
     "elapsed": 934,
     "status": "ok",
     "timestamp": 1641281295098,
     "user": {
      "displayName": "Nuka",
      "photoUrl": "https://lh3.googleusercontent.com/a-/AOh14GgzXEbNiG5F4JTW3wieKoLzpVqgW4vsXYaCn0mu=s64",
      "userId": "00108578877416785794"
     },
     "user_tz": -540
    },
    "id": "UV7RorOb_LwU",
    "outputId": "5186a47a-656d-4c98-b6b8-a2457239799a"
   },
   "outputs": [
    {
     "data": {
      "text/plain": [
       "4"
      ]
     },
     "execution_count": 91,
     "metadata": {},
     "output_type": "execute_result"
    }
   ],
   "source": [
    "a[0] + a[2]"
   ]
  },
  {
   "cell_type": "code",
   "execution_count": null,
   "metadata": {
    "colab": {
     "base_uri": "https://localhost:8080/"
    },
    "executionInfo": {
     "elapsed": 716,
     "status": "ok",
     "timestamp": 1641281406227,
     "user": {
      "displayName": "Nuka",
      "photoUrl": "https://lh3.googleusercontent.com/a-/AOh14GgzXEbNiG5F4JTW3wieKoLzpVqgW4vsXYaCn0mu=s64",
      "userId": "00108578877416785794"
     },
     "user_tz": -540
    },
    "id": "4Geo_SzB_NeM",
    "outputId": "cc62cd16-3b9e-4e98-fd9e-3e3a54bfcff3"
   },
   "outputs": [
    {
     "data": {
      "text/plain": [
       "3"
      ]
     },
     "execution_count": 95,
     "metadata": {},
     "output_type": "execute_result"
    }
   ],
   "source": [
    "a[-1]"
   ]
  },
  {
   "cell_type": "code",
   "execution_count": 106,
   "metadata": {
    "colab": {
     "base_uri": "https://localhost:8080/"
    },
    "executionInfo": {
     "elapsed": 299,
     "status": "ok",
     "timestamp": 1641286626059,
     "user": {
      "displayName": "Nuka",
      "photoUrl": "https://lh3.googleusercontent.com/a-/AOh14GgzXEbNiG5F4JTW3wieKoLzpVqgW4vsXYaCn0mu=s64",
      "userId": "00108578877416785794"
     },
     "user_tz": -540
    },
    "id": "InK8cPKi_fQc",
    "outputId": "ac0c6c9e-d947-4027-d363-1f8dd68eaaaf"
   },
   "outputs": [
    {
     "data": {
      "text/plain": [
       "1"
      ]
     },
     "execution_count": 106,
     "metadata": {},
     "output_type": "execute_result"
    }
   ],
   "source": [
    "a=[1, 2, ['I', 'love', 'you']]\n",
    "\n",
    "a[0]"
   ]
  },
  {
   "cell_type": "code",
   "execution_count": null,
   "metadata": {
    "colab": {
     "base_uri": "https://localhost:8080/"
    },
    "executionInfo": {
     "elapsed": 279,
     "status": "ok",
     "timestamp": 1641281450478,
     "user": {
      "displayName": "Nuka",
      "photoUrl": "https://lh3.googleusercontent.com/a-/AOh14GgzXEbNiG5F4JTW3wieKoLzpVqgW4vsXYaCn0mu=s64",
      "userId": "00108578877416785794"
     },
     "user_tz": -540
    },
    "id": "MGiEuykI_x2U",
    "outputId": "f4e156a7-92ef-4a8e-9364-87e312adc03b"
   },
   "outputs": [
    {
     "data": {
      "text/plain": [
       "['I', 'love', 'you']"
      ]
     },
     "execution_count": 97,
     "metadata": {},
     "output_type": "execute_result"
    }
   ],
   "source": [
    "a[-1]"
   ]
  },
  {
   "cell_type": "code",
   "execution_count": null,
   "metadata": {
    "colab": {
     "base_uri": "https://localhost:8080/",
     "height": 36
    },
    "executionInfo": {
     "elapsed": 285,
     "status": "ok",
     "timestamp": 1641281516000,
     "user": {
      "displayName": "Nuka",
      "photoUrl": "https://lh3.googleusercontent.com/a-/AOh14GgzXEbNiG5F4JTW3wieKoLzpVqgW4vsXYaCn0mu=s64",
      "userId": "00108578877416785794"
     },
     "user_tz": -540
    },
    "id": "r6SYbLZN_29E",
    "outputId": "ac9edecc-649b-4440-d039-2cd487be6450"
   },
   "outputs": [
    {
     "data": {
      "application/vnd.google.colaboratory.intrinsic+json": {
       "type": "string"
      },
      "text/plain": [
       "'love'"
      ]
     },
     "execution_count": 98,
     "metadata": {},
     "output_type": "execute_result"
    }
   ],
   "source": [
    "a[-1][1]"
   ]
  },
  {
   "cell_type": "code",
   "execution_count": null,
   "metadata": {
    "colab": {
     "base_uri": "https://localhost:8080/"
    },
    "executionInfo": {
     "elapsed": 279,
     "status": "ok",
     "timestamp": 1641281743368,
     "user": {
      "displayName": "Nuka",
      "photoUrl": "https://lh3.googleusercontent.com/a-/AOh14GgzXEbNiG5F4JTW3wieKoLzpVqgW4vsXYaCn0mu=s64",
      "userId": "00108578877416785794"
     },
     "user_tz": -540
    },
    "id": "zBzAVtRHAG8k",
    "outputId": "0002c116-fff4-4dc5-8f08-7b4db9bb689f"
   },
   "outputs": [
    {
     "data": {
      "text/plain": [
       "[1, 2, ['a', 'b', ['life', 'is', 'good']]]"
      ]
     },
     "execution_count": 99,
     "metadata": {},
     "output_type": "execute_result"
    }
   ],
   "source": [
    "a=[1,2, ['a','b',['life', 'is','good']]]\n",
    "\n",
    "a"
   ]
  },
  {
   "cell_type": "code",
   "execution_count": 108,
   "metadata": {
    "colab": {
     "base_uri": "https://localhost:8080/",
     "height": 36
    },
    "executionInfo": {
     "elapsed": 3,
     "status": "ok",
     "timestamp": 1641286658942,
     "user": {
      "displayName": "Nuka",
      "photoUrl": "https://lh3.googleusercontent.com/a-/AOh14GgzXEbNiG5F4JTW3wieKoLzpVqgW4vsXYaCn0mu=s64",
      "userId": "00108578877416785794"
     },
     "user_tz": -540
    },
    "id": "KaNktdzZA-dD",
    "outputId": "8c08e019-d2fe-494a-c4ce-30d1b082b412"
   },
   "outputs": [
    {
     "data": {
      "application/vnd.google.colaboratory.intrinsic+json": {
       "type": "string"
      },
      "text/plain": [
       "'life'"
      ]
     },
     "execution_count": 108,
     "metadata": {},
     "output_type": "execute_result"
    }
   ],
   "source": [
    "a=[1,2,['a','b',['life', 'is', 'good', [3,4,5]]]]\n",
    "\n",
    "a[2][2][0]"
   ]
  },
  {
   "cell_type": "code",
   "execution_count": 109,
   "metadata": {
    "colab": {
     "base_uri": "https://localhost:8080/",
     "height": 36
    },
    "executionInfo": {
     "elapsed": 320,
     "status": "ok",
     "timestamp": 1641287025936,
     "user": {
      "displayName": "Nuka",
      "photoUrl": "https://lh3.googleusercontent.com/a-/AOh14GgzXEbNiG5F4JTW3wieKoLzpVqgW4vsXYaCn0mu=s64",
      "userId": "00108578877416785794"
     },
     "user_tz": -540
    },
    "id": "2HLMJBABBGlk",
    "outputId": "12f0960d-2b09-4952-b2e1-7af0c9d2b031"
   },
   "outputs": [
    {
     "data": {
      "application/vnd.google.colaboratory.intrinsic+json": {
       "type": "string"
      },
      "text/plain": [
       "'love'"
      ]
     },
     "execution_count": 109,
     "metadata": {},
     "output_type": "execute_result"
    }
   ],
   "source": [
    "a=[1, 2, ['I', 'love', 'you']]\n",
    "a[-1][1]"
   ]
  },
  {
   "cell_type": "code",
   "execution_count": null,
   "metadata": {
    "id": "ur8kBT9vVIEH"
   },
   "outputs": [],
   "source": []
  }
 ],
 "metadata": {
  "colab": {
   "authorship_tag": "ABX9TyM7KT/WcmQKTa5+/5pH9TKJ",
   "collapsed_sections": [],
   "name": "20220104.ipynb",
   "provenance": []
  },
  "kernelspec": {
   "display_name": "Python 3 (ipykernel)",
   "language": "python",
   "name": "python3"
  },
  "language_info": {
   "codemirror_mode": {
    "name": "ipython",
    "version": 3
   },
   "file_extension": ".py",
   "mimetype": "text/x-python",
   "name": "python",
   "nbconvert_exporter": "python",
   "pygments_lexer": "ipython3",
   "version": "3.9.7"
  }
 },
 "nbformat": 4,
 "nbformat_minor": 1
}
