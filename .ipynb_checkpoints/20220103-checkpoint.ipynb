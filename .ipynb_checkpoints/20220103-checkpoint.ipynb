{
 "cells": [
  {
   "cell_type": "code",
   "execution_count": null,
   "metadata": {
    "colab": {
     "base_uri": "https://localhost:8080/"
    },
    "executionInfo": {
     "elapsed": 920,
     "status": "ok",
     "timestamp": 1641189043476,
     "user": {
      "displayName": "Nuka",
      "photoUrl": "https://lh3.googleusercontent.com/a-/AOh14GgzXEbNiG5F4JTW3wieKoLzpVqgW4vsXYaCn0mu=s64",
      "userId": "00108578877416785794"
     },
     "user_tz": -540
    },
    "id": "fktZ1hA5a034",
    "outputId": "ad513122-591d-40bf-a258-aaa566902679"
   },
   "outputs": [
    {
     "data": {
      "text/plain": [
       "123"
      ]
     },
     "execution_count": 1,
     "metadata": {},
     "output_type": "execute_result"
    }
   ],
   "source": [
    "a=123\n",
    "a"
   ]
  },
  {
   "cell_type": "code",
   "execution_count": null,
   "metadata": {
    "colab": {
     "base_uri": "https://localhost:8080/"
    },
    "executionInfo": {
     "elapsed": 1,
     "status": "ok",
     "timestamp": 1641189080425,
     "user": {
      "displayName": "Nuka",
      "photoUrl": "https://lh3.googleusercontent.com/a-/AOh14GgzXEbNiG5F4JTW3wieKoLzpVqgW4vsXYaCn0mu=s64",
      "userId": "00108578877416785794"
     },
     "user_tz": -540
    },
    "id": "lUA8kYNhfTqi",
    "outputId": "bfd862fa-4b81-4ac0-ef85-01b5d7a26582"
   },
   "outputs": [
    {
     "data": {
      "text/plain": [
       "-178"
      ]
     },
     "execution_count": 2,
     "metadata": {},
     "output_type": "execute_result"
    }
   ],
   "source": [
    "a= -178\n",
    "a"
   ]
  },
  {
   "cell_type": "code",
   "execution_count": null,
   "metadata": {
    "colab": {
     "base_uri": "https://localhost:8080/"
    },
    "executionInfo": {
     "elapsed": 2,
     "status": "ok",
     "timestamp": 1641189094849,
     "user": {
      "displayName": "Nuka",
      "photoUrl": "https://lh3.googleusercontent.com/a-/AOh14GgzXEbNiG5F4JTW3wieKoLzpVqgW4vsXYaCn0mu=s64",
      "userId": "00108578877416785794"
     },
     "user_tz": -540
    },
    "id": "ScUreKz1ffmI",
    "outputId": "23189b3b-7982-4d4c-b879-fe827c869131"
   },
   "outputs": [
    {
     "data": {
      "text/plain": [
       "1.2"
      ]
     },
     "execution_count": 3,
     "metadata": {},
     "output_type": "execute_result"
    }
   ],
   "source": [
    "a= 1.2\n",
    "a"
   ]
  },
  {
   "cell_type": "code",
   "execution_count": null,
   "metadata": {
    "colab": {
     "base_uri": "https://localhost:8080/"
    },
    "executionInfo": {
     "elapsed": 2,
     "status": "ok",
     "timestamp": 1641189112345,
     "user": {
      "displayName": "Nuka",
      "photoUrl": "https://lh3.googleusercontent.com/a-/AOh14GgzXEbNiG5F4JTW3wieKoLzpVqgW4vsXYaCn0mu=s64",
      "userId": "00108578877416785794"
     },
     "user_tz": -540
    },
    "id": "gP02T6DYfjG5",
    "outputId": "390e5f38-c987-4200-c628-e92ef510e50d"
   },
   "outputs": [
    {
     "data": {
      "text/plain": [
       "127"
      ]
     },
     "execution_count": 4,
     "metadata": {},
     "output_type": "execute_result"
    }
   ],
   "source": [
    "a = 0o177\n",
    "a"
   ]
  },
  {
   "cell_type": "code",
   "execution_count": null,
   "metadata": {
    "colab": {
     "base_uri": "https://localhost:8080/"
    },
    "executionInfo": {
     "elapsed": 4,
     "status": "ok",
     "timestamp": 1641189127725,
     "user": {
      "displayName": "Nuka",
      "photoUrl": "https://lh3.googleusercontent.com/a-/AOh14GgzXEbNiG5F4JTW3wieKoLzpVqgW4vsXYaCn0mu=s64",
      "userId": "00108578877416785794"
     },
     "user_tz": -540
    },
    "id": "U1qFiInKfnYR",
    "outputId": "71b126e5-31fb-4c9c-8950-209e031bee05"
   },
   "outputs": [
    {
     "data": {
      "text/plain": [
       "255"
      ]
     },
     "execution_count": 5,
     "metadata": {},
     "output_type": "execute_result"
    }
   ],
   "source": [
    "a = 0xff\n",
    "a"
   ]
  },
  {
   "cell_type": "code",
   "execution_count": null,
   "metadata": {
    "colab": {
     "base_uri": "https://localhost:8080/"
    },
    "executionInfo": {
     "elapsed": 3,
     "status": "ok",
     "timestamp": 1641189209698,
     "user": {
      "displayName": "Nuka",
      "photoUrl": "https://lh3.googleusercontent.com/a-/AOh14GgzXEbNiG5F4JTW3wieKoLzpVqgW4vsXYaCn0mu=s64",
      "userId": "00108578877416785794"
     },
     "user_tz": -540
    },
    "id": "FUd4v_6nfrHZ",
    "outputId": "be739374-9995-4080-d268-277bcaee9abe"
   },
   "outputs": [
    {
     "data": {
      "text/plain": [
       "2303"
      ]
     },
     "execution_count": 6,
     "metadata": {},
     "output_type": "execute_result"
    }
   ],
   "source": [
    "a = 0x8ff\n",
    "a"
   ]
  },
  {
   "cell_type": "code",
   "execution_count": null,
   "metadata": {
    "colab": {
     "base_uri": "https://localhost:8080/"
    },
    "executionInfo": {
     "elapsed": 3,
     "status": "ok",
     "timestamp": 1641189378165,
     "user": {
      "displayName": "Nuka",
      "photoUrl": "https://lh3.googleusercontent.com/a-/AOh14GgzXEbNiG5F4JTW3wieKoLzpVqgW4vsXYaCn0mu=s64",
      "userId": "00108578877416785794"
     },
     "user_tz": -540
    },
    "id": "Bug2K4Owf-7Y",
    "outputId": "50fafa04-e2c9-4c0b-ab4d-8767f9c78281"
   },
   "outputs": [
    {
     "data": {
      "text/plain": [
       "7"
      ]
     },
     "execution_count": 7,
     "metadata": {},
     "output_type": "execute_result"
    }
   ],
   "source": [
    "a = 3\n",
    "b = 4\n",
    "\n",
    "a+ b"
   ]
  },
  {
   "cell_type": "code",
   "execution_count": null,
   "metadata": {
    "colab": {
     "base_uri": "https://localhost:8080/"
    },
    "executionInfo": {
     "elapsed": 3,
     "status": "ok",
     "timestamp": 1641189387395,
     "user": {
      "displayName": "Nuka",
      "photoUrl": "https://lh3.googleusercontent.com/a-/AOh14GgzXEbNiG5F4JTW3wieKoLzpVqgW4vsXYaCn0mu=s64",
      "userId": "00108578877416785794"
     },
     "user_tz": -540
    },
    "id": "svZ1hxSngoSY",
    "outputId": "ddc5197b-a364-4e2e-e2b5-46ef226e6556"
   },
   "outputs": [
    {
     "data": {
      "text/plain": [
       "-1"
      ]
     },
     "execution_count": 8,
     "metadata": {},
     "output_type": "execute_result"
    }
   ],
   "source": [
    "a= 3\n",
    "b=4\n",
    "a-b"
   ]
  },
  {
   "cell_type": "code",
   "execution_count": null,
   "metadata": {
    "colab": {
     "base_uri": "https://localhost:8080/"
    },
    "executionInfo": {
     "elapsed": 3,
     "status": "ok",
     "timestamp": 1641189402540,
     "user": {
      "displayName": "Nuka",
      "photoUrl": "https://lh3.googleusercontent.com/a-/AOh14GgzXEbNiG5F4JTW3wieKoLzpVqgW4vsXYaCn0mu=s64",
      "userId": "00108578877416785794"
     },
     "user_tz": -540
    },
    "id": "kD2_B09cgqgh",
    "outputId": "87f58fe4-db51-4a7e-abe5-e4cfa2edecc3"
   },
   "outputs": [
    {
     "data": {
      "text/plain": [
       "81"
      ]
     },
     "execution_count": 9,
     "metadata": {},
     "output_type": "execute_result"
    }
   ],
   "source": [
    "a=3\n",
    "b=4\n",
    "a**b"
   ]
  },
  {
   "cell_type": "code",
   "execution_count": null,
   "metadata": {
    "colab": {
     "base_uri": "https://localhost:8080/"
    },
    "executionInfo": {
     "elapsed": 3,
     "status": "ok",
     "timestamp": 1641189445344,
     "user": {
      "displayName": "Nuka",
      "photoUrl": "https://lh3.googleusercontent.com/a-/AOh14GgzXEbNiG5F4JTW3wieKoLzpVqgW4vsXYaCn0mu=s64",
      "userId": "00108578877416785794"
     },
     "user_tz": -540
    },
    "id": "tfjyOc-0guVZ",
    "outputId": "ff7abd27-c9a0-4ed6-dfa7-8e34b51bd4ad"
   },
   "outputs": [
    {
     "data": {
      "text/plain": [
       "7"
      ]
     },
     "execution_count": 10,
     "metadata": {},
     "output_type": "execute_result"
    }
   ],
   "source": [
    "a = 3\n",
    "b = 4\n",
    "\n",
    "a + b"
   ]
  },
  {
   "cell_type": "code",
   "execution_count": null,
   "metadata": {
    "colab": {
     "base_uri": "https://localhost:8080/"
    },
    "executionInfo": {
     "elapsed": 3,
     "status": "ok",
     "timestamp": 1641189454435,
     "user": {
      "displayName": "Nuka",
      "photoUrl": "https://lh3.googleusercontent.com/a-/AOh14GgzXEbNiG5F4JTW3wieKoLzpVqgW4vsXYaCn0mu=s64",
      "userId": "00108578877416785794"
     },
     "user_tz": -540
    },
    "id": "l3ukAdYMg4yY",
    "outputId": "96bfa3ca-eb8b-474a-f264-8c9927cdf182"
   },
   "outputs": [
    {
     "data": {
      "text/plain": [
       "12"
      ]
     },
     "execution_count": 11,
     "metadata": {},
     "output_type": "execute_result"
    }
   ],
   "source": [
    "a * b"
   ]
  },
  {
   "cell_type": "code",
   "execution_count": null,
   "metadata": {
    "colab": {
     "base_uri": "https://localhost:8080/"
    },
    "executionInfo": {
     "elapsed": 4,
     "status": "ok",
     "timestamp": 1641189465804,
     "user": {
      "displayName": "Nuka",
      "photoUrl": "https://lh3.googleusercontent.com/a-/AOh14GgzXEbNiG5F4JTW3wieKoLzpVqgW4vsXYaCn0mu=s64",
      "userId": "00108578877416785794"
     },
     "user_tz": -540
    },
    "id": "2flg0Y9jg66I",
    "outputId": "9d6b463f-f987-4996-9780-05915ac0ae74"
   },
   "outputs": [
    {
     "data": {
      "text/plain": [
       "1.75"
      ]
     },
     "execution_count": 12,
     "metadata": {},
     "output_type": "execute_result"
    }
   ],
   "source": [
    "7/4"
   ]
  },
  {
   "cell_type": "code",
   "execution_count": null,
   "metadata": {
    "colab": {
     "base_uri": "https://localhost:8080/"
    },
    "executionInfo": {
     "elapsed": 3,
     "status": "ok",
     "timestamp": 1641189470666,
     "user": {
      "displayName": "Nuka",
      "photoUrl": "https://lh3.googleusercontent.com/a-/AOh14GgzXEbNiG5F4JTW3wieKoLzpVqgW4vsXYaCn0mu=s64",
      "userId": "00108578877416785794"
     },
     "user_tz": -540
    },
    "id": "tkVtlBX_g9sQ",
    "outputId": "4e231078-60f8-41d9-fb50-320d8ad23c59"
   },
   "outputs": [
    {
     "data": {
      "text/plain": [
       "1"
      ]
     },
     "execution_count": 13,
     "metadata": {},
     "output_type": "execute_result"
    }
   ],
   "source": [
    "7//4"
   ]
  },
  {
   "cell_type": "code",
   "execution_count": null,
   "metadata": {
    "colab": {
     "base_uri": "https://localhost:8080/"
    },
    "executionInfo": {
     "elapsed": 3,
     "status": "ok",
     "timestamp": 1641189504669,
     "user": {
      "displayName": "Nuka",
      "photoUrl": "https://lh3.googleusercontent.com/a-/AOh14GgzXEbNiG5F4JTW3wieKoLzpVqgW4vsXYaCn0mu=s64",
      "userId": "00108578877416785794"
     },
     "user_tz": -540
    },
    "id": "rlqC5VMAg-4A",
    "outputId": "f919bf31-f031-4e78-cb1b-416ce602439d"
   },
   "outputs": [
    {
     "data": {
      "text/plain": [
       "3"
      ]
     },
     "execution_count": 14,
     "metadata": {},
     "output_type": "execute_result"
    }
   ],
   "source": [
    "a % b"
   ]
  },
  {
   "cell_type": "code",
   "execution_count": null,
   "metadata": {
    "colab": {
     "base_uri": "https://localhost:8080/",
     "height": 36
    },
    "executionInfo": {
     "elapsed": 8,
     "status": "ok",
     "timestamp": 1641189677723,
     "user": {
      "displayName": "Nuka",
      "photoUrl": "https://lh3.googleusercontent.com/a-/AOh14GgzXEbNiG5F4JTW3wieKoLzpVqgW4vsXYaCn0mu=s64",
      "userId": "00108578877416785794"
     },
     "user_tz": -540
    },
    "id": "QkhccqjyhHMw",
    "outputId": "3226d04a-f343-42a8-f364-6b8da91429c9"
   },
   "outputs": [
    {
     "data": {
      "application/vnd.google.colaboratory.intrinsic+json": {
       "type": "string"
      },
      "text/plain": [
       "'Hello World'"
      ]
     },
     "execution_count": 15,
     "metadata": {},
     "output_type": "execute_result"
    }
   ],
   "source": [
    "str = \"Hello World\"\n",
    "str"
   ]
  },
  {
   "cell_type": "code",
   "execution_count": null,
   "metadata": {
    "colab": {
     "base_uri": "https://localhost:8080/"
    },
    "executionInfo": {
     "elapsed": 3,
     "status": "ok",
     "timestamp": 1641189695320,
     "user": {
      "displayName": "Nuka",
      "photoUrl": "https://lh3.googleusercontent.com/a-/AOh14GgzXEbNiG5F4JTW3wieKoLzpVqgW4vsXYaCn0mu=s64",
      "userId": "00108578877416785794"
     },
     "user_tz": -540
    },
    "id": "RwQI9e-NhxbI",
    "outputId": "ad5c7258-a5c4-40a8-8346-6ef72b5753d3"
   },
   "outputs": [
    {
     "data": {
      "text/plain": [
       "str"
      ]
     },
     "execution_count": 16,
     "metadata": {},
     "output_type": "execute_result"
    }
   ],
   "source": [
    "type('Hello World')"
   ]
  },
  {
   "cell_type": "code",
   "execution_count": null,
   "metadata": {
    "colab": {
     "base_uri": "https://localhost:8080/",
     "height": 36
    },
    "executionInfo": {
     "elapsed": 4,
     "status": "ok",
     "timestamp": 1641189739027,
     "user": {
      "displayName": "Nuka",
      "photoUrl": "https://lh3.googleusercontent.com/a-/AOh14GgzXEbNiG5F4JTW3wieKoLzpVqgW4vsXYaCn0mu=s64",
      "userId": "00108578877416785794"
     },
     "user_tz": -540
    },
    "id": "30LN7xFTh5-w",
    "outputId": "0a4e1814-f714-4d73-c9b3-b48ab6959f32"
   },
   "outputs": [
    {
     "data": {
      "application/vnd.google.colaboratory.intrinsic+json": {
       "type": "string"
      },
      "text/plain": [
       "'python'"
      ]
     },
     "execution_count": 18,
     "metadata": {},
     "output_type": "execute_result"
    }
   ],
   "source": [
    "str2 = 'python'\n",
    "str2"
   ]
  },
  {
   "cell_type": "code",
   "execution_count": null,
   "metadata": {
    "colab": {
     "base_uri": "https://localhost:8080/",
     "height": 36
    },
    "executionInfo": {
     "elapsed": 5,
     "status": "ok",
     "timestamp": 1641189824273,
     "user": {
      "displayName": "Nuka",
      "photoUrl": "https://lh3.googleusercontent.com/a-/AOh14GgzXEbNiG5F4JTW3wieKoLzpVqgW4vsXYaCn0mu=s64",
      "userId": "00108578877416785794"
     },
     "user_tz": -540
    },
    "id": "fMiYCsADiNIA",
    "outputId": "8f87285b-3609-4df8-f202-5c5aae8f7e3c"
   },
   "outputs": [
    {
     "data": {
      "application/vnd.google.colaboratory.intrinsic+json": {
       "type": "string"
      },
      "text/plain": [
       "'Life is too Short'"
      ]
     },
     "execution_count": 21,
     "metadata": {},
     "output_type": "execute_result"
    }
   ],
   "source": [
    "str3 = \"\"\"Life is too Short\"\"\"\n",
    "str3"
   ]
  },
  {
   "cell_type": "code",
   "execution_count": null,
   "metadata": {
    "id": "s0qU9K4RiVRJ"
   },
   "outputs": [],
   "source": [
    "str4 = '''Life\n",
    "is\n",
    "Too\n",
    "Short\n",
    "'''"
   ]
  },
  {
   "cell_type": "code",
   "execution_count": null,
   "metadata": {
    "colab": {
     "base_uri": "https://localhost:8080/",
     "height": 36
    },
    "executionInfo": {
     "elapsed": 5,
     "status": "ok",
     "timestamp": 1641189964476,
     "user": {
      "displayName": "Nuka",
      "photoUrl": "https://lh3.googleusercontent.com/a-/AOh14GgzXEbNiG5F4JTW3wieKoLzpVqgW4vsXYaCn0mu=s64",
      "userId": "00108578877416785794"
     },
     "user_tz": -540
    },
    "id": "3GPskU0VixDn",
    "outputId": "11892ea6-6a31-47ba-ebcc-d6ebce5033ec"
   },
   "outputs": [
    {
     "data": {
      "application/vnd.google.colaboratory.intrinsic+json": {
       "type": "string"
      },
      "text/plain": [
       "'Life\\nis\\nToo\\nShort\\n'"
      ]
     },
     "execution_count": 24,
     "metadata": {},
     "output_type": "execute_result"
    }
   ],
   "source": [
    "str4"
   ]
  },
  {
   "cell_type": "code",
   "execution_count": null,
   "metadata": {
    "id": "uiYsI4yWiyFn"
   },
   "outputs": [],
   "source": [
    "str5 = '\"i love you\", he said'"
   ]
  },
  {
   "cell_type": "code",
   "execution_count": null,
   "metadata": {
    "colab": {
     "base_uri": "https://localhost:8080/",
     "height": 36
    },
    "executionInfo": {
     "elapsed": 5,
     "status": "ok",
     "timestamp": 1641190026353,
     "user": {
      "displayName": "Nuka",
      "photoUrl": "https://lh3.googleusercontent.com/a-/AOh14GgzXEbNiG5F4JTW3wieKoLzpVqgW4vsXYaCn0mu=s64",
      "userId": "00108578877416785794"
     },
     "user_tz": -540
    },
    "id": "ClEyaVSyjFYI",
    "outputId": "23b9d15e-d446-466a-b0c3-90a3ff20fb98"
   },
   "outputs": [
    {
     "data": {
      "application/vnd.google.colaboratory.intrinsic+json": {
       "type": "string"
      },
      "text/plain": [
       "'\"i love you\", he said'"
      ]
     },
     "execution_count": 26,
     "metadata": {},
     "output_type": "execute_result"
    }
   ],
   "source": [
    "str5"
   ]
  },
  {
   "cell_type": "code",
   "execution_count": null,
   "metadata": {
    "id": "CwPOHu4ojGgH"
   },
   "outputs": [],
   "source": [
    "str6 = 'it\\'s mine'"
   ]
  },
  {
   "cell_type": "code",
   "execution_count": null,
   "metadata": {
    "colab": {
     "base_uri": "https://localhost:8080/",
     "height": 36
    },
    "executionInfo": {
     "elapsed": 4,
     "status": "ok",
     "timestamp": 1641190057881,
     "user": {
      "displayName": "Nuka",
      "photoUrl": "https://lh3.googleusercontent.com/a-/AOh14GgzXEbNiG5F4JTW3wieKoLzpVqgW4vsXYaCn0mu=s64",
      "userId": "00108578877416785794"
     },
     "user_tz": -540
    },
    "id": "dncX2Ft4jM43",
    "outputId": "1d78c5ce-abc5-4a21-bbcc-b33a06f84982"
   },
   "outputs": [
    {
     "data": {
      "application/vnd.google.colaboratory.intrinsic+json": {
       "type": "string"
      },
      "text/plain": [
       "\"it's mine\""
      ]
     },
     "execution_count": 28,
     "metadata": {},
     "output_type": "execute_result"
    }
   ],
   "source": [
    "str6"
   ]
  },
  {
   "cell_type": "code",
   "execution_count": null,
   "metadata": {
    "id": "MullRAaRjOQX"
   },
   "outputs": [],
   "source": [
    "food = \"python's favorite food is perl\""
   ]
  },
  {
   "cell_type": "code",
   "execution_count": null,
   "metadata": {
    "colab": {
     "base_uri": "https://localhost:8080/",
     "height": 36
    },
    "executionInfo": {
     "elapsed": 6,
     "status": "ok",
     "timestamp": 1641190413806,
     "user": {
      "displayName": "Nuka",
      "photoUrl": "https://lh3.googleusercontent.com/a-/AOh14GgzXEbNiG5F4JTW3wieKoLzpVqgW4vsXYaCn0mu=s64",
      "userId": "00108578877416785794"
     },
     "user_tz": -540
    },
    "id": "bjIkVdizkj7f",
    "outputId": "79700342-67e7-4570-f141-decf6088729f"
   },
   "outputs": [
    {
     "data": {
      "application/vnd.google.colaboratory.intrinsic+json": {
       "type": "string"
      },
      "text/plain": [
       "\"python's favorite food is perl\""
      ]
     },
     "execution_count": 33,
     "metadata": {},
     "output_type": "execute_result"
    }
   ],
   "source": [
    "food"
   ]
  },
  {
   "cell_type": "code",
   "execution_count": null,
   "metadata": {
    "id": "m20j6TnUklIn"
   },
   "outputs": [],
   "source": [
    "say = '\"python is very easy.\" he says.'"
   ]
  },
  {
   "cell_type": "code",
   "execution_count": null,
   "metadata": {
    "colab": {
     "base_uri": "https://localhost:8080/",
     "height": 36
    },
    "executionInfo": {
     "elapsed": 291,
     "status": "ok",
     "timestamp": 1641190454629,
     "user": {
      "displayName": "Nuka",
      "photoUrl": "https://lh3.googleusercontent.com/a-/AOh14GgzXEbNiG5F4JTW3wieKoLzpVqgW4vsXYaCn0mu=s64",
      "userId": "00108578877416785794"
     },
     "user_tz": -540
    },
    "id": "zMHuk1--kuDn",
    "outputId": "51e23e5e-cb2b-4abc-b7ff-5dd950f4d9b5"
   },
   "outputs": [
    {
     "data": {
      "application/vnd.google.colaboratory.intrinsic+json": {
       "type": "string"
      },
      "text/plain": [
       "'\"python is very easy.\" he says.'"
      ]
     },
     "execution_count": 35,
     "metadata": {},
     "output_type": "execute_result"
    }
   ],
   "source": [
    "say"
   ]
  },
  {
   "cell_type": "code",
   "execution_count": null,
   "metadata": {
    "id": "b6wDTPhkku8f"
   },
   "outputs": [],
   "source": [
    "food = 'python\\'s favorite food is perl'"
   ]
  },
  {
   "cell_type": "code",
   "execution_count": null,
   "metadata": {
    "colab": {
     "base_uri": "https://localhost:8080/",
     "height": 36
    },
    "executionInfo": {
     "elapsed": 5,
     "status": "ok",
     "timestamp": 1641190508427,
     "user": {
      "displayName": "Nuka",
      "photoUrl": "https://lh3.googleusercontent.com/a-/AOh14GgzXEbNiG5F4JTW3wieKoLzpVqgW4vsXYaCn0mu=s64",
      "userId": "00108578877416785794"
     },
     "user_tz": -540
    },
    "id": "eLOESXN4k7hf",
    "outputId": "a0937c47-8f7d-4ca8-9547-1900525297c5"
   },
   "outputs": [
    {
     "data": {
      "application/vnd.google.colaboratory.intrinsic+json": {
       "type": "string"
      },
      "text/plain": [
       "\"python's favorite food is perl\""
      ]
     },
     "execution_count": 37,
     "metadata": {},
     "output_type": "execute_result"
    }
   ],
   "source": [
    "food"
   ]
  },
  {
   "cell_type": "code",
   "execution_count": null,
   "metadata": {
    "colab": {
     "base_uri": "https://localhost:8080/",
     "height": 36
    },
    "executionInfo": {
     "elapsed": 301,
     "status": "ok",
     "timestamp": 1641190984101,
     "user": {
      "displayName": "Nuka",
      "photoUrl": "https://lh3.googleusercontent.com/a-/AOh14GgzXEbNiG5F4JTW3wieKoLzpVqgW4vsXYaCn0mu=s64",
      "userId": "00108578877416785794"
     },
     "user_tz": -540
    },
    "id": "WTNEPQRXk8O4",
    "outputId": "8b4fdd86-cfe7-4504-e03c-6816ded08b0b"
   },
   "outputs": [
    {
     "data": {
      "application/vnd.google.colaboratory.intrinsic+json": {
       "type": "string"
      },
      "text/plain": [
       "'\"python is very easy.\" he says.'"
      ]
     },
     "execution_count": 54,
     "metadata": {},
     "output_type": "execute_result"
    }
   ],
   "source": [
    "say = \"\\\"python is very easy.\\\" he says.\"\n",
    "say"
   ]
  },
  {
   "cell_type": "code",
   "execution_count": null,
   "metadata": {
    "colab": {
     "base_uri": "https://localhost:8080/"
    },
    "executionInfo": {
     "elapsed": 318,
     "status": "ok",
     "timestamp": 1641190869653,
     "user": {
      "displayName": "Nuka",
      "photoUrl": "https://lh3.googleusercontent.com/a-/AOh14GgzXEbNiG5F4JTW3wieKoLzpVqgW4vsXYaCn0mu=s64",
      "userId": "00108578877416785794"
     },
     "user_tz": -540
    },
    "id": "8sy8oWPQlJp2",
    "outputId": "fb2e1c42-2190-4705-b1e2-4496f4cc9a0f"
   },
   "outputs": [
    {
     "name": "stdout",
     "output_type": "stream",
     "text": [
      "\"python is very easy.\" he says.\n"
     ]
    }
   ],
   "source": [
    "print(say)"
   ]
  },
  {
   "cell_type": "code",
   "execution_count": null,
   "metadata": {
    "colab": {
     "base_uri": "https://localhost:8080/",
     "height": 36
    },
    "executionInfo": {
     "elapsed": 7,
     "status": "ok",
     "timestamp": 1641190923713,
     "user": {
      "displayName": "Nuka",
      "photoUrl": "https://lh3.googleusercontent.com/a-/AOh14GgzXEbNiG5F4JTW3wieKoLzpVqgW4vsXYaCn0mu=s64",
      "userId": "00108578877416785794"
     },
     "user_tz": -540
    },
    "id": "QtY8jm6nlKZm",
    "outputId": "3a4d60c8-348f-433f-a1a1-a674a6caa458"
   },
   "outputs": [
    {
     "data": {
      "application/vnd.google.colaboratory.intrinsic+json": {
       "type": "string"
      },
      "text/plain": [
       "'life is too short\\nYou need pyton'"
      ]
     },
     "execution_count": 53,
     "metadata": {},
     "output_type": "execute_result"
    }
   ],
   "source": [
    "multiline = \"life is too short\\nYou need pyton\"\n",
    "multiline"
   ]
  },
  {
   "cell_type": "code",
   "execution_count": null,
   "metadata": {
    "colab": {
     "base_uri": "https://localhost:8080/"
    },
    "executionInfo": {
     "elapsed": 3,
     "status": "ok",
     "timestamp": 1641190853989,
     "user": {
      "displayName": "Nuka",
      "photoUrl": "https://lh3.googleusercontent.com/a-/AOh14GgzXEbNiG5F4JTW3wieKoLzpVqgW4vsXYaCn0mu=s64",
      "userId": "00108578877416785794"
     },
     "user_tz": -540
    },
    "id": "KUC9fqMVlbh-",
    "outputId": "030a0f3c-b7c8-4e55-c6dd-a2aa87060a2e"
   },
   "outputs": [
    {
     "name": "stdout",
     "output_type": "stream",
     "text": [
      "\n",
      "Life is too short\n",
      "You need python\n",
      "\n"
     ]
    }
   ],
   "source": [
    "print(multiline)"
   ]
  },
  {
   "cell_type": "code",
   "execution_count": null,
   "metadata": {
    "id": "stKpvgb1lnZG"
   },
   "outputs": [],
   "source": [
    "multiline='''\n",
    "Life is too short\n",
    "You need python\n",
    "'''"
   ]
  },
  {
   "cell_type": "code",
   "execution_count": null,
   "metadata": {
    "colab": {
     "base_uri": "https://localhost:8080/"
    },
    "executionInfo": {
     "elapsed": 2,
     "status": "ok",
     "timestamp": 1641190838903,
     "user": {
      "displayName": "Nuka",
      "photoUrl": "https://lh3.googleusercontent.com/a-/AOh14GgzXEbNiG5F4JTW3wieKoLzpVqgW4vsXYaCn0mu=s64",
      "userId": "00108578877416785794"
     },
     "user_tz": -540
    },
    "id": "isqJHewDmEUW",
    "outputId": "c0e69809-f35c-4da4-df3b-3cbfc14de49b"
   },
   "outputs": [
    {
     "name": "stdout",
     "output_type": "stream",
     "text": [
      "\n",
      "Life is too short\n",
      "You need python\n",
      "\n"
     ]
    }
   ],
   "source": [
    "print(multiline)"
   ]
  },
  {
   "cell_type": "code",
   "execution_count": null,
   "metadata": {
    "colab": {
     "base_uri": "https://localhost:8080/",
     "height": 36
    },
    "executionInfo": {
     "elapsed": 5,
     "status": "ok",
     "timestamp": 1641191043243,
     "user": {
      "displayName": "Nuka",
      "photoUrl": "https://lh3.googleusercontent.com/a-/AOh14GgzXEbNiG5F4JTW3wieKoLzpVqgW4vsXYaCn0mu=s64",
      "userId": "00108578877416785794"
     },
     "user_tz": -540
    },
    "id": "u321EZ-0mMgO",
    "outputId": "685254dc-e801-4e88-9eac-6dd9e23a5ca7"
   },
   "outputs": [
    {
     "data": {
      "application/vnd.google.colaboratory.intrinsic+json": {
       "type": "string"
      },
      "text/plain": [
       "'\\nYou better work harder\\nOr\\nYou will be fired\\n'"
      ]
     },
     "execution_count": 56,
     "metadata": {},
     "output_type": "execute_result"
    }
   ],
   "source": [
    "wow = \"\"\"\n",
    "You better work harder\n",
    "Or\n",
    "You will be fired\n",
    "\"\"\"\n",
    "wow"
   ]
  },
  {
   "cell_type": "code",
   "execution_count": null,
   "metadata": {
    "colab": {
     "base_uri": "https://localhost:8080/"
    },
    "executionInfo": {
     "elapsed": 2,
     "status": "ok",
     "timestamp": 1641191053753,
     "user": {
      "displayName": "Nuka",
      "photoUrl": "https://lh3.googleusercontent.com/a-/AOh14GgzXEbNiG5F4JTW3wieKoLzpVqgW4vsXYaCn0mu=s64",
      "userId": "00108578877416785794"
     },
     "user_tz": -540
    },
    "id": "OJzTk6Qdm5te",
    "outputId": "dc317568-18c8-4e4e-c951-39d2b4d6de26"
   },
   "outputs": [
    {
     "name": "stdout",
     "output_type": "stream",
     "text": [
      "\n",
      "You better work harder\n",
      "Or\n",
      "You will be fired\n",
      "\n"
     ]
    }
   ],
   "source": [
    "print(wow)"
   ]
  },
  {
   "cell_type": "code",
   "execution_count": null,
   "metadata": {
    "colab": {
     "base_uri": "https://localhost:8080/",
     "height": 36
    },
    "executionInfo": {
     "elapsed": 4,
     "status": "ok",
     "timestamp": 1641191104853,
     "user": {
      "displayName": "Nuka",
      "photoUrl": "https://lh3.googleusercontent.com/a-/AOh14GgzXEbNiG5F4JTW3wieKoLzpVqgW4vsXYaCn0mu=s64",
      "userId": "00108578877416785794"
     },
     "user_tz": -540
    },
    "id": "T6WNcXYanBXl",
    "outputId": "94117774-705c-4dcc-e468-b74f0e54ab63"
   },
   "outputs": [
    {
     "data": {
      "application/vnd.google.colaboratory.intrinsic+json": {
       "type": "string"
      },
      "text/plain": [
       "'You\\nare\\nspecial'"
      ]
     },
     "execution_count": 58,
     "metadata": {},
     "output_type": "execute_result"
    }
   ],
   "source": [
    "wow = 'You\\nare\\nspecial'\n",
    "wow"
   ]
  },
  {
   "cell_type": "code",
   "execution_count": null,
   "metadata": {
    "colab": {
     "base_uri": "https://localhost:8080/"
    },
    "executionInfo": {
     "elapsed": 3,
     "status": "ok",
     "timestamp": 1641191116108,
     "user": {
      "displayName": "Nuka",
      "photoUrl": "https://lh3.googleusercontent.com/a-/AOh14GgzXEbNiG5F4JTW3wieKoLzpVqgW4vsXYaCn0mu=s64",
      "userId": "00108578877416785794"
     },
     "user_tz": -540
    },
    "id": "8Cln30WnnN32",
    "outputId": "8f94f164-1820-47de-da78-1c3a5f11cbe5"
   },
   "outputs": [
    {
     "name": "stdout",
     "output_type": "stream",
     "text": [
      "You\n",
      "are\n",
      "special\n"
     ]
    }
   ],
   "source": [
    "print(wow)"
   ]
  },
  {
   "cell_type": "code",
   "execution_count": null,
   "metadata": {
    "colab": {
     "base_uri": "https://localhost:8080/",
     "height": 36
    },
    "executionInfo": {
     "elapsed": 306,
     "status": "ok",
     "timestamp": 1641191394117,
     "user": {
      "displayName": "Nuka",
      "photoUrl": "https://lh3.googleusercontent.com/a-/AOh14GgzXEbNiG5F4JTW3wieKoLzpVqgW4vsXYaCn0mu=s64",
      "userId": "00108578877416785794"
     },
     "user_tz": -540
    },
    "id": "eZMUozkanQkd",
    "outputId": "28619765-a407-4d09-aa47-1d4821b57f60"
   },
   "outputs": [
    {
     "data": {
      "application/vnd.google.colaboratory.intrinsic+json": {
       "type": "string"
      },
      "text/plain": [
       "'\"it\\'s mine.\" he says.'"
      ]
     },
     "execution_count": 62,
     "metadata": {},
     "output_type": "execute_result"
    }
   ],
   "source": [
    "mine = '\"it\\'s mine.\" he says.'\n",
    "mine"
   ]
  },
  {
   "cell_type": "code",
   "execution_count": null,
   "metadata": {
    "colab": {
     "base_uri": "https://localhost:8080/"
    },
    "executionInfo": {
     "elapsed": 462,
     "status": "ok",
     "timestamp": 1641191396703,
     "user": {
      "displayName": "Nuka",
      "photoUrl": "https://lh3.googleusercontent.com/a-/AOh14GgzXEbNiG5F4JTW3wieKoLzpVqgW4vsXYaCn0mu=s64",
      "userId": "00108578877416785794"
     },
     "user_tz": -540
    },
    "id": "Ufk2Tie0oNNV",
    "outputId": "e1361d07-d9e3-4e75-d4d0-f67d1b79e170"
   },
   "outputs": [
    {
     "name": "stdout",
     "output_type": "stream",
     "text": [
      "\"it's mine.\" he says.\n"
     ]
    }
   ],
   "source": [
    "print(mine)"
   ]
  },
  {
   "cell_type": "code",
   "execution_count": null,
   "metadata": {
    "colab": {
     "base_uri": "https://localhost:8080/",
     "height": 36
    },
    "executionInfo": {
     "elapsed": 309,
     "status": "ok",
     "timestamp": 1641192132291,
     "user": {
      "displayName": "Nuka",
      "photoUrl": "https://lh3.googleusercontent.com/a-/AOh14GgzXEbNiG5F4JTW3wieKoLzpVqgW4vsXYaCn0mu=s64",
      "userId": "00108578877416785794"
     },
     "user_tz": -540
    },
    "id": "EAzwuVYxoQHt",
    "outputId": "3d4b1481-b20a-4426-9ff4-5aa4f2fa5b76"
   },
   "outputs": [
    {
     "data": {
      "application/vnd.google.colaboratory.intrinsic+json": {
       "type": "string"
      },
      "text/plain": [
       "'python is fun!!!!'"
      ]
     },
     "execution_count": 65,
     "metadata": {},
     "output_type": "execute_result"
    }
   ],
   "source": [
    "head = 'python'\n",
    "tail=' is fun!!!!'\n",
    "head+tail"
   ]
  },
  {
   "cell_type": "code",
   "execution_count": null,
   "metadata": {
    "colab": {
     "base_uri": "https://localhost:8080/",
     "height": 36
    },
    "executionInfo": {
     "elapsed": 5,
     "status": "ok",
     "timestamp": 1641192219234,
     "user": {
      "displayName": "Nuka",
      "photoUrl": "https://lh3.googleusercontent.com/a-/AOh14GgzXEbNiG5F4JTW3wieKoLzpVqgW4vsXYaCn0mu=s64",
      "userId": "00108578877416785794"
     },
     "user_tz": -540
    },
    "id": "hYKa4ncNrGz0",
    "outputId": "dc00fe83-cb86-4908-caac-41c1523e3062"
   },
   "outputs": [
    {
     "data": {
      "application/vnd.google.colaboratory.intrinsic+json": {
       "type": "string"
      },
      "text/plain": [
       "'pythonpython'"
      ]
     },
     "execution_count": 66,
     "metadata": {},
     "output_type": "execute_result"
    }
   ],
   "source": [
    "a = 'python'\n",
    "a*2"
   ]
  },
  {
   "cell_type": "code",
   "execution_count": null,
   "metadata": {
    "colab": {
     "base_uri": "https://localhost:8080/"
    },
    "executionInfo": {
     "elapsed": 4,
     "status": "ok",
     "timestamp": 1641192269050,
     "user": {
      "displayName": "Nuka",
      "photoUrl": "https://lh3.googleusercontent.com/a-/AOh14GgzXEbNiG5F4JTW3wieKoLzpVqgW4vsXYaCn0mu=s64",
      "userId": "00108578877416785794"
     },
     "user_tz": -540
    },
    "id": "KJk_AaKsrd5c",
    "outputId": "b01079ba-727f-4430-a8f4-4a16367efdc1"
   },
   "outputs": [
    {
     "name": "stdout",
     "output_type": "stream",
     "text": [
      "==================================================\n",
      "My program\n",
      "==================================================\n"
     ]
    }
   ],
   "source": [
    "print('=' * 50)\n",
    "print('My program')\n",
    "print('='*50)"
   ]
  },
  {
   "cell_type": "code",
   "execution_count": null,
   "metadata": {
    "colab": {
     "base_uri": "https://localhost:8080/"
    },
    "executionInfo": {
     "elapsed": 3,
     "status": "ok",
     "timestamp": 1641192335087,
     "user": {
      "displayName": "Nuka",
      "photoUrl": "https://lh3.googleusercontent.com/a-/AOh14GgzXEbNiG5F4JTW3wieKoLzpVqgW4vsXYaCn0mu=s64",
      "userId": "00108578877416785794"
     },
     "user_tz": -540
    },
    "id": "ba_qtGjZrqEs",
    "outputId": "5807e71e-370d-42c4-e9c8-83ac6e8ebb09"
   },
   "outputs": [
    {
     "data": {
      "text/plain": [
       "17"
      ]
     },
     "execution_count": 68,
     "metadata": {},
     "output_type": "execute_result"
    }
   ],
   "source": [
    "a='Life is too short'\n",
    "len(a)"
   ]
  },
  {
   "cell_type": "code",
   "execution_count": null,
   "metadata": {
    "colab": {
     "base_uri": "https://localhost:8080/"
    },
    "executionInfo": {
     "elapsed": 295,
     "status": "ok",
     "timestamp": 1641192597605,
     "user": {
      "displayName": "Nuka",
      "photoUrl": "https://lh3.googleusercontent.com/a-/AOh14GgzXEbNiG5F4JTW3wieKoLzpVqgW4vsXYaCn0mu=s64",
      "userId": "00108578877416785794"
     },
     "user_tz": -540
    },
    "id": "HiZhnt3Ur6Mt",
    "outputId": "dd69fff5-91a3-4f1a-f169-b2481ccd5aa9"
   },
   "outputs": [
    {
     "name": "stdout",
     "output_type": "stream",
     "text": [
      "==================================================\n",
      "                Game\n",
      "                     over\n",
      "==================================================\n"
     ]
    }
   ],
   "source": [
    "print('='*50)\n",
    "print('''                Game\n",
    "                     over''')\n",
    "print('='*50)"
   ]
  },
  {
   "cell_type": "code",
   "execution_count": null,
   "metadata": {
    "colab": {
     "base_uri": "https://localhost:8080/"
    },
    "executionInfo": {
     "elapsed": 308,
     "status": "ok",
     "timestamp": 1641192549932,
     "user": {
      "displayName": "Nuka",
      "photoUrl": "https://lh3.googleusercontent.com/a-/AOh14GgzXEbNiG5F4JTW3wieKoLzpVqgW4vsXYaCn0mu=s64",
      "userId": "00108578877416785794"
     },
     "user_tz": -540
    },
    "id": "0YhHtgOnsSoL",
    "outputId": "13551566-5575-4e8f-e884-d5e01c9e7d08"
   },
   "outputs": [
    {
     "data": {
      "text/plain": [
       "61"
      ]
     },
     "execution_count": 74,
     "metadata": {},
     "output_type": "execute_result"
    }
   ],
   "source": [
    "oo='I am a king, who living in the tower built with sand and salt'\n",
    "len(oo)"
   ]
  },
  {
   "cell_type": "code",
   "execution_count": null,
   "metadata": {
    "colab": {
     "base_uri": "https://localhost:8080/",
     "height": 36
    },
    "executionInfo": {
     "elapsed": 315,
     "status": "ok",
     "timestamp": 1641192658599,
     "user": {
      "displayName": "Nuka",
      "photoUrl": "https://lh3.googleusercontent.com/a-/AOh14GgzXEbNiG5F4JTW3wieKoLzpVqgW4vsXYaCn0mu=s64",
      "userId": "00108578877416785794"
     },
     "user_tz": -540
    },
    "id": "Vwu2UC3ksq_c",
    "outputId": "f2b0acf2-41ca-40b1-b33f-5ebbb394a34c"
   },
   "outputs": [
    {
     "data": {
      "application/vnd.google.colaboratory.intrinsic+json": {
       "type": "string"
      },
      "text/plain": [
       "' game end'"
      ]
     },
     "execution_count": 79,
     "metadata": {},
     "output_type": "execute_result"
    }
   ],
   "source": [
    "head=' game'\n",
    "tail=' end'\n",
    "head+tail"
   ]
  },
  {
   "cell_type": "code",
   "execution_count": null,
   "metadata": {
    "colab": {
     "base_uri": "https://localhost:8080/",
     "height": 36
    },
    "executionInfo": {
     "elapsed": 4,
     "status": "ok",
     "timestamp": 1641192660516,
     "user": {
      "displayName": "Nuka",
      "photoUrl": "https://lh3.googleusercontent.com/a-/AOh14GgzXEbNiG5F4JTW3wieKoLzpVqgW4vsXYaCn0mu=s64",
      "userId": "00108578877416785794"
     },
     "user_tz": -540
    },
    "id": "qZ5zwFgDtCi8",
    "outputId": "8500a752-65ee-4659-aed3-2e4ca2e68a6b"
   },
   "outputs": [
    {
     "data": {
      "application/vnd.google.colaboratory.intrinsic+json": {
       "type": "string"
      },
      "text/plain": [
       "' end game'"
      ]
     },
     "execution_count": 80,
     "metadata": {},
     "output_type": "execute_result"
    }
   ],
   "source": [
    "tail+head"
   ]
  },
  {
   "cell_type": "code",
   "execution_count": null,
   "metadata": {
    "colab": {
     "base_uri": "https://localhost:8080/"
    },
    "executionInfo": {
     "elapsed": 3,
     "status": "ok",
     "timestamp": 1641192676715,
     "user": {
      "displayName": "Nuka",
      "photoUrl": "https://lh3.googleusercontent.com/a-/AOh14GgzXEbNiG5F4JTW3wieKoLzpVqgW4vsXYaCn0mu=s64",
      "userId": "00108578877416785794"
     },
     "user_tz": -540
    },
    "id": "GqtUqNastHqj",
    "outputId": "7aab1520-782d-4615-eb7e-2eff131e9543"
   },
   "outputs": [
    {
     "data": {
      "text/plain": [
       "9"
      ]
     },
     "execution_count": 81,
     "metadata": {},
     "output_type": "execute_result"
    }
   ],
   "source": [
    "len(head+tail)"
   ]
  },
  {
   "cell_type": "code",
   "execution_count": null,
   "metadata": {
    "colab": {
     "base_uri": "https://localhost:8080/",
     "height": 36
    },
    "executionInfo": {
     "elapsed": 6,
     "status": "ok",
     "timestamp": 1641192814474,
     "user": {
      "displayName": "Nuka",
      "photoUrl": "https://lh3.googleusercontent.com/a-/AOh14GgzXEbNiG5F4JTW3wieKoLzpVqgW4vsXYaCn0mu=s64",
      "userId": "00108578877416785794"
     },
     "user_tz": -540
    },
    "id": "KLtrAzoAtNl8",
    "outputId": "58a3c089-1d80-497f-f65d-62e21f02a88f"
   },
   "outputs": [
    {
     "data": {
      "application/vnd.google.colaboratory.intrinsic+json": {
       "type": "string"
      },
      "text/plain": [
       "'Someday I will be a Man at Arms \\nif I grow up till next year'"
      ]
     },
     "execution_count": 82,
     "metadata": {},
     "output_type": "execute_result"
    }
   ],
   "source": [
    "head='Someday I will be a Man at Arms'\n",
    "tail=' \\nif I grow up till next year'\n",
    "head+tail"
   ]
  },
  {
   "cell_type": "code",
   "execution_count": null,
   "metadata": {
    "colab": {
     "base_uri": "https://localhost:8080/"
    },
    "executionInfo": {
     "elapsed": 2,
     "status": "ok",
     "timestamp": 1641192827693,
     "user": {
      "displayName": "Nuka",
      "photoUrl": "https://lh3.googleusercontent.com/a-/AOh14GgzXEbNiG5F4JTW3wieKoLzpVqgW4vsXYaCn0mu=s64",
      "userId": "00108578877416785794"
     },
     "user_tz": -540
    },
    "id": "wqxB0RiXtvOz",
    "outputId": "d844a786-0a94-46d1-dbf6-b33e67ba4403"
   },
   "outputs": [
    {
     "name": "stdout",
     "output_type": "stream",
     "text": [
      "Someday I will be a Man at Arms \n",
      "if I grow up till next year\n"
     ]
    }
   ],
   "source": [
    "print(head+tail)"
   ]
  },
  {
   "cell_type": "code",
   "execution_count": null,
   "metadata": {
    "colab": {
     "base_uri": "https://localhost:8080/",
     "height": 36
    },
    "executionInfo": {
     "elapsed": 4,
     "status": "ok",
     "timestamp": 1641192983180,
     "user": {
      "displayName": "Nuka",
      "photoUrl": "https://lh3.googleusercontent.com/a-/AOh14GgzXEbNiG5F4JTW3wieKoLzpVqgW4vsXYaCn0mu=s64",
      "userId": "00108578877416785794"
     },
     "user_tz": -540
    },
    "id": "rbO8FI1dtydj",
    "outputId": "7f17fc48-2b44-4ab0-acd2-99f0a7aaeb22"
   },
   "outputs": [
    {
     "data": {
      "application/vnd.google.colaboratory.intrinsic+json": {
       "type": "string"
      },
      "text/plain": [
       "'e'"
      ]
     },
     "execution_count": 84,
     "metadata": {},
     "output_type": "execute_result"
    }
   ],
   "source": [
    "a='Life is too short, You need Python'\n",
    "a[3]"
   ]
  },
  {
   "cell_type": "code",
   "execution_count": null,
   "metadata": {
    "colab": {
     "base_uri": "https://localhost:8080/",
     "height": 36
    },
    "executionInfo": {
     "elapsed": 5,
     "status": "ok",
     "timestamp": 1641193107808,
     "user": {
      "displayName": "Nuka",
      "photoUrl": "https://lh3.googleusercontent.com/a-/AOh14GgzXEbNiG5F4JTW3wieKoLzpVqgW4vsXYaCn0mu=s64",
      "userId": "00108578877416785794"
     },
     "user_tz": -540
    },
    "id": "4KPUA-VfuYaz",
    "outputId": "f779def4-5fb5-48f6-815f-92fca1754b02"
   },
   "outputs": [
    {
     "data": {
      "application/vnd.google.colaboratory.intrinsic+json": {
       "type": "string"
      },
      "text/plain": [
       "'L'"
      ]
     },
     "execution_count": 85,
     "metadata": {},
     "output_type": "execute_result"
    }
   ],
   "source": [
    "a[0]"
   ]
  },
  {
   "cell_type": "code",
   "execution_count": null,
   "metadata": {
    "colab": {
     "base_uri": "https://localhost:8080/",
     "height": 36
    },
    "executionInfo": {
     "elapsed": 6,
     "status": "ok",
     "timestamp": 1641193126425,
     "user": {
      "displayName": "Nuka",
      "photoUrl": "https://lh3.googleusercontent.com/a-/AOh14GgzXEbNiG5F4JTW3wieKoLzpVqgW4vsXYaCn0mu=s64",
      "userId": "00108578877416785794"
     },
     "user_tz": -540
    },
    "id": "cCvUzOaFu21r",
    "outputId": "87bdfee7-cb25-4e85-8b2c-22ee10bc1a95"
   },
   "outputs": [
    {
     "data": {
      "application/vnd.google.colaboratory.intrinsic+json": {
       "type": "string"
      },
      "text/plain": [
       "'s'"
      ]
     },
     "execution_count": 86,
     "metadata": {},
     "output_type": "execute_result"
    }
   ],
   "source": [
    "a[12]"
   ]
  },
  {
   "cell_type": "code",
   "execution_count": null,
   "metadata": {
    "colab": {
     "base_uri": "https://localhost:8080/",
     "height": 36
    },
    "executionInfo": {
     "elapsed": 4,
     "status": "ok",
     "timestamp": 1641193157815,
     "user": {
      "displayName": "Nuka",
      "photoUrl": "https://lh3.googleusercontent.com/a-/AOh14GgzXEbNiG5F4JTW3wieKoLzpVqgW4vsXYaCn0mu=s64",
      "userId": "00108578877416785794"
     },
     "user_tz": -540
    },
    "id": "hm61EXn6u7Yb",
    "outputId": "1bde44d6-69d2-43bb-cce2-f47dbca171a3"
   },
   "outputs": [
    {
     "data": {
      "application/vnd.google.colaboratory.intrinsic+json": {
       "type": "string"
      },
      "text/plain": [
       "'n'"
      ]
     },
     "execution_count": 87,
     "metadata": {},
     "output_type": "execute_result"
    }
   ],
   "source": [
    "a[-1]"
   ]
  },
  {
   "cell_type": "code",
   "execution_count": null,
   "metadata": {
    "colab": {
     "base_uri": "https://localhost:8080/",
     "height": 36
    },
    "executionInfo": {
     "elapsed": 5,
     "status": "ok",
     "timestamp": 1641193345507,
     "user": {
      "displayName": "Nuka",
      "photoUrl": "https://lh3.googleusercontent.com/a-/AOh14GgzXEbNiG5F4JTW3wieKoLzpVqgW4vsXYaCn0mu=s64",
      "userId": "00108578877416785794"
     },
     "user_tz": -540
    },
    "id": "3kJlkf3AvDCM",
    "outputId": "e4acca3c-f3d9-415f-d121-7572ba4a370f"
   },
   "outputs": [
    {
     "data": {
      "application/vnd.google.colaboratory.intrinsic+json": {
       "type": "string"
      },
      "text/plain": [
       "'Life'"
      ]
     },
     "execution_count": 88,
     "metadata": {},
     "output_type": "execute_result"
    }
   ],
   "source": [
    "b=a[0]+a[1]+a[2]+a[3]\n",
    "b"
   ]
  },
  {
   "cell_type": "code",
   "execution_count": null,
   "metadata": {
    "colab": {
     "base_uri": "https://localhost:8080/",
     "height": 36
    },
    "executionInfo": {
     "elapsed": 8,
     "status": "ok",
     "timestamp": 1641193494002,
     "user": {
      "displayName": "Nuka",
      "photoUrl": "https://lh3.googleusercontent.com/a-/AOh14GgzXEbNiG5F4JTW3wieKoLzpVqgW4vsXYaCn0mu=s64",
      "userId": "00108578877416785794"
     },
     "user_tz": -540
    },
    "id": "yA9H8aJuvw4B",
    "outputId": "773f61f5-01b7-4463-9015-749614b5c243"
   },
   "outputs": [
    {
     "data": {
      "application/vnd.google.colaboratory.intrinsic+json": {
       "type": "string"
      },
      "text/plain": [
       "'Life'"
      ]
     },
     "execution_count": 89,
     "metadata": {},
     "output_type": "execute_result"
    }
   ],
   "source": [
    "a[0:4]"
   ]
  },
  {
   "cell_type": "code",
   "execution_count": null,
   "metadata": {
    "colab": {
     "base_uri": "https://localhost:8080/",
     "height": 36
    },
    "executionInfo": {
     "elapsed": 5,
     "status": "ok",
     "timestamp": 1641193556699,
     "user": {
      "displayName": "Nuka",
      "photoUrl": "https://lh3.googleusercontent.com/a-/AOh14GgzXEbNiG5F4JTW3wieKoLzpVqgW4vsXYaCn0mu=s64",
      "userId": "00108578877416785794"
     },
     "user_tz": -540
    },
    "id": "Lk9SsydywVIa",
    "outputId": "dae70524-d423-49d0-d3c3-3bb14489ec27"
   },
   "outputs": [
    {
     "data": {
      "application/vnd.google.colaboratory.intrinsic+json": {
       "type": "string"
      },
      "text/plain": [
       "'Lif'"
      ]
     },
     "execution_count": 90,
     "metadata": {},
     "output_type": "execute_result"
    }
   ],
   "source": [
    "a[0:3]"
   ]
  },
  {
   "cell_type": "code",
   "execution_count": null,
   "metadata": {
    "colab": {
     "base_uri": "https://localhost:8080/",
     "height": 36
    },
    "executionInfo": {
     "elapsed": 4,
     "status": "ok",
     "timestamp": 1641193592059,
     "user": {
      "displayName": "Nuka",
      "photoUrl": "https://lh3.googleusercontent.com/a-/AOh14GgzXEbNiG5F4JTW3wieKoLzpVqgW4vsXYaCn0mu=s64",
      "userId": "00108578877416785794"
     },
     "user_tz": -540
    },
    "id": "PeL7qmLFwkb6",
    "outputId": "2d87dcd3-e607-457f-cedc-1ee3a90f9bda"
   },
   "outputs": [
    {
     "data": {
      "application/vnd.google.colaboratory.intrinsic+json": {
       "type": "string"
      },
      "text/plain": [
       "'Life '"
      ]
     },
     "execution_count": 91,
     "metadata": {},
     "output_type": "execute_result"
    }
   ],
   "source": [
    "a[0:5]"
   ]
  },
  {
   "cell_type": "code",
   "execution_count": null,
   "metadata": {
    "colab": {
     "base_uri": "https://localhost:8080/",
     "height": 36
    },
    "executionInfo": {
     "elapsed": 4,
     "status": "ok",
     "timestamp": 1641193642336,
     "user": {
      "displayName": "Nuka",
      "photoUrl": "https://lh3.googleusercontent.com/a-/AOh14GgzXEbNiG5F4JTW3wieKoLzpVqgW4vsXYaCn0mu=s64",
      "userId": "00108578877416785794"
     },
     "user_tz": -540
    },
    "id": "1zIL3xhUwtEa",
    "outputId": "da325c9a-8030-4d8a-b9b1-cbc81ef594f1"
   },
   "outputs": [
    {
     "data": {
      "application/vnd.google.colaboratory.intrinsic+json": {
       "type": "string"
      },
      "text/plain": [
       "'is'"
      ]
     },
     "execution_count": 92,
     "metadata": {},
     "output_type": "execute_result"
    }
   ],
   "source": [
    "a[5:7]"
   ]
  },
  {
   "cell_type": "code",
   "execution_count": null,
   "metadata": {
    "colab": {
     "base_uri": "https://localhost:8080/",
     "height": 36
    },
    "executionInfo": {
     "elapsed": 4,
     "status": "ok",
     "timestamp": 1641193653098,
     "user": {
      "displayName": "Nuka",
      "photoUrl": "https://lh3.googleusercontent.com/a-/AOh14GgzXEbNiG5F4JTW3wieKoLzpVqgW4vsXYaCn0mu=s64",
      "userId": "00108578877416785794"
     },
     "user_tz": -540
    },
    "id": "7NdzTF5cw5UK",
    "outputId": "26b066ce-1a28-4200-caff-2e64a3089f35"
   },
   "outputs": [
    {
     "data": {
      "application/vnd.google.colaboratory.intrinsic+json": {
       "type": "string"
      },
      "text/plain": [
       "'short'"
      ]
     },
     "execution_count": 93,
     "metadata": {},
     "output_type": "execute_result"
    }
   ],
   "source": [
    "a[12:17]"
   ]
  },
  {
   "cell_type": "code",
   "execution_count": null,
   "metadata": {
    "colab": {
     "base_uri": "https://localhost:8080/",
     "height": 36
    },
    "executionInfo": {
     "elapsed": 17,
     "status": "ok",
     "timestamp": 1641193865164,
     "user": {
      "displayName": "Nuka",
      "photoUrl": "https://lh3.googleusercontent.com/a-/AOh14GgzXEbNiG5F4JTW3wieKoLzpVqgW4vsXYaCn0mu=s64",
      "userId": "00108578877416785794"
     },
     "user_tz": -540
    },
    "id": "9Y67yYl3w7-a",
    "outputId": "b6e292f5-f1fd-44df-eb18-fd57983b03f3"
   },
   "outputs": [
    {
     "data": {
      "application/vnd.google.colaboratory.intrinsic+json": {
       "type": "string"
      },
      "text/plain": [
       "'You need Python'"
      ]
     },
     "execution_count": 94,
     "metadata": {},
     "output_type": "execute_result"
    }
   ],
   "source": [
    "a[19:]"
   ]
  },
  {
   "cell_type": "code",
   "execution_count": null,
   "metadata": {
    "colab": {
     "base_uri": "https://localhost:8080/",
     "height": 36
    },
    "executionInfo": {
     "elapsed": 4,
     "status": "ok",
     "timestamp": 1641193872763,
     "user": {
      "displayName": "Nuka",
      "photoUrl": "https://lh3.googleusercontent.com/a-/AOh14GgzXEbNiG5F4JTW3wieKoLzpVqgW4vsXYaCn0mu=s64",
      "userId": "00108578877416785794"
     },
     "user_tz": -540
    },
    "id": "nfZD2Yskxv1K",
    "outputId": "573b2bab-a3bb-4445-a5db-1fcae351f54b"
   },
   "outputs": [
    {
     "data": {
      "application/vnd.google.colaboratory.intrinsic+json": {
       "type": "string"
      },
      "text/plain": [
       "'Life is too short, You need Python'"
      ]
     },
     "execution_count": 95,
     "metadata": {},
     "output_type": "execute_result"
    }
   ],
   "source": [
    "a[:]"
   ]
  },
  {
   "cell_type": "code",
   "execution_count": null,
   "metadata": {
    "colab": {
     "base_uri": "https://localhost:8080/",
     "height": 36
    },
    "executionInfo": {
     "elapsed": 7,
     "status": "ok",
     "timestamp": 1641193879907,
     "user": {
      "displayName": "Nuka",
      "photoUrl": "https://lh3.googleusercontent.com/a-/AOh14GgzXEbNiG5F4JTW3wieKoLzpVqgW4vsXYaCn0mu=s64",
      "userId": "00108578877416785794"
     },
     "user_tz": -540
    },
    "id": "8a3l-39jxxa5",
    "outputId": "b424f26c-134e-46dc-ce92-0cf8bb467d44"
   },
   "outputs": [
    {
     "data": {
      "application/vnd.google.colaboratory.intrinsic+json": {
       "type": "string"
      },
      "text/plain": [
       "'You need'"
      ]
     },
     "execution_count": 96,
     "metadata": {},
     "output_type": "execute_result"
    }
   ],
   "source": [
    "a[19:-7]"
   ]
  },
  {
   "cell_type": "code",
   "execution_count": null,
   "metadata": {
    "id": "Gul9Nc4JxzWC"
   },
   "outputs": [],
   "source": [
    "a = '20220103Sunny'"
   ]
  },
  {
   "cell_type": "code",
   "execution_count": null,
   "metadata": {
    "colab": {
     "base_uri": "https://localhost:8080/",
     "height": 36
    },
    "executionInfo": {
     "elapsed": 313,
     "status": "ok",
     "timestamp": 1641193959158,
     "user": {
      "displayName": "Nuka",
      "photoUrl": "https://lh3.googleusercontent.com/a-/AOh14GgzXEbNiG5F4JTW3wieKoLzpVqgW4vsXYaCn0mu=s64",
      "userId": "00108578877416785794"
     },
     "user_tz": -540
    },
    "id": "u5qyD0Yux-cx",
    "outputId": "dcfcb959-d79b-43ce-f3d7-a43f07b6137c"
   },
   "outputs": [
    {
     "data": {
      "application/vnd.google.colaboratory.intrinsic+json": {
       "type": "string"
      },
      "text/plain": [
       "'2022'"
      ]
     },
     "execution_count": 99,
     "metadata": {},
     "output_type": "execute_result"
    }
   ],
   "source": [
    "year = a[0:4]\n",
    "year"
   ]
  },
  {
   "cell_type": "code",
   "execution_count": null,
   "metadata": {
    "colab": {
     "base_uri": "https://localhost:8080/",
     "height": 36
    },
    "executionInfo": {
     "elapsed": 4,
     "status": "ok",
     "timestamp": 1641194028562,
     "user": {
      "displayName": "Nuka",
      "photoUrl": "https://lh3.googleusercontent.com/a-/AOh14GgzXEbNiG5F4JTW3wieKoLzpVqgW4vsXYaCn0mu=s64",
      "userId": "00108578877416785794"
     },
     "user_tz": -540
    },
    "id": "yvtkf53TyFXL",
    "outputId": "b92b22cf-8d24-4213-c205-0a713b0b2fd7"
   },
   "outputs": [
    {
     "data": {
      "application/vnd.google.colaboratory.intrinsic+json": {
       "type": "string"
      },
      "text/plain": [
       "'01'"
      ]
     },
     "execution_count": 100,
     "metadata": {},
     "output_type": "execute_result"
    }
   ],
   "source": [
    "month = a[4:6]\n",
    "month"
   ]
  },
  {
   "cell_type": "code",
   "execution_count": null,
   "metadata": {
    "colab": {
     "base_uri": "https://localhost:8080/",
     "height": 36
    },
    "executionInfo": {
     "elapsed": 5,
     "status": "ok",
     "timestamp": 1641194043424,
     "user": {
      "displayName": "Nuka",
      "photoUrl": "https://lh3.googleusercontent.com/a-/AOh14GgzXEbNiG5F4JTW3wieKoLzpVqgW4vsXYaCn0mu=s64",
      "userId": "00108578877416785794"
     },
     "user_tz": -540
    },
    "id": "Pb3sgK2zyXo5",
    "outputId": "1ba50e9f-09a0-4d2f-ab52-f8fdf9db1a1c"
   },
   "outputs": [
    {
     "data": {
      "application/vnd.google.colaboratory.intrinsic+json": {
       "type": "string"
      },
      "text/plain": [
       "'03'"
      ]
     },
     "execution_count": 101,
     "metadata": {},
     "output_type": "execute_result"
    }
   ],
   "source": [
    "day = a[6:8]\n",
    "day"
   ]
  },
  {
   "cell_type": "code",
   "execution_count": null,
   "metadata": {
    "colab": {
     "base_uri": "https://localhost:8080/",
     "height": 36
    },
    "executionInfo": {
     "elapsed": 392,
     "status": "ok",
     "timestamp": 1641194079698,
     "user": {
      "displayName": "Nuka",
      "photoUrl": "https://lh3.googleusercontent.com/a-/AOh14GgzXEbNiG5F4JTW3wieKoLzpVqgW4vsXYaCn0mu=s64",
      "userId": "00108578877416785794"
     },
     "user_tz": -540
    },
    "id": "Mt3UTvscybUh",
    "outputId": "601edd35-ca1f-4985-950c-b5c727749c8d"
   },
   "outputs": [
    {
     "data": {
      "application/vnd.google.colaboratory.intrinsic+json": {
       "type": "string"
      },
      "text/plain": [
       "'Sunny'"
      ]
     },
     "execution_count": 104,
     "metadata": {},
     "output_type": "execute_result"
    }
   ],
   "source": [
    "weather = a[8:13]\n",
    "weather"
   ]
  },
  {
   "cell_type": "code",
   "execution_count": null,
   "metadata": {
    "colab": {
     "base_uri": "https://localhost:8080/",
     "height": 36
    },
    "executionInfo": {
     "elapsed": 279,
     "status": "ok",
     "timestamp": 1641194325107,
     "user": {
      "displayName": "Nuka",
      "photoUrl": "https://lh3.googleusercontent.com/a-/AOh14GgzXEbNiG5F4JTW3wieKoLzpVqgW4vsXYaCn0mu=s64",
      "userId": "00108578877416785794"
     },
     "user_tz": -540
    },
    "id": "X9zs9euMyhiS",
    "outputId": "aa47a90a-a57a-4671-d170-62b282709c14"
   },
   "outputs": [
    {
     "data": {
      "application/vnd.google.colaboratory.intrinsic+json": {
       "type": "string"
      },
      "text/plain": [
       "'i'"
      ]
     },
     "execution_count": 111,
     "metadata": {},
     "output_type": "execute_result"
    }
   ],
   "source": [
    "a = 'pithon'\n",
    "# a[1] = 'y'\n",
    "a[1]"
   ]
  },
  {
   "cell_type": "code",
   "execution_count": null,
   "metadata": {
    "colab": {
     "base_uri": "https://localhost:8080/",
     "height": 36
    },
    "executionInfo": {
     "elapsed": 295,
     "status": "ok",
     "timestamp": 1641194378191,
     "user": {
      "displayName": "Nuka",
      "photoUrl": "https://lh3.googleusercontent.com/a-/AOh14GgzXEbNiG5F4JTW3wieKoLzpVqgW4vsXYaCn0mu=s64",
      "userId": "00108578877416785794"
     },
     "user_tz": -540
    },
    "id": "BMgNLr28yyti",
    "outputId": "b66bb37c-681a-4af4-d17b-7c1b5490553e"
   },
   "outputs": [
    {
     "data": {
      "application/vnd.google.colaboratory.intrinsic+json": {
       "type": "string"
      },
      "text/plain": [
       "'python'"
      ]
     },
     "execution_count": 112,
     "metadata": {},
     "output_type": "execute_result"
    }
   ],
   "source": [
    "a = a[:1] +'y'+a[2:]\n",
    "a"
   ]
  },
  {
   "cell_type": "code",
   "execution_count": null,
   "metadata": {
    "colab": {
     "base_uri": "https://localhost:8080/",
     "height": 36
    },
    "executionInfo": {
     "elapsed": 6,
     "status": "ok",
     "timestamp": 1641194456753,
     "user": {
      "displayName": "Nuka",
      "photoUrl": "https://lh3.googleusercontent.com/a-/AOh14GgzXEbNiG5F4JTW3wieKoLzpVqgW4vsXYaCn0mu=s64",
      "userId": "00108578877416785794"
     },
     "user_tz": -540
    },
    "id": "1FDCiPqVzS35",
    "outputId": "78e079df-aea3-4329-8278-dd84eb746ee3"
   },
   "outputs": [
    {
     "data": {
      "application/vnd.google.colaboratory.intrinsic+json": {
       "type": "string"
      },
      "text/plain": [
       "'I want be a man'"
      ]
     },
     "execution_count": 115,
     "metadata": {},
     "output_type": "execute_result"
    }
   ],
   "source": [
    "a='I want be a man'\n",
    "a"
   ]
  },
  {
   "cell_type": "code",
   "execution_count": null,
   "metadata": {
    "colab": {
     "base_uri": "https://localhost:8080/",
     "height": 36
    },
    "executionInfo": {
     "elapsed": 301,
     "status": "ok",
     "timestamp": 1641194514914,
     "user": {
      "displayName": "Nuka",
      "photoUrl": "https://lh3.googleusercontent.com/a-/AOh14GgzXEbNiG5F4JTW3wieKoLzpVqgW4vsXYaCn0mu=s64",
      "userId": "00108578877416785794"
     },
     "user_tz": -540
    },
    "id": "IbdSB7ORz0HR",
    "outputId": "3ee50b9f-d255-4710-8bdc-7eff8549a18f"
   },
   "outputs": [
    {
     "data": {
      "application/vnd.google.colaboratory.intrinsic+json": {
       "type": "string"
      },
      "text/plain": [
       "'I want be a men'"
      ]
     },
     "execution_count": 118,
     "metadata": {},
     "output_type": "execute_result"
    }
   ],
   "source": [
    "a= a[:13] + 'e' + a[14:]\n",
    "a"
   ]
  },
  {
   "cell_type": "code",
   "execution_count": null,
   "metadata": {
    "colab": {
     "base_uri": "https://localhost:8080/",
     "height": 36
    },
    "executionInfo": {
     "elapsed": 316,
     "status": "ok",
     "timestamp": 1641196114459,
     "user": {
      "displayName": "Nuka",
      "photoUrl": "https://lh3.googleusercontent.com/a-/AOh14GgzXEbNiG5F4JTW3wieKoLzpVqgW4vsXYaCn0mu=s64",
      "userId": "00108578877416785794"
     },
     "user_tz": -540
    },
    "id": "FnxYC6qs0K_R",
    "outputId": "4120f390-f11a-4a15-ef97-2f51e172a81e"
   },
   "outputs": [
    {
     "data": {
      "application/vnd.google.colaboratory.intrinsic+json": {
       "type": "string"
      },
      "text/plain": [
       "'I eat 3 apples.'"
      ]
     },
     "execution_count": 119,
     "metadata": {},
     "output_type": "execute_result"
    }
   ],
   "source": [
    "'I eat %d apples.' %3"
   ]
  },
  {
   "cell_type": "code",
   "execution_count": null,
   "metadata": {
    "colab": {
     "base_uri": "https://localhost:8080/",
     "height": 36
    },
    "executionInfo": {
     "elapsed": 4,
     "status": "ok",
     "timestamp": 1641196132975,
     "user": {
      "displayName": "Nuka",
      "photoUrl": "https://lh3.googleusercontent.com/a-/AOh14GgzXEbNiG5F4JTW3wieKoLzpVqgW4vsXYaCn0mu=s64",
      "userId": "00108578877416785794"
     },
     "user_tz": -540
    },
    "id": "etQ2Ic0F6U34",
    "outputId": "4ef0e9e0-b644-43bc-e714-56e5e8acddbe"
   },
   "outputs": [
    {
     "data": {
      "application/vnd.google.colaboratory.intrinsic+json": {
       "type": "string"
      },
      "text/plain": [
       "'I eat 3 apples'"
      ]
     },
     "execution_count": 120,
     "metadata": {},
     "output_type": "execute_result"
    }
   ],
   "source": [
    "'I eat %s apples' % '3'"
   ]
  },
  {
   "cell_type": "code",
   "execution_count": null,
   "metadata": {
    "colab": {
     "base_uri": "https://localhost:8080/",
     "height": 36
    },
    "executionInfo": {
     "elapsed": 325,
     "status": "ok",
     "timestamp": 1641196287886,
     "user": {
      "displayName": "Nuka",
      "photoUrl": "https://lh3.googleusercontent.com/a-/AOh14GgzXEbNiG5F4JTW3wieKoLzpVqgW4vsXYaCn0mu=s64",
      "userId": "00108578877416785794"
     },
     "user_tz": -540
    },
    "id": "3R_Dvk3O6ZZX",
    "outputId": "8360710f-da60-4cc2-b09b-f200ec702adf"
   },
   "outputs": [
    {
     "data": {
      "application/vnd.google.colaboratory.intrinsic+json": {
       "type": "string"
      },
      "text/plain": [
       "'I eat 3 apples'"
      ]
     },
     "execution_count": 122,
     "metadata": {},
     "output_type": "execute_result"
    }
   ],
   "source": [
    "n = 3\n",
    "\n",
    "'I eat %s apples' % n"
   ]
  },
  {
   "cell_type": "code",
   "execution_count": null,
   "metadata": {
    "colab": {
     "base_uri": "https://localhost:8080/",
     "height": 36
    },
    "executionInfo": {
     "elapsed": 25,
     "status": "ok",
     "timestamp": 1641196398966,
     "user": {
      "displayName": "Nuka",
      "photoUrl": "https://lh3.googleusercontent.com/a-/AOh14GgzXEbNiG5F4JTW3wieKoLzpVqgW4vsXYaCn0mu=s64",
      "userId": "00108578877416785794"
     },
     "user_tz": -540
    },
    "id": "TFI5qVLk7FLG",
    "outputId": "96c2338b-48e2-4efc-af83-ba1bfc92f3b8"
   },
   "outputs": [
    {
     "data": {
      "application/vnd.google.colaboratory.intrinsic+json": {
       "type": "string"
      },
      "text/plain": [
       "'I ate 10 apples, so I was sick for tree days'"
      ]
     },
     "execution_count": 125,
     "metadata": {},
     "output_type": "execute_result"
    }
   ],
   "source": [
    "'I ate %d apples, so I was sick for %s days' %(10, 'tree')"
   ]
  },
  {
   "cell_type": "code",
   "execution_count": null,
   "metadata": {
    "colab": {
     "base_uri": "https://localhost:8080/",
     "height": 36
    },
    "executionInfo": {
     "elapsed": 6,
     "status": "ok",
     "timestamp": 1641196426758,
     "user": {
      "displayName": "Nuka",
      "photoUrl": "https://lh3.googleusercontent.com/a-/AOh14GgzXEbNiG5F4JTW3wieKoLzpVqgW4vsXYaCn0mu=s64",
      "userId": "00108578877416785794"
     },
     "user_tz": -540
    },
    "id": "pQnSYpTU7aVY",
    "outputId": "293c2d9b-1e2e-4d77-e46e-ea0b0d0b4347"
   },
   "outputs": [
    {
     "data": {
      "application/vnd.google.colaboratory.intrinsic+json": {
       "type": "string"
      },
      "text/plain": [
       "'I eat many apples'"
      ]
     },
     "execution_count": 126,
     "metadata": {},
     "output_type": "execute_result"
    }
   ],
   "source": [
    "'I eat %s apples' %('many')"
   ]
  },
  {
   "cell_type": "code",
   "execution_count": null,
   "metadata": {
    "colab": {
     "base_uri": "https://localhost:8080/",
     "height": 36
    },
    "executionInfo": {
     "elapsed": 4,
     "status": "ok",
     "timestamp": 1641196623749,
     "user": {
      "displayName": "Nuka",
      "photoUrl": "https://lh3.googleusercontent.com/a-/AOh14GgzXEbNiG5F4JTW3wieKoLzpVqgW4vsXYaCn0mu=s64",
      "userId": "00108578877416785794"
     },
     "user_tz": -540
    },
    "id": "fz0EkmS37hEm",
    "outputId": "473fec3c-c222-4d29-ce16-64604bb83af0"
   },
   "outputs": [
    {
     "data": {
      "application/vnd.google.colaboratory.intrinsic+json": {
       "type": "string"
      },
      "text/plain": [
       "'Error is 98%'"
      ]
     },
     "execution_count": 134,
     "metadata": {},
     "output_type": "execute_result"
    }
   ],
   "source": [
    "'Error is %d%%' % 98"
   ]
  },
  {
   "cell_type": "code",
   "execution_count": null,
   "metadata": {
    "colab": {
     "base_uri": "https://localhost:8080/",
     "height": 36
    },
    "executionInfo": {
     "elapsed": 5,
     "status": "ok",
     "timestamp": 1641196829911,
     "user": {
      "displayName": "Nuka",
      "photoUrl": "https://lh3.googleusercontent.com/a-/AOh14GgzXEbNiG5F4JTW3wieKoLzpVqgW4vsXYaCn0mu=s64",
      "userId": "00108578877416785794"
     },
     "user_tz": -540
    },
    "id": "XSFI6CGd74y-",
    "outputId": "1e5de601-cdaa-44d6-e1be-b2107e45c822"
   },
   "outputs": [
    {
     "data": {
      "application/vnd.google.colaboratory.intrinsic+json": {
       "type": "string"
      },
      "text/plain": [
       "'        hi'"
      ]
     },
     "execution_count": 137,
     "metadata": {},
     "output_type": "execute_result"
    }
   ],
   "source": [
    "'%10s' %'hi'"
   ]
  },
  {
   "cell_type": "code",
   "execution_count": null,
   "metadata": {
    "colab": {
     "base_uri": "https://localhost:8080/",
     "height": 36
    },
    "executionInfo": {
     "elapsed": 5,
     "status": "ok",
     "timestamp": 1641196846226,
     "user": {
      "displayName": "Nuka",
      "photoUrl": "https://lh3.googleusercontent.com/a-/AOh14GgzXEbNiG5F4JTW3wieKoLzpVqgW4vsXYaCn0mu=s64",
      "userId": "00108578877416785794"
     },
     "user_tz": -540
    },
    "id": "tlN4OIIw8sHG",
    "outputId": "ad950a10-1643-40a2-ec72-ffa56b6b7777"
   },
   "outputs": [
    {
     "data": {
      "application/vnd.google.colaboratory.intrinsic+json": {
       "type": "string"
      },
      "text/plain": [
       "'hi        '"
      ]
     },
     "execution_count": 138,
     "metadata": {},
     "output_type": "execute_result"
    }
   ],
   "source": [
    "'%-10s' %'hi'"
   ]
  },
  {
   "cell_type": "code",
   "execution_count": null,
   "metadata": {
    "colab": {
     "base_uri": "https://localhost:8080/",
     "height": 36
    },
    "executionInfo": {
     "elapsed": 300,
     "status": "ok",
     "timestamp": 1641196920682,
     "user": {
      "displayName": "Nuka",
      "photoUrl": "https://lh3.googleusercontent.com/a-/AOh14GgzXEbNiG5F4JTW3wieKoLzpVqgW4vsXYaCn0mu=s64",
      "userId": "00108578877416785794"
     },
     "user_tz": -540
    },
    "id": "VrvIlqqp9Hit",
    "outputId": "3e6216a9-802e-49dc-c576-2733eb378089"
   },
   "outputs": [
    {
     "data": {
      "application/vnd.google.colaboratory.intrinsic+json": {
       "type": "string"
      },
      "text/plain": [
       "'3.1416'"
      ]
     },
     "execution_count": 140,
     "metadata": {},
     "output_type": "execute_result"
    }
   ],
   "source": [
    "'%0.4f' % 3.141592"
   ]
  },
  {
   "cell_type": "markdown",
   "metadata": {
    "id": "RwhsWpO2T2zS"
   },
   "source": []
  },
  {
   "cell_type": "code",
   "execution_count": null,
   "metadata": {
    "colab": {
     "base_uri": "https://localhost:8080/",
     "height": 36
    },
    "executionInfo": {
     "elapsed": 322,
     "status": "ok",
     "timestamp": 1641197073217,
     "user": {
      "displayName": "Nuka",
      "photoUrl": "https://lh3.googleusercontent.com/a-/AOh14GgzXEbNiG5F4JTW3wieKoLzpVqgW4vsXYaCn0mu=s64",
      "userId": "00108578877416785794"
     },
     "user_tz": -540
    },
    "id": "NN8VXErX9QFl",
    "outputId": "20ca382f-f2d2-4d60-af86-7d7d608b2886"
   },
   "outputs": [
    {
     "data": {
      "application/vnd.google.colaboratory.intrinsic+json": {
       "type": "string"
      },
      "text/plain": [
       "'    3.1416'"
      ]
     },
     "execution_count": 141,
     "metadata": {},
     "output_type": "execute_result"
    }
   ],
   "source": [
    "'%10.4f' % 3.141592"
   ]
  },
  {
   "cell_type": "code",
   "execution_count": null,
   "metadata": {
    "colab": {
     "base_uri": "https://localhost:8080/",
     "height": 36
    },
    "executionInfo": {
     "elapsed": 1134,
     "status": "ok",
     "timestamp": 1641197148698,
     "user": {
      "displayName": "Nuka",
      "photoUrl": "https://lh3.googleusercontent.com/a-/AOh14GgzXEbNiG5F4JTW3wieKoLzpVqgW4vsXYaCn0mu=s64",
      "userId": "00108578877416785794"
     },
     "user_tz": -540
    },
    "id": "mgjHBskP9-9F",
    "outputId": "984dfeee-06ff-4c88-b63d-3c18b972f997"
   },
   "outputs": [
    {
     "data": {
      "application/vnd.google.colaboratory.intrinsic+json": {
       "type": "string"
      },
      "text/plain": [
       "'3.14859155'"
      ]
     },
     "execution_count": 142,
     "metadata": {},
     "output_type": "execute_result"
    }
   ],
   "source": [
    "'%0.8f' % 3.1485915486"
   ]
  },
  {
   "cell_type": "code",
   "execution_count": null,
   "metadata": {
    "colab": {
     "base_uri": "https://localhost:8080/",
     "height": 36
    },
    "executionInfo": {
     "elapsed": 5,
     "status": "ok",
     "timestamp": 1641197182679,
     "user": {
      "displayName": "Nuka",
      "photoUrl": "https://lh3.googleusercontent.com/a-/AOh14GgzXEbNiG5F4JTW3wieKoLzpVqgW4vsXYaCn0mu=s64",
      "userId": "00108578877416785794"
     },
     "user_tz": -540
    },
    "id": "JXkk358U-Q-m",
    "outputId": "11abd745-ebe4-4984-becd-0e289295ef5b"
   },
   "outputs": [
    {
     "data": {
      "application/vnd.google.colaboratory.intrinsic+json": {
       "type": "string"
      },
      "text/plain": [
       "' 3.142'"
      ]
     },
     "execution_count": 143,
     "metadata": {},
     "output_type": "execute_result"
    }
   ],
   "source": [
    "'%6.3f' % 3.141592"
   ]
  },
  {
   "cell_type": "code",
   "execution_count": null,
   "metadata": {
    "colab": {
     "base_uri": "https://localhost:8080/",
     "height": 36
    },
    "executionInfo": {
     "elapsed": 302,
     "status": "ok",
     "timestamp": 1641202465804,
     "user": {
      "displayName": "Nuka",
      "photoUrl": "https://lh3.googleusercontent.com/a-/AOh14GgzXEbNiG5F4JTW3wieKoLzpVqgW4vsXYaCn0mu=s64",
      "userId": "00108578877416785794"
     },
     "user_tz": -540
    },
    "id": "3xs8S41y-Zrt",
    "outputId": "9b00aae7-acf1-473d-f6bd-3ef3be5b29fe"
   },
   "outputs": [
    {
     "data": {
      "application/vnd.google.colaboratory.intrinsic+json": {
       "type": "string"
      },
      "text/plain": [
       "'I eat tree apples'"
      ]
     },
     "execution_count": 145,
     "metadata": {},
     "output_type": "execute_result"
    }
   ],
   "source": [
    "'I eat %s apples' %'tree'"
   ]
  },
  {
   "cell_type": "code",
   "execution_count": null,
   "metadata": {
    "id": "_MJilmYJShyc"
   },
   "outputs": [],
   "source": []
  }
 ],
 "metadata": {
  "colab": {
   "authorship_tag": "ABX9TyO4tzdzsCeJEnRqaBfB1d7Z",
   "collapsed_sections": [],
   "name": "20220103.ipynb",
   "provenance": []
  },
  "kernelspec": {
   "display_name": "Python 3 (ipykernel)",
   "language": "python",
   "name": "python3"
  },
  "language_info": {
   "codemirror_mode": {
    "name": "ipython",
    "version": 3
   },
   "file_extension": ".py",
   "mimetype": "text/x-python",
   "name": "python",
   "nbconvert_exporter": "python",
   "pygments_lexer": "ipython3",
   "version": "3.9.7"
  }
 },
 "nbformat": 4,
 "nbformat_minor": 1
}
