{
 "cells": [
  {
   "cell_type": "code",
   "execution_count": null,
   "metadata": {
    "colab": {
     "base_uri": "https://localhost:8080/"
    },
    "executionInfo": {
     "elapsed": 12,
     "status": "ok",
     "timestamp": 1641777881645,
     "user": {
      "displayName": "Nuka",
      "photoUrl": "https://lh3.googleusercontent.com/a-/AOh14GgzXEbNiG5F4JTW3wieKoLzpVqgW4vsXYaCn0mu=s64",
      "userId": "00108578877416785794"
     },
     "user_tz": -540
    },
    "id": "LlrKBTLAUWfv",
    "outputId": "c277452d-7ec8-49a9-bce6-b016ff4f5db2"
   },
   "outputs": [
    {
     "data": {
      "text/plain": [
       "[1, 2, 3, 4, 5]"
      ]
     },
     "execution_count": 1,
     "metadata": {},
     "output_type": "execute_result"
    }
   ],
   "source": [
    "data = [1, 2, 3, 4, 5]\n",
    "\n",
    "data"
   ]
  },
  {
   "cell_type": "code",
   "execution_count": null,
   "metadata": {
    "colab": {
     "base_uri": "https://localhost:8080/"
    },
    "executionInfo": {
     "elapsed": 12,
     "status": "ok",
     "timestamp": 1641777881647,
     "user": {
      "displayName": "Nuka",
      "photoUrl": "https://lh3.googleusercontent.com/a-/AOh14GgzXEbNiG5F4JTW3wieKoLzpVqgW4vsXYaCn0mu=s64",
      "userId": "00108578877416785794"
     },
     "user_tz": -540
    },
    "id": "pnDgkYJSljT4",
    "outputId": "e943fba1-0030-49fd-b077-c7fa10d5128f"
   },
   "outputs": [
    {
     "data": {
      "text/plain": [
       "list"
      ]
     },
     "execution_count": 2,
     "metadata": {},
     "output_type": "execute_result"
    }
   ],
   "source": [
    "type(data)"
   ]
  },
  {
   "cell_type": "code",
   "execution_count": null,
   "metadata": {
    "colab": {
     "base_uri": "https://localhost:8080/"
    },
    "executionInfo": {
     "elapsed": 312,
     "status": "ok",
     "timestamp": 1641777901934,
     "user": {
      "displayName": "Nuka",
      "photoUrl": "https://lh3.googleusercontent.com/a-/AOh14GgzXEbNiG5F4JTW3wieKoLzpVqgW4vsXYaCn0mu=s64",
      "userId": "00108578877416785794"
     },
     "user_tz": -540
    },
    "id": "4LkKMEy2llLA",
    "outputId": "26c0d97d-beed-466b-a46f-078d8c3af057"
   },
   "outputs": [
    {
     "data": {
      "text/plain": [
       "[]"
      ]
     },
     "execution_count": 3,
     "metadata": {},
     "output_type": "execute_result"
    }
   ],
   "source": [
    "data1 = []\n",
    "\n",
    "data1"
   ]
  },
  {
   "cell_type": "code",
   "execution_count": null,
   "metadata": {
    "colab": {
     "base_uri": "https://localhost:8080/"
    },
    "executionInfo": {
     "elapsed": 309,
     "status": "ok",
     "timestamp": 1641777914896,
     "user": {
      "displayName": "Nuka",
      "photoUrl": "https://lh3.googleusercontent.com/a-/AOh14GgzXEbNiG5F4JTW3wieKoLzpVqgW4vsXYaCn0mu=s64",
      "userId": "00108578877416785794"
     },
     "user_tz": -540
    },
    "id": "n9f3o2oKlqvJ",
    "outputId": "9b3fac87-0dd5-4544-c4a0-12596611e836"
   },
   "outputs": [
    {
     "data": {
      "text/plain": [
       "list"
      ]
     },
     "execution_count": 4,
     "metadata": {},
     "output_type": "execute_result"
    }
   ],
   "source": [
    "type (data1)"
   ]
  },
  {
   "cell_type": "code",
   "execution_count": null,
   "metadata": {
    "colab": {
     "base_uri": "https://localhost:8080/"
    },
    "executionInfo": {
     "elapsed": 296,
     "status": "ok",
     "timestamp": 1641777929052,
     "user": {
      "displayName": "Nuka",
      "photoUrl": "https://lh3.googleusercontent.com/a-/AOh14GgzXEbNiG5F4JTW3wieKoLzpVqgW4vsXYaCn0mu=s64",
      "userId": "00108578877416785794"
     },
     "user_tz": -540
    },
    "id": "nlIjCwmVluDo",
    "outputId": "f833f639-f328-4591-d566-5cf19fe8eef6"
   },
   "outputs": [
    {
     "data": {
      "text/plain": [
       "[]"
      ]
     },
     "execution_count": 5,
     "metadata": {},
     "output_type": "execute_result"
    }
   ],
   "source": [
    "data2= list()\n",
    "\n",
    "data2"
   ]
  },
  {
   "cell_type": "code",
   "execution_count": null,
   "metadata": {
    "colab": {
     "base_uri": "https://localhost:8080/"
    },
    "executionInfo": {
     "elapsed": 295,
     "status": "ok",
     "timestamp": 1641777980281,
     "user": {
      "displayName": "Nuka",
      "photoUrl": "https://lh3.googleusercontent.com/a-/AOh14GgzXEbNiG5F4JTW3wieKoLzpVqgW4vsXYaCn0mu=s64",
      "userId": "00108578877416785794"
     },
     "user_tz": -540
    },
    "id": "3AgaGDuUlxiJ",
    "outputId": "3e7db4a5-8f84-4806-c0c7-c79191e4cb00"
   },
   "outputs": [
    {
     "data": {
      "text/plain": [
       "list"
      ]
     },
     "execution_count": 6,
     "metadata": {},
     "output_type": "execute_result"
    }
   ],
   "source": [
    "type(data2)"
   ]
  },
  {
   "cell_type": "code",
   "execution_count": null,
   "metadata": {
    "colab": {
     "base_uri": "https://localhost:8080/"
    },
    "executionInfo": {
     "elapsed": 287,
     "status": "ok",
     "timestamp": 1641778107522,
     "user": {
      "displayName": "Nuka",
      "photoUrl": "https://lh3.googleusercontent.com/a-/AOh14GgzXEbNiG5F4JTW3wieKoLzpVqgW4vsXYaCn0mu=s64",
      "userId": "00108578877416785794"
     },
     "user_tz": -540
    },
    "id": "XVr75EQbl-Cy",
    "outputId": "f342315a-ecb4-4028-fa8e-bc6e9e8b309b"
   },
   "outputs": [
    {
     "data": {
      "text/plain": [
       "['I', 'love', 'you']"
      ]
     },
     "execution_count": 8,
     "metadata": {},
     "output_type": "execute_result"
    }
   ],
   "source": [
    "strlist = ['I', 'love', 'you']\n",
    "\n",
    "strlist"
   ]
  },
  {
   "cell_type": "code",
   "execution_count": null,
   "metadata": {
    "colab": {
     "base_uri": "https://localhost:8080/"
    },
    "executionInfo": {
     "elapsed": 293,
     "status": "ok",
     "timestamp": 1641778172131,
     "user": {
      "displayName": "Nuka",
      "photoUrl": "https://lh3.googleusercontent.com/a-/AOh14GgzXEbNiG5F4JTW3wieKoLzpVqgW4vsXYaCn0mu=s64",
      "userId": "00108578877416785794"
     },
     "user_tz": -540
    },
    "id": "ibKwm_JHman5",
    "outputId": "cafaa7aa-0966-48cc-b686-c14dc3e4cd05"
   },
   "outputs": [
    {
     "data": {
      "text/plain": [
       "[1, 2, 'I', 'love', 'you']"
      ]
     },
     "execution_count": 10,
     "metadata": {},
     "output_type": "execute_result"
    }
   ],
   "source": [
    "comlist = [1, 2, 'I', 'love', 'you']\n",
    "\n",
    "comlist"
   ]
  },
  {
   "cell_type": "code",
   "execution_count": null,
   "metadata": {
    "colab": {
     "base_uri": "https://localhost:8080/"
    },
    "executionInfo": {
     "elapsed": 312,
     "status": "ok",
     "timestamp": 1641778222158,
     "user": {
      "displayName": "Nuka",
      "photoUrl": "https://lh3.googleusercontent.com/a-/AOh14GgzXEbNiG5F4JTW3wieKoLzpVqgW4vsXYaCn0mu=s64",
      "userId": "00108578877416785794"
     },
     "user_tz": -540
    },
    "id": "EfVimMutmo75",
    "outputId": "f773fd28-6647-429c-c628-524b6b3904a2"
   },
   "outputs": [
    {
     "data": {
      "text/plain": [
       "[1, 2, ['I', 'love', 'you']]"
      ]
     },
     "execution_count": 11,
     "metadata": {},
     "output_type": "execute_result"
    }
   ],
   "source": [
    "comlist2 = [1, 2, ['I', 'love', 'you']]\n",
    "\n",
    "comlist2"
   ]
  },
  {
   "cell_type": "code",
   "execution_count": null,
   "metadata": {
    "colab": {
     "base_uri": "https://localhost:8080/"
    },
    "executionInfo": {
     "elapsed": 287,
     "status": "ok",
     "timestamp": 1641778282537,
     "user": {
      "displayName": "Nuka",
      "photoUrl": "https://lh3.googleusercontent.com/a-/AOh14GgzXEbNiG5F4JTW3wieKoLzpVqgW4vsXYaCn0mu=s64",
      "userId": "00108578877416785794"
     },
     "user_tz": -540
    },
    "id": "t90_9IU0m5Fh",
    "outputId": "d6f6e82c-a3dd-4ba0-d237-e0afd3d1c8d2"
   },
   "outputs": [
    {
     "data": {
      "text/plain": [
       "['I', ' ', 'l', 'o', 'v', 'e', ' ', 'y', 'o', 'u']"
      ]
     },
     "execution_count": 12,
     "metadata": {},
     "output_type": "execute_result"
    }
   ],
   "source": [
    "strlist = list('I love you')\n",
    "\n",
    "strlist"
   ]
  },
  {
   "cell_type": "code",
   "execution_count": null,
   "metadata": {
    "colab": {
     "base_uri": "https://localhost:8080/"
    },
    "executionInfo": {
     "elapsed": 321,
     "status": "ok",
     "timestamp": 1641778566765,
     "user": {
      "displayName": "Nuka",
      "photoUrl": "https://lh3.googleusercontent.com/a-/AOh14GgzXEbNiG5F4JTW3wieKoLzpVqgW4vsXYaCn0mu=s64",
      "userId": "00108578877416785794"
     },
     "user_tz": -540
    },
    "id": "98a9Rl4tnFPv",
    "outputId": "626373de-689c-4cba-95d4-77d9d75b73b8"
   },
   "outputs": [
    {
     "data": {
      "text/plain": [
       "list"
      ]
     },
     "execution_count": 18,
     "metadata": {},
     "output_type": "execute_result"
    }
   ],
   "source": [
    "type(strlist)"
   ]
  },
  {
   "cell_type": "code",
   "execution_count": null,
   "metadata": {
    "colab": {
     "base_uri": "https://localhost:8080/"
    },
    "executionInfo": {
     "elapsed": 288,
     "status": "ok",
     "timestamp": 1641778534420,
     "user": {
      "displayName": "Nuka",
      "photoUrl": "https://lh3.googleusercontent.com/a-/AOh14GgzXEbNiG5F4JTW3wieKoLzpVqgW4vsXYaCn0mu=s64",
      "userId": "00108578877416785794"
     },
     "user_tz": -540
    },
    "id": "aafn_r7Mn7Jg",
    "outputId": "c7eff950-75f6-48f5-d031-06645c848bcc"
   },
   "outputs": [
    {
     "data": {
      "text/plain": [
       "[1, 2, 3, 4, 5]"
      ]
     },
     "execution_count": 15,
     "metadata": {},
     "output_type": "execute_result"
    }
   ],
   "source": [
    "data"
   ]
  },
  {
   "cell_type": "code",
   "execution_count": null,
   "metadata": {
    "colab": {
     "base_uri": "https://localhost:8080/"
    },
    "executionInfo": {
     "elapsed": 4,
     "status": "ok",
     "timestamp": 1641778538988,
     "user": {
      "displayName": "Nuka",
      "photoUrl": "https://lh3.googleusercontent.com/a-/AOh14GgzXEbNiG5F4JTW3wieKoLzpVqgW4vsXYaCn0mu=s64",
      "userId": "00108578877416785794"
     },
     "user_tz": -540
    },
    "id": "dX9xFImroCaJ",
    "outputId": "5617b19d-c158-4168-acc4-9a153dbb6f88"
   },
   "outputs": [
    {
     "data": {
      "text/plain": [
       "1"
      ]
     },
     "execution_count": 16,
     "metadata": {},
     "output_type": "execute_result"
    }
   ],
   "source": [
    "data[0]"
   ]
  },
  {
   "cell_type": "code",
   "execution_count": null,
   "metadata": {
    "colab": {
     "base_uri": "https://localhost:8080/"
    },
    "executionInfo": {
     "elapsed": 306,
     "status": "ok",
     "timestamp": 1641778616963,
     "user": {
      "displayName": "Nuka",
      "photoUrl": "https://lh3.googleusercontent.com/a-/AOh14GgzXEbNiG5F4JTW3wieKoLzpVqgW4vsXYaCn0mu=s64",
      "userId": "00108578877416785794"
     },
     "user_tz": -540
    },
    "id": "7_6yV2tioGb4",
    "outputId": "07795123-7a05-461b-ed31-6345ddbe2f62"
   },
   "outputs": [
    {
     "data": {
      "text/plain": [
       "4"
      ]
     },
     "execution_count": 20,
     "metadata": {},
     "output_type": "execute_result"
    }
   ],
   "source": [
    "data[0] + data[2]"
   ]
  },
  {
   "cell_type": "code",
   "execution_count": null,
   "metadata": {
    "colab": {
     "base_uri": "https://localhost:8080/"
    },
    "executionInfo": {
     "elapsed": 303,
     "status": "ok",
     "timestamp": 1641778683461,
     "user": {
      "displayName": "Nuka",
      "photoUrl": "https://lh3.googleusercontent.com/a-/AOh14GgzXEbNiG5F4JTW3wieKoLzpVqgW4vsXYaCn0mu=s64",
      "userId": "00108578877416785794"
     },
     "user_tz": -540
    },
    "id": "RKm0qjmVoWPA",
    "outputId": "92d87687-c9b9-4f15-c538-e8583e7b4c6f"
   },
   "outputs": [
    {
     "data": {
      "text/plain": [
       "5"
      ]
     },
     "execution_count": 21,
     "metadata": {},
     "output_type": "execute_result"
    }
   ],
   "source": [
    "data[-1]"
   ]
  },
  {
   "cell_type": "code",
   "execution_count": null,
   "metadata": {
    "colab": {
     "base_uri": "https://localhost:8080/"
    },
    "executionInfo": {
     "elapsed": 291,
     "status": "ok",
     "timestamp": 1641779077686,
     "user": {
      "displayName": "Nuka",
      "photoUrl": "https://lh3.googleusercontent.com/a-/AOh14GgzXEbNiG5F4JTW3wieKoLzpVqgW4vsXYaCn0mu=s64",
      "userId": "00108578877416785794"
     },
     "user_tz": -540
    },
    "id": "8_tAyBt3opuA",
    "outputId": "60a5272c-c494-4660-98da-8c3676f69102"
   },
   "outputs": [
    {
     "data": {
      "text/plain": [
       "['I', \"'\", 'm', ' ', 'a', ' ', 'm', 'a', 'n']"
      ]
     },
     "execution_count": 24,
     "metadata": {},
     "output_type": "execute_result"
    }
   ],
   "source": [
    "str_list0001 = list(\"I'm a man\")\n",
    "\n",
    "str_list0001"
   ]
  },
  {
   "cell_type": "code",
   "execution_count": null,
   "metadata": {
    "colab": {
     "base_uri": "https://localhost:8080/",
     "height": 36
    },
    "executionInfo": {
     "elapsed": 289,
     "status": "ok",
     "timestamp": 1641779097432,
     "user": {
      "displayName": "Nuka",
      "photoUrl": "https://lh3.googleusercontent.com/a-/AOh14GgzXEbNiG5F4JTW3wieKoLzpVqgW4vsXYaCn0mu=s64",
      "userId": "00108578877416785794"
     },
     "user_tz": -540
    },
    "id": "LG5WetL8qBGY",
    "outputId": "bd4a1b96-1719-4720-c168-cf2d67429df2"
   },
   "outputs": [
    {
     "data": {
      "application/vnd.google.colaboratory.intrinsic+json": {
       "type": "string"
      },
      "text/plain": [
       "'a'"
      ]
     },
     "execution_count": 25,
     "metadata": {},
     "output_type": "execute_result"
    }
   ],
   "source": [
    "str_list0001 [4]"
   ]
  },
  {
   "cell_type": "code",
   "execution_count": null,
   "metadata": {
    "colab": {
     "base_uri": "https://localhost:8080/",
     "height": 36
    },
    "executionInfo": {
     "elapsed": 291,
     "status": "ok",
     "timestamp": 1641779151014,
     "user": {
      "displayName": "Nuka",
      "photoUrl": "https://lh3.googleusercontent.com/a-/AOh14GgzXEbNiG5F4JTW3wieKoLzpVqgW4vsXYaCn0mu=s64",
      "userId": "00108578877416785794"
     },
     "user_tz": -540
    },
    "id": "YhyExK9XqOyQ",
    "outputId": "cd5e4267-fad6-43bc-d10c-6e778a01a1e9"
   },
   "outputs": [
    {
     "data": {
      "application/vnd.google.colaboratory.intrinsic+json": {
       "type": "string"
      },
      "text/plain": [
       "\"I'm\""
      ]
     },
     "execution_count": 26,
     "metadata": {},
     "output_type": "execute_result"
    }
   ],
   "source": [
    "str_list0001 [0] + str_list0001 [1] + str_list0001 [2]"
   ]
  },
  {
   "cell_type": "code",
   "execution_count": null,
   "metadata": {
    "colab": {
     "base_uri": "https://localhost:8080/"
    },
    "executionInfo": {
     "elapsed": 297,
     "status": "ok",
     "timestamp": 1641779177831,
     "user": {
      "displayName": "Nuka",
      "photoUrl": "https://lh3.googleusercontent.com/a-/AOh14GgzXEbNiG5F4JTW3wieKoLzpVqgW4vsXYaCn0mu=s64",
      "userId": "00108578877416785794"
     },
     "user_tz": -540
    },
    "id": "iguMLVXpqb3n",
    "outputId": "79775044-bcf8-48c1-a880-2161a8ecb523"
   },
   "outputs": [
    {
     "data": {
      "text/plain": [
       "[1, 2, ['I', 'love', 'you']]"
      ]
     },
     "execution_count": 27,
     "metadata": {},
     "output_type": "execute_result"
    }
   ],
   "source": [
    "comlist2"
   ]
  },
  {
   "cell_type": "code",
   "execution_count": null,
   "metadata": {
    "colab": {
     "base_uri": "https://localhost:8080/"
    },
    "executionInfo": {
     "elapsed": 303,
     "status": "ok",
     "timestamp": 1641779184842,
     "user": {
      "displayName": "Nuka",
      "photoUrl": "https://lh3.googleusercontent.com/a-/AOh14GgzXEbNiG5F4JTW3wieKoLzpVqgW4vsXYaCn0mu=s64",
      "userId": "00108578877416785794"
     },
     "user_tz": -540
    },
    "id": "kNouwKcuqiao",
    "outputId": "1b33b91f-e101-4c8a-af39-0e111617905a"
   },
   "outputs": [
    {
     "data": {
      "text/plain": [
       "1"
      ]
     },
     "execution_count": 28,
     "metadata": {},
     "output_type": "execute_result"
    }
   ],
   "source": [
    "comlist2[0]"
   ]
  },
  {
   "cell_type": "code",
   "execution_count": null,
   "metadata": {
    "colab": {
     "base_uri": "https://localhost:8080/"
    },
    "executionInfo": {
     "elapsed": 288,
     "status": "ok",
     "timestamp": 1641779212404,
     "user": {
      "displayName": "Nuka",
      "photoUrl": "https://lh3.googleusercontent.com/a-/AOh14GgzXEbNiG5F4JTW3wieKoLzpVqgW4vsXYaCn0mu=s64",
      "userId": "00108578877416785794"
     },
     "user_tz": -540
    },
    "id": "O4g_t8RxqkIH",
    "outputId": "0c5c0509-4eb1-407e-db77-a8324f92eee7"
   },
   "outputs": [
    {
     "data": {
      "text/plain": [
       "['I', 'love', 'you']"
      ]
     },
     "execution_count": 29,
     "metadata": {},
     "output_type": "execute_result"
    }
   ],
   "source": [
    "comlist2[-1]"
   ]
  },
  {
   "cell_type": "code",
   "execution_count": null,
   "metadata": {
    "colab": {
     "base_uri": "https://localhost:8080/",
     "height": 36
    },
    "executionInfo": {
     "elapsed": 285,
     "status": "ok",
     "timestamp": 1641779231933,
     "user": {
      "displayName": "Nuka",
      "photoUrl": "https://lh3.googleusercontent.com/a-/AOh14GgzXEbNiG5F4JTW3wieKoLzpVqgW4vsXYaCn0mu=s64",
      "userId": "00108578877416785794"
     },
     "user_tz": -540
    },
    "id": "SOioTKsKqq24",
    "outputId": "f1ba0b30-558e-46ef-af2e-3c884d629680"
   },
   "outputs": [
    {
     "data": {
      "application/vnd.google.colaboratory.intrinsic+json": {
       "type": "string"
      },
      "text/plain": [
       "'you'"
      ]
     },
     "execution_count": 30,
     "metadata": {},
     "output_type": "execute_result"
    }
   ],
   "source": [
    "comlist2[-1][-1]"
   ]
  },
  {
   "cell_type": "code",
   "execution_count": null,
   "metadata": {
    "colab": {
     "base_uri": "https://localhost:8080/",
     "height": 36
    },
    "executionInfo": {
     "elapsed": 300,
     "status": "ok",
     "timestamp": 1641779317057,
     "user": {
      "displayName": "Nuka",
      "photoUrl": "https://lh3.googleusercontent.com/a-/AOh14GgzXEbNiG5F4JTW3wieKoLzpVqgW4vsXYaCn0mu=s64",
      "userId": "00108578877416785794"
     },
     "user_tz": -540
    },
    "id": "NMrP3teRqvoH",
    "outputId": "b4d3d35c-14c3-4f33-9d01-ad66cfe98bdf"
   },
   "outputs": [
    {
     "data": {
      "application/vnd.google.colaboratory.intrinsic+json": {
       "type": "string"
      },
      "text/plain": [
       "'love'"
      ]
     },
     "execution_count": 33,
     "metadata": {},
     "output_type": "execute_result"
    }
   ],
   "source": [
    "comlist2[-1][-2]"
   ]
  },
  {
   "cell_type": "code",
   "execution_count": null,
   "metadata": {
    "colab": {
     "base_uri": "https://localhost:8080/",
     "height": 177
    },
    "executionInfo": {
     "elapsed": 319,
     "status": "error",
     "timestamp": 1641779411894,
     "user": {
      "displayName": "Nuka",
      "photoUrl": "https://lh3.googleusercontent.com/a-/AOh14GgzXEbNiG5F4JTW3wieKoLzpVqgW4vsXYaCn0mu=s64",
      "userId": "00108578877416785794"
     },
     "user_tz": -540
    },
    "id": "vBHxUoUPq9tQ",
    "outputId": "26741407-4e73-4b34-b8e7-e72185ed4ea4"
   },
   "outputs": [
    {
     "ename": "TypeError",
     "evalue": "ignored",
     "output_type": "error",
     "traceback": [
      "\u001b[0;31m---------------------------------------------------------------------------\u001b[0m",
      "\u001b[0;31mTypeError\u001b[0m                                 Traceback (most recent call last)",
      "\u001b[0;32m<ipython-input-34-8450f9d47a03>\u001b[0m in \u001b[0;36m<module>\u001b[0;34m()\u001b[0m\n\u001b[0;32m----> 1\u001b[0;31m \u001b[0mcomlist2\u001b[0m\u001b[0;34m[\u001b[0m\u001b[0;34m[\u001b[0m\u001b[0;36m1\u001b[0m\u001b[0;34m]\u001b[0m\u001b[0;34m]\u001b[0m\u001b[0;34m\u001b[0m\u001b[0;34m\u001b[0m\u001b[0m\n\u001b[0m",
      "\u001b[0;31mTypeError\u001b[0m: list indices must be integers or slices, not list"
     ]
    }
   ],
   "source": [
    "comlist2[[1]]"
   ]
  },
  {
   "cell_type": "code",
   "execution_count": null,
   "metadata": {
    "colab": {
     "base_uri": "https://localhost:8080/"
    },
    "executionInfo": {
     "elapsed": 479,
     "status": "ok",
     "timestamp": 1641779754241,
     "user": {
      "displayName": "Nuka",
      "photoUrl": "https://lh3.googleusercontent.com/a-/AOh14GgzXEbNiG5F4JTW3wieKoLzpVqgW4vsXYaCn0mu=s64",
      "userId": "00108578877416785794"
     },
     "user_tz": -540
    },
    "id": "LI46xQuXrbgX",
    "outputId": "f4f66c77-966f-49c8-d97a-fc9c6c7dbc77"
   },
   "outputs": [
    {
     "data": {
      "text/plain": [
       "[1, 2, ['a', 'b', ['life', 'is', 'good']]]"
      ]
     },
     "execution_count": 35,
     "metadata": {},
     "output_type": "execute_result"
    }
   ],
   "source": [
    "comlist3 = [1, 2, ['a', 'b', ['life', 'is', 'good']]]\n",
    "\n",
    "comlist3"
   ]
  },
  {
   "cell_type": "code",
   "execution_count": null,
   "metadata": {
    "colab": {
     "base_uri": "https://localhost:8080/",
     "height": 36
    },
    "executionInfo": {
     "elapsed": 289,
     "status": "ok",
     "timestamp": 1641779799783,
     "user": {
      "displayName": "Nuka",
      "photoUrl": "https://lh3.googleusercontent.com/a-/AOh14GgzXEbNiG5F4JTW3wieKoLzpVqgW4vsXYaCn0mu=s64",
      "userId": "00108578877416785794"
     },
     "user_tz": -540
    },
    "id": "2Aty-IMisvF_",
    "outputId": "0f21070b-399b-486f-a1e1-ad6718c86dc5"
   },
   "outputs": [
    {
     "data": {
      "application/vnd.google.colaboratory.intrinsic+json": {
       "type": "string"
      },
      "text/plain": [
       "'life'"
      ]
     },
     "execution_count": 36,
     "metadata": {},
     "output_type": "execute_result"
    }
   ],
   "source": [
    "comlist3 [-1][-1][0]"
   ]
  },
  {
   "cell_type": "code",
   "execution_count": null,
   "metadata": {
    "colab": {
     "base_uri": "https://localhost:8080/"
    },
    "executionInfo": {
     "elapsed": 414,
     "status": "ok",
     "timestamp": 1641781117212,
     "user": {
      "displayName": "Nuka",
      "photoUrl": "https://lh3.googleusercontent.com/a-/AOh14GgzXEbNiG5F4JTW3wieKoLzpVqgW4vsXYaCn0mu=s64",
      "userId": "00108578877416785794"
     },
     "user_tz": -540
    },
    "id": "0NRpmRbns6Qv",
    "outputId": "a3b0542d-22f6-4010-8c1f-46b4c9f82121"
   },
   "outputs": [
    {
     "data": {
      "text/plain": [
       "[1, 2, 3, 4, 5]"
      ]
     },
     "execution_count": 37,
     "metadata": {},
     "output_type": "execute_result"
    }
   ],
   "source": [
    "data"
   ]
  },
  {
   "cell_type": "code",
   "execution_count": null,
   "metadata": {
    "colab": {
     "base_uri": "https://localhost:8080/"
    },
    "executionInfo": {
     "elapsed": 541,
     "status": "ok",
     "timestamp": 1641781153926,
     "user": {
      "displayName": "Nuka",
      "photoUrl": "https://lh3.googleusercontent.com/a-/AOh14GgzXEbNiG5F4JTW3wieKoLzpVqgW4vsXYaCn0mu=s64",
      "userId": "00108578877416785794"
     },
     "user_tz": -540
    },
    "id": "SVr1wFQTx73g",
    "outputId": "dbe6e553-8c99-404c-a578-24ce2c0ffdbc"
   },
   "outputs": [
    {
     "data": {
      "text/plain": [
       "[1, 2]"
      ]
     },
     "execution_count": 38,
     "metadata": {},
     "output_type": "execute_result"
    }
   ],
   "source": [
    "sData = data[:2]\n",
    "\n",
    "sData"
   ]
  },
  {
   "cell_type": "code",
   "execution_count": null,
   "metadata": {
    "colab": {
     "base_uri": "https://localhost:8080/"
    },
    "executionInfo": {
     "elapsed": 317,
     "status": "ok",
     "timestamp": 1641781313749,
     "user": {
      "displayName": "Nuka",
      "photoUrl": "https://lh3.googleusercontent.com/a-/AOh14GgzXEbNiG5F4JTW3wieKoLzpVqgW4vsXYaCn0mu=s64",
      "userId": "00108578877416785794"
     },
     "user_tz": -540
    },
    "id": "vQkx7OipyEy3",
    "outputId": "543bceb1-b3d6-4660-e6a4-492bfa845b07"
   },
   "outputs": [
    {
     "data": {
      "text/plain": [
       "[3, 4, 5]"
      ]
     },
     "execution_count": 40,
     "metadata": {},
     "output_type": "execute_result"
    }
   ],
   "source": [
    "sData2 = data[2:]\n",
    "\n",
    "sData2"
   ]
  },
  {
   "cell_type": "code",
   "execution_count": null,
   "metadata": {
    "colab": {
     "base_uri": "https://localhost:8080/"
    },
    "executionInfo": {
     "elapsed": 428,
     "status": "ok",
     "timestamp": 1641781401009,
     "user": {
      "displayName": "Nuka",
      "photoUrl": "https://lh3.googleusercontent.com/a-/AOh14GgzXEbNiG5F4JTW3wieKoLzpVqgW4vsXYaCn0mu=s64",
      "userId": "00108578877416785794"
     },
     "user_tz": -540
    },
    "id": "ZBFzCEigypom",
    "outputId": "aee30ee6-3a2b-4b88-c3bc-ab051e9778f2"
   },
   "outputs": [
    {
     "data": {
      "text/plain": [
       "[1, 2, 3, ['a', 'b', 'c'], 4, 5]"
      ]
     },
     "execution_count": 42,
     "metadata": {},
     "output_type": "execute_result"
    }
   ],
   "source": [
    "data3 = [1, 2, 3, ['a', 'b', 'c'], 4, 5]\n",
    "\n",
    "data3"
   ]
  },
  {
   "cell_type": "code",
   "execution_count": null,
   "metadata": {
    "colab": {
     "base_uri": "https://localhost:8080/"
    },
    "executionInfo": {
     "elapsed": 493,
     "status": "ok",
     "timestamp": 1641781418300,
     "user": {
      "displayName": "Nuka",
      "photoUrl": "https://lh3.googleusercontent.com/a-/AOh14GgzXEbNiG5F4JTW3wieKoLzpVqgW4vsXYaCn0mu=s64",
      "userId": "00108578877416785794"
     },
     "user_tz": -540
    },
    "id": "2OYkqGrPy2va",
    "outputId": "ee73cd95-86f7-4e71-db84-8984522f993c"
   },
   "outputs": [
    {
     "data": {
      "text/plain": [
       "[3, ['a', 'b', 'c'], 4]"
      ]
     },
     "execution_count": 43,
     "metadata": {},
     "output_type": "execute_result"
    }
   ],
   "source": [
    "data3[2:5]"
   ]
  },
  {
   "cell_type": "code",
   "execution_count": null,
   "metadata": {
    "colab": {
     "base_uri": "https://localhost:8080/"
    },
    "executionInfo": {
     "elapsed": 3,
     "status": "ok",
     "timestamp": 1641781475291,
     "user": {
      "displayName": "Nuka",
      "photoUrl": "https://lh3.googleusercontent.com/a-/AOh14GgzXEbNiG5F4JTW3wieKoLzpVqgW4vsXYaCn0mu=s64",
      "userId": "00108578877416785794"
     },
     "user_tz": -540
    },
    "id": "ulOwLorWzFWv",
    "outputId": "ea4e9ed9-17f4-42e1-c8e8-23b1f41e2e8b"
   },
   "outputs": [
    {
     "data": {
      "text/plain": [
       "['a', 'b']"
      ]
     },
     "execution_count": 44,
     "metadata": {},
     "output_type": "execute_result"
    }
   ],
   "source": [
    "data3[3][:2]"
   ]
  },
  {
   "cell_type": "code",
   "execution_count": null,
   "metadata": {
    "colab": {
     "base_uri": "https://localhost:8080/"
    },
    "executionInfo": {
     "elapsed": 445,
     "status": "ok",
     "timestamp": 1641781638587,
     "user": {
      "displayName": "Nuka",
      "photoUrl": "https://lh3.googleusercontent.com/a-/AOh14GgzXEbNiG5F4JTW3wieKoLzpVqgW4vsXYaCn0mu=s64",
      "userId": "00108578877416785794"
     },
     "user_tz": -540
    },
    "id": "kotYv0JBzP2e",
    "outputId": "cb191212-23a2-4cf1-99c8-e3b3d9fe0a15"
   },
   "outputs": [
    {
     "data": {
      "text/plain": [
       "[1, 2, 3, 4, 5, 6]"
      ]
     },
     "execution_count": 45,
     "metadata": {},
     "output_type": "execute_result"
    }
   ],
   "source": [
    "a = [1, 2, 3]\n",
    "b = [4, 5, 6]\n",
    "\n",
    "a + b"
   ]
  },
  {
   "cell_type": "code",
   "execution_count": null,
   "metadata": {
    "colab": {
     "base_uri": "https://localhost:8080/"
    },
    "executionInfo": {
     "elapsed": 467,
     "status": "ok",
     "timestamp": 1641781713761,
     "user": {
      "displayName": "Nuka",
      "photoUrl": "https://lh3.googleusercontent.com/a-/AOh14GgzXEbNiG5F4JTW3wieKoLzpVqgW4vsXYaCn0mu=s64",
      "userId": "00108578877416785794"
     },
     "user_tz": -540
    },
    "id": "066_iBzSz6-O",
    "outputId": "8486ebb6-d4d9-45ec-deb5-5a77e78f43cf"
   },
   "outputs": [
    {
     "data": {
      "text/plain": [
       "[1, 2, 3, 1, 2, 3, 1, 2, 3]"
      ]
     },
     "execution_count": 46,
     "metadata": {},
     "output_type": "execute_result"
    }
   ],
   "source": [
    "a*3"
   ]
  },
  {
   "cell_type": "code",
   "execution_count": null,
   "metadata": {
    "colab": {
     "base_uri": "https://localhost:8080/"
    },
    "executionInfo": {
     "elapsed": 489,
     "status": "ok",
     "timestamp": 1641781748903,
     "user": {
      "displayName": "Nuka",
      "photoUrl": "https://lh3.googleusercontent.com/a-/AOh14GgzXEbNiG5F4JTW3wieKoLzpVqgW4vsXYaCn0mu=s64",
      "userId": "00108578877416785794"
     },
     "user_tz": -540
    },
    "id": "3ggV1xV20NfH",
    "outputId": "d54d1af7-ac57-4309-ad20-4616e228ec22"
   },
   "outputs": [
    {
     "data": {
      "text/plain": [
       "[1, 2, 3]"
      ]
     },
     "execution_count": 47,
     "metadata": {},
     "output_type": "execute_result"
    }
   ],
   "source": [
    "a"
   ]
  },
  {
   "cell_type": "code",
   "execution_count": null,
   "metadata": {
    "colab": {
     "base_uri": "https://localhost:8080/"
    },
    "executionInfo": {
     "elapsed": 1003,
     "status": "ok",
     "timestamp": 1641781821960,
     "user": {
      "displayName": "Nuka",
      "photoUrl": "https://lh3.googleusercontent.com/a-/AOh14GgzXEbNiG5F4JTW3wieKoLzpVqgW4vsXYaCn0mu=s64",
      "userId": "00108578877416785794"
     },
     "user_tz": -540
    },
    "id": "fL4LpSYC0V-F",
    "outputId": "d0a9b3ad-3ad9-4030-fee8-8a2cce9a1453"
   },
   "outputs": [
    {
     "data": {
      "text/plain": [
       "3"
      ]
     },
     "execution_count": 50,
     "metadata": {},
     "output_type": "execute_result"
    }
   ],
   "source": [
    "len(a)"
   ]
  },
  {
   "cell_type": "code",
   "execution_count": null,
   "metadata": {
    "colab": {
     "base_uri": "https://localhost:8080/",
     "height": 177
    },
    "executionInfo": {
     "elapsed": 517,
     "status": "error",
     "timestamp": 1641781851279,
     "user": {
      "displayName": "Nuka",
      "photoUrl": "https://lh3.googleusercontent.com/a-/AOh14GgzXEbNiG5F4JTW3wieKoLzpVqgW4vsXYaCn0mu=s64",
      "userId": "00108578877416785794"
     },
     "user_tz": -540
    },
    "id": "Ss2dg42w0jgG",
    "outputId": "acc8058e-55a7-43c7-981a-eb27b08af66e"
   },
   "outputs": [
    {
     "ename": "TypeError",
     "evalue": "ignored",
     "output_type": "error",
     "traceback": [
      "\u001b[0;31m---------------------------------------------------------------------------\u001b[0m",
      "\u001b[0;31mTypeError\u001b[0m                                 Traceback (most recent call last)",
      "\u001b[0;32m<ipython-input-51-194fa3184bd9>\u001b[0m in \u001b[0;36m<module>\u001b[0;34m()\u001b[0m\n\u001b[0;32m----> 1\u001b[0;31m \u001b[0ma\u001b[0m\u001b[0;34m[\u001b[0m\u001b[0;36m2\u001b[0m\u001b[0;34m]\u001b[0m \u001b[0;34m+\u001b[0m \u001b[0;34m'hahaha'\u001b[0m\u001b[0;34m\u001b[0m\u001b[0;34m\u001b[0m\u001b[0m\n\u001b[0m",
      "\u001b[0;31mTypeError\u001b[0m: unsupported operand type(s) for +: 'int' and 'str'"
     ]
    }
   ],
   "source": [
    "a[2] + 'hahaha'"
   ]
  },
  {
   "cell_type": "code",
   "execution_count": null,
   "metadata": {
    "colab": {
     "base_uri": "https://localhost:8080/",
     "height": 36
    },
    "executionInfo": {
     "elapsed": 472,
     "status": "ok",
     "timestamp": 1641781865332,
     "user": {
      "displayName": "Nuka",
      "photoUrl": "https://lh3.googleusercontent.com/a-/AOh14GgzXEbNiG5F4JTW3wieKoLzpVqgW4vsXYaCn0mu=s64",
      "userId": "00108578877416785794"
     },
     "user_tz": -540
    },
    "id": "BfFrvfDi0vDm",
    "outputId": "3c328049-2c64-4e3b-b2a7-60b0a6815375"
   },
   "outputs": [
    {
     "data": {
      "application/vnd.google.colaboratory.intrinsic+json": {
       "type": "string"
      },
      "text/plain": [
       "'3hahaha'"
      ]
     },
     "execution_count": 52,
     "metadata": {},
     "output_type": "execute_result"
    }
   ],
   "source": [
    "str(a[2]) + 'hahaha'"
   ]
  },
  {
   "cell_type": "code",
   "execution_count": null,
   "metadata": {
    "colab": {
     "base_uri": "https://localhost:8080/"
    },
    "executionInfo": {
     "elapsed": 452,
     "status": "ok",
     "timestamp": 1641782497289,
     "user": {
      "displayName": "Nuka",
      "photoUrl": "https://lh3.googleusercontent.com/a-/AOh14GgzXEbNiG5F4JTW3wieKoLzpVqgW4vsXYaCn0mu=s64",
      "userId": "00108578877416785794"
     },
     "user_tz": -540
    },
    "id": "ITYl2kI00yfU",
    "outputId": "2cf14ad6-6ae7-4db9-9b02-412e45ab80eb"
   },
   "outputs": [
    {
     "data": {
      "text/plain": [
       "[1, 2, 3]"
      ]
     },
     "execution_count": 53,
     "metadata": {},
     "output_type": "execute_result"
    }
   ],
   "source": [
    "a"
   ]
  },
  {
   "cell_type": "code",
   "execution_count": null,
   "metadata": {
    "colab": {
     "base_uri": "https://localhost:8080/"
    },
    "executionInfo": {
     "elapsed": 329,
     "status": "ok",
     "timestamp": 1641782797883,
     "user": {
      "displayName": "Nuka",
      "photoUrl": "https://lh3.googleusercontent.com/a-/AOh14GgzXEbNiG5F4JTW3wieKoLzpVqgW4vsXYaCn0mu=s64",
      "userId": "00108578877416785794"
     },
     "user_tz": -540
    },
    "id": "OlOfbye23MyF",
    "outputId": "32a9f371-f089-49df-855e-f6ed5234d167"
   },
   "outputs": [
    {
     "data": {
      "text/plain": [
       "[5]"
      ]
     },
     "execution_count": 58,
     "metadata": {},
     "output_type": "execute_result"
    }
   ],
   "source": [
    "a[-1] = 5\n",
    "\n",
    "a"
   ]
  },
  {
   "cell_type": "code",
   "execution_count": null,
   "metadata": {
    "colab": {
     "base_uri": "https://localhost:8080/"
    },
    "executionInfo": {
     "elapsed": 340,
     "status": "ok",
     "timestamp": 1641782777448,
     "user": {
      "displayName": "Nuka",
      "photoUrl": "https://lh3.googleusercontent.com/a-/AOh14GgzXEbNiG5F4JTW3wieKoLzpVqgW4vsXYaCn0mu=s64",
      "userId": "00108578877416785794"
     },
     "user_tz": -540
    },
    "id": "UMLCzfIv3s5l",
    "outputId": "c17ccf37-8bac-471c-92d8-2c44155fae76"
   },
   "outputs": [
    {
     "data": {
      "text/plain": [
       "[5]"
      ]
     },
     "execution_count": 57,
     "metadata": {},
     "output_type": "execute_result"
    }
   ],
   "source": [
    "del a[0]\n",
    "\n",
    "a"
   ]
  },
  {
   "cell_type": "code",
   "execution_count": null,
   "metadata": {
    "colab": {
     "base_uri": "https://localhost:8080/"
    },
    "executionInfo": {
     "elapsed": 371,
     "status": "ok",
     "timestamp": 1641782873565,
     "user": {
      "displayName": "Nuka",
      "photoUrl": "https://lh3.googleusercontent.com/a-/AOh14GgzXEbNiG5F4JTW3wieKoLzpVqgW4vsXYaCn0mu=s64",
      "userId": "00108578877416785794"
     },
     "user_tz": -540
    },
    "id": "8rCb2TJR4ENm",
    "outputId": "9ed43448-24f5-4bf3-dd44-cc0665966d47"
   },
   "outputs": [
    {
     "data": {
      "text/plain": [
       "[1, 2]"
      ]
     },
     "execution_count": 61,
     "metadata": {},
     "output_type": "execute_result"
    }
   ],
   "source": [
    "a=[1, 2, 3, 4, 5]\n",
    "\n",
    "del a[2:]\n",
    "\n",
    "a"
   ]
  },
  {
   "cell_type": "code",
   "execution_count": null,
   "metadata": {
    "colab": {
     "base_uri": "https://localhost:8080/"
    },
    "executionInfo": {
     "elapsed": 344,
     "status": "ok",
     "timestamp": 1641782921713,
     "user": {
      "displayName": "Nuka",
      "photoUrl": "https://lh3.googleusercontent.com/a-/AOh14GgzXEbNiG5F4JTW3wieKoLzpVqgW4vsXYaCn0mu=s64",
      "userId": "00108578877416785794"
     },
     "user_tz": -540
    },
    "id": "zab91XRW4nQ9",
    "outputId": "5dde941f-a613-4e8a-8316-611ddb7bf345"
   },
   "outputs": [
    {
     "data": {
      "text/plain": [
       "[1, 2, 3]"
      ]
     },
     "execution_count": 62,
     "metadata": {},
     "output_type": "execute_result"
    }
   ],
   "source": [
    "a = [1, 2, 3]\n",
    "\n",
    "a"
   ]
  },
  {
   "cell_type": "code",
   "execution_count": null,
   "metadata": {
    "colab": {
     "base_uri": "https://localhost:8080/"
    },
    "executionInfo": {
     "elapsed": 347,
     "status": "ok",
     "timestamp": 1641782934114,
     "user": {
      "displayName": "Nuka",
      "photoUrl": "https://lh3.googleusercontent.com/a-/AOh14GgzXEbNiG5F4JTW3wieKoLzpVqgW4vsXYaCn0mu=s64",
      "userId": "00108578877416785794"
     },
     "user_tz": -540
    },
    "id": "9M0FM9qi40WF",
    "outputId": "132a22ce-27e9-45ff-c438-bb6d3c4d1c38"
   },
   "outputs": [
    {
     "data": {
      "text/plain": [
       "[1, 2, 5]"
      ]
     },
     "execution_count": 64,
     "metadata": {},
     "output_type": "execute_result"
    }
   ],
   "source": [
    "a[-1] = 5\n",
    "\n",
    "a"
   ]
  },
  {
   "cell_type": "code",
   "execution_count": null,
   "metadata": {
    "colab": {
     "base_uri": "https://localhost:8080/"
    },
    "executionInfo": {
     "elapsed": 344,
     "status": "ok",
     "timestamp": 1641782946491,
     "user": {
      "displayName": "Nuka",
      "photoUrl": "https://lh3.googleusercontent.com/a-/AOh14GgzXEbNiG5F4JTW3wieKoLzpVqgW4vsXYaCn0mu=s64",
      "userId": "00108578877416785794"
     },
     "user_tz": -540
    },
    "id": "MONP4Og642nE",
    "outputId": "23e590a2-29f1-4487-deea-46ab5b99298b"
   },
   "outputs": [
    {
     "data": {
      "text/plain": [
       "[5]"
      ]
     },
     "execution_count": 66,
     "metadata": {},
     "output_type": "execute_result"
    }
   ],
   "source": [
    "del a[0]\n",
    "\n",
    "a"
   ]
  },
  {
   "cell_type": "code",
   "execution_count": null,
   "metadata": {
    "colab": {
     "base_uri": "https://localhost:8080/"
    },
    "executionInfo": {
     "elapsed": 340,
     "status": "ok",
     "timestamp": 1641783322810,
     "user": {
      "displayName": "Nuka",
      "photoUrl": "https://lh3.googleusercontent.com/a-/AOh14GgzXEbNiG5F4JTW3wieKoLzpVqgW4vsXYaCn0mu=s64",
      "userId": "00108578877416785794"
     },
     "user_tz": -540
    },
    "id": "5RX17ReU45fi",
    "outputId": "eb449975-d8f7-4777-8771-bd1b4488f0b5"
   },
   "outputs": [
    {
     "data": {
      "text/plain": [
       "[1, 2, 3, 4]"
      ]
     },
     "execution_count": 77,
     "metadata": {},
     "output_type": "execute_result"
    }
   ],
   "source": [
    "a = [1,2,3]\n",
    "\n",
    "a.append(4)\n",
    "\n",
    "a"
   ]
  },
  {
   "cell_type": "code",
   "execution_count": null,
   "metadata": {
    "colab": {
     "base_uri": "https://localhost:8080/"
    },
    "executionInfo": {
     "elapsed": 339,
     "status": "ok",
     "timestamp": 1641783113577,
     "user": {
      "displayName": "Nuka",
      "photoUrl": "https://lh3.googleusercontent.com/a-/AOh14GgzXEbNiG5F4JTW3wieKoLzpVqgW4vsXYaCn0mu=s64",
      "userId": "00108578877416785794"
     },
     "user_tz": -540
    },
    "id": "Z_EVkGb45a3N",
    "outputId": "c96d47b8-0205-4c1a-f110-1c0c2d192ebd"
   },
   "outputs": [
    {
     "data": {
      "text/plain": [
       "[1, 2, 3, 4, [5, 6], [5, 6]]"
      ]
     },
     "execution_count": 70,
     "metadata": {},
     "output_type": "execute_result"
    }
   ],
   "source": [
    "a"
   ]
  },
  {
   "cell_type": "code",
   "execution_count": null,
   "metadata": {
    "colab": {
     "base_uri": "https://localhost:8080/"
    },
    "executionInfo": {
     "elapsed": 335,
     "status": "ok",
     "timestamp": 1641783129097,
     "user": {
      "displayName": "Nuka",
      "photoUrl": "https://lh3.googleusercontent.com/a-/AOh14GgzXEbNiG5F4JTW3wieKoLzpVqgW4vsXYaCn0mu=s64",
      "userId": "00108578877416785794"
     },
     "user_tz": -540
    },
    "id": "CcFiAtsP5jRN",
    "outputId": "a81e88b2-887f-456f-86dd-d257ed81c6c2"
   },
   "outputs": [
    {
     "data": {
      "text/plain": [
       "[1, 2, 3, 4]"
      ]
     },
     "execution_count": 72,
     "metadata": {},
     "output_type": "execute_result"
    }
   ],
   "source": [
    "del a[-1]\n",
    "a"
   ]
  },
  {
   "cell_type": "code",
   "execution_count": null,
   "metadata": {
    "colab": {
     "base_uri": "https://localhost:8080/"
    },
    "executionInfo": {
     "elapsed": 353,
     "status": "ok",
     "timestamp": 1641783331090,
     "user": {
      "displayName": "Nuka",
      "photoUrl": "https://lh3.googleusercontent.com/a-/AOh14GgzXEbNiG5F4JTW3wieKoLzpVqgW4vsXYaCn0mu=s64",
      "userId": "00108578877416785794"
     },
     "user_tz": -540
    },
    "id": "F8V0bXLw5mNF",
    "outputId": "871386b6-ad35-470a-e4b4-932f8176c7be"
   },
   "outputs": [
    {
     "data": {
      "text/plain": [
       "[1, 2, 3, 4, [5, 6]]"
      ]
     },
     "execution_count": 78,
     "metadata": {},
     "output_type": "execute_result"
    }
   ],
   "source": [
    "a.append( [5, 6] )\n",
    "a"
   ]
  },
  {
   "cell_type": "code",
   "execution_count": null,
   "metadata": {
    "colab": {
     "base_uri": "https://localhost:8080/"
    },
    "executionInfo": {
     "elapsed": 360,
     "status": "ok",
     "timestamp": 1641783334242,
     "user": {
      "displayName": "Nuka",
      "photoUrl": "https://lh3.googleusercontent.com/a-/AOh14GgzXEbNiG5F4JTW3wieKoLzpVqgW4vsXYaCn0mu=s64",
      "userId": "00108578877416785794"
     },
     "user_tz": -540
    },
    "id": "LNbEEoPM5s91",
    "outputId": "0767ab5b-c414-4f0f-a0a4-8b77c431ac4e"
   },
   "outputs": [
    {
     "data": {
      "text/plain": [
       "[1, 2, 3, 4]"
      ]
     },
     "execution_count": 79,
     "metadata": {},
     "output_type": "execute_result"
    }
   ],
   "source": [
    "del a[-1]\n",
    "\n",
    "a"
   ]
  },
  {
   "cell_type": "code",
   "execution_count": null,
   "metadata": {
    "colab": {
     "base_uri": "https://localhost:8080/"
    },
    "executionInfo": {
     "elapsed": 343,
     "status": "ok",
     "timestamp": 1641785706388,
     "user": {
      "displayName": "Nuka",
      "photoUrl": "https://lh3.googleusercontent.com/a-/AOh14GgzXEbNiG5F4JTW3wieKoLzpVqgW4vsXYaCn0mu=s64",
      "userId": "00108578877416785794"
     },
     "user_tz": -540
    },
    "id": "cOGmuERC6Ldl",
    "outputId": "3c5ddea7-02c9-4519-f0a9-b55006ece5f0"
   },
   "outputs": [
    {
     "data": {
      "text/plain": [
       "[1, 2, 3, 4]"
      ]
     },
     "execution_count": 80,
     "metadata": {},
     "output_type": "execute_result"
    }
   ],
   "source": [
    "a"
   ]
  },
  {
   "cell_type": "code",
   "execution_count": null,
   "metadata": {
    "id": "R3D_DLvaDcR7"
   },
   "outputs": [],
   "source": [
    "a.append([5,6])"
   ]
  },
  {
   "cell_type": "code",
   "execution_count": null,
   "metadata": {
    "colab": {
     "base_uri": "https://localhost:8080/"
    },
    "executionInfo": {
     "elapsed": 341,
     "status": "ok",
     "timestamp": 1641785723949,
     "user": {
      "displayName": "Nuka",
      "photoUrl": "https://lh3.googleusercontent.com/a-/AOh14GgzXEbNiG5F4JTW3wieKoLzpVqgW4vsXYaCn0mu=s64",
      "userId": "00108578877416785794"
     },
     "user_tz": -540
    },
    "id": "YO5MqK6oDfxD",
    "outputId": "4085dfa0-8b23-4187-bc83-20afdf1bb13d"
   },
   "outputs": [
    {
     "data": {
      "text/plain": [
       "[1, 2, 3, 4, [5, 6]]"
      ]
     },
     "execution_count": 82,
     "metadata": {},
     "output_type": "execute_result"
    }
   ],
   "source": [
    "a"
   ]
  },
  {
   "cell_type": "code",
   "execution_count": null,
   "metadata": {
    "colab": {
     "base_uri": "https://localhost:8080/"
    },
    "executionInfo": {
     "elapsed": 306,
     "status": "ok",
     "timestamp": 1641787662268,
     "user": {
      "displayName": "Nuka",
      "photoUrl": "https://lh3.googleusercontent.com/a-/AOh14GgzXEbNiG5F4JTW3wieKoLzpVqgW4vsXYaCn0mu=s64",
      "userId": "00108578877416785794"
     },
     "user_tz": -540
    },
    "id": "36pN-ka3Dgjq",
    "outputId": "e56baac7-7668-4714-ded2-a75cf8b1b3cf"
   },
   "outputs": [
    {
     "name": "stdout",
     "output_type": "stream",
     "text": [
      "Help on class list in module builtins:\n",
      "\n",
      "class list(object)\n",
      " |  list(iterable=(), /)\n",
      " |  \n",
      " |  Built-in mutable sequence.\n",
      " |  \n",
      " |  If no argument is given, the constructor creates a new empty list.\n",
      " |  The argument must be an iterable if specified.\n",
      " |  \n",
      " |  Methods defined here:\n",
      " |  \n",
      " |  __add__(self, value, /)\n",
      " |      Return self+value.\n",
      " |  \n",
      " |  __contains__(self, key, /)\n",
      " |      Return key in self.\n",
      " |  \n",
      " |  __delitem__(self, key, /)\n",
      " |      Delete self[key].\n",
      " |  \n",
      " |  __eq__(self, value, /)\n",
      " |      Return self==value.\n",
      " |  \n",
      " |  __ge__(self, value, /)\n",
      " |      Return self>=value.\n",
      " |  \n",
      " |  __getattribute__(self, name, /)\n",
      " |      Return getattr(self, name).\n",
      " |  \n",
      " |  __getitem__(...)\n",
      " |      x.__getitem__(y) <==> x[y]\n",
      " |  \n",
      " |  __gt__(self, value, /)\n",
      " |      Return self>value.\n",
      " |  \n",
      " |  __iadd__(self, value, /)\n",
      " |      Implement self+=value.\n",
      " |  \n",
      " |  __imul__(self, value, /)\n",
      " |      Implement self*=value.\n",
      " |  \n",
      " |  __init__(self, /, *args, **kwargs)\n",
      " |      Initialize self.  See help(type(self)) for accurate signature.\n",
      " |  \n",
      " |  __iter__(self, /)\n",
      " |      Implement iter(self).\n",
      " |  \n",
      " |  __le__(self, value, /)\n",
      " |      Return self<=value.\n",
      " |  \n",
      " |  __len__(self, /)\n",
      " |      Return len(self).\n",
      " |  \n",
      " |  __lt__(self, value, /)\n",
      " |      Return self<value.\n",
      " |  \n",
      " |  __mul__(self, value, /)\n",
      " |      Return self*value.\n",
      " |  \n",
      " |  __ne__(self, value, /)\n",
      " |      Return self!=value.\n",
      " |  \n",
      " |  __repr__(self, /)\n",
      " |      Return repr(self).\n",
      " |  \n",
      " |  __reversed__(self, /)\n",
      " |      Return a reverse iterator over the list.\n",
      " |  \n",
      " |  __rmul__(self, value, /)\n",
      " |      Return value*self.\n",
      " |  \n",
      " |  __setitem__(self, key, value, /)\n",
      " |      Set self[key] to value.\n",
      " |  \n",
      " |  __sizeof__(self, /)\n",
      " |      Return the size of the list in memory, in bytes.\n",
      " |  \n",
      " |  append(self, object, /)\n",
      " |      Append object to the end of the list.\n",
      " |  \n",
      " |  clear(self, /)\n",
      " |      Remove all items from list.\n",
      " |  \n",
      " |  copy(self, /)\n",
      " |      Return a shallow copy of the list.\n",
      " |  \n",
      " |  count(self, value, /)\n",
      " |      Return number of occurrences of value.\n",
      " |  \n",
      " |  extend(self, iterable, /)\n",
      " |      Extend list by appending elements from the iterable.\n",
      " |  \n",
      " |  index(self, value, start=0, stop=9223372036854775807, /)\n",
      " |      Return first index of value.\n",
      " |      \n",
      " |      Raises ValueError if the value is not present.\n",
      " |  \n",
      " |  insert(self, index, object, /)\n",
      " |      Insert object before index.\n",
      " |  \n",
      " |  pop(self, index=-1, /)\n",
      " |      Remove and return item at index (default last).\n",
      " |      \n",
      " |      Raises IndexError if list is empty or index is out of range.\n",
      " |  \n",
      " |  remove(self, value, /)\n",
      " |      Remove first occurrence of value.\n",
      " |      \n",
      " |      Raises ValueError if the value is not present.\n",
      " |  \n",
      " |  reverse(self, /)\n",
      " |      Reverse *IN PLACE*.\n",
      " |  \n",
      " |  sort(self, /, *, key=None, reverse=False)\n",
      " |      Stable sort *IN PLACE*.\n",
      " |  \n",
      " |  ----------------------------------------------------------------------\n",
      " |  Static methods defined here:\n",
      " |  \n",
      " |  __new__(*args, **kwargs) from builtins.type\n",
      " |      Create and return a new object.  See help(type) for accurate signature.\n",
      " |  \n",
      " |  ----------------------------------------------------------------------\n",
      " |  Data and other attributes defined here:\n",
      " |  \n",
      " |  __hash__ = None\n",
      "\n"
     ]
    }
   ],
   "source": [
    "help(list)"
   ]
  },
  {
   "cell_type": "code",
   "execution_count": null,
   "metadata": {
    "colab": {
     "base_uri": "https://localhost:8080/"
    },
    "executionInfo": {
     "elapsed": 294,
     "status": "ok",
     "timestamp": 1641787736489,
     "user": {
      "displayName": "Nuka",
      "photoUrl": "https://lh3.googleusercontent.com/a-/AOh14GgzXEbNiG5F4JTW3wieKoLzpVqgW4vsXYaCn0mu=s64",
      "userId": "00108578877416785794"
     },
     "user_tz": -540
    },
    "id": "wj9wm54mK5ri",
    "outputId": "26fe15bf-88ae-403d-88d0-27cbbf54c41e"
   },
   "outputs": [
    {
     "data": {
      "text/plain": [
       "[1, 3, 4, 2]"
      ]
     },
     "execution_count": 84,
     "metadata": {},
     "output_type": "execute_result"
    }
   ],
   "source": [
    "a = [1, 3, 4, 2]\n",
    "\n",
    "a"
   ]
  },
  {
   "cell_type": "code",
   "execution_count": null,
   "metadata": {
    "colab": {
     "base_uri": "https://localhost:8080/"
    },
    "executionInfo": {
     "elapsed": 369,
     "status": "ok",
     "timestamp": 1641787808409,
     "user": {
      "displayName": "Nuka",
      "photoUrl": "https://lh3.googleusercontent.com/a-/AOh14GgzXEbNiG5F4JTW3wieKoLzpVqgW4vsXYaCn0mu=s64",
      "userId": "00108578877416785794"
     },
     "user_tz": -540
    },
    "id": "y0WH1QXYLL46",
    "outputId": "3a616e97-b8f5-4eb9-be24-6ff3096716e5"
   },
   "outputs": [
    {
     "data": {
      "text/plain": [
       "[1, 2, 3, 4]"
      ]
     },
     "execution_count": 85,
     "metadata": {},
     "output_type": "execute_result"
    }
   ],
   "source": [
    "a.sort()\n",
    "\n",
    "a"
   ]
  },
  {
   "cell_type": "code",
   "execution_count": null,
   "metadata": {
    "colab": {
     "base_uri": "https://localhost:8080/"
    },
    "executionInfo": {
     "elapsed": 283,
     "status": "ok",
     "timestamp": 1641787833227,
     "user": {
      "displayName": "Nuka",
      "photoUrl": "https://lh3.googleusercontent.com/a-/AOh14GgzXEbNiG5F4JTW3wieKoLzpVqgW4vsXYaCn0mu=s64",
      "userId": "00108578877416785794"
     },
     "user_tz": -540
    },
    "id": "U6v5sjj7Ldax",
    "outputId": "6f4e4f40-3aae-49a0-d835-d5d77dcc3bc7"
   },
   "outputs": [
    {
     "data": {
      "text/plain": [
       "['a', 'd', 'b']"
      ]
     },
     "execution_count": 86,
     "metadata": {},
     "output_type": "execute_result"
    }
   ],
   "source": [
    "b = ['a', 'd', 'b']\n",
    "\n",
    "b"
   ]
  },
  {
   "cell_type": "code",
   "execution_count": null,
   "metadata": {
    "colab": {
     "base_uri": "https://localhost:8080/"
    },
    "executionInfo": {
     "elapsed": 303,
     "status": "ok",
     "timestamp": 1641787842747,
     "user": {
      "displayName": "Nuka",
      "photoUrl": "https://lh3.googleusercontent.com/a-/AOh14GgzXEbNiG5F4JTW3wieKoLzpVqgW4vsXYaCn0mu=s64",
      "userId": "00108578877416785794"
     },
     "user_tz": -540
    },
    "id": "mB_Iwi0QLjhR",
    "outputId": "d20d4c2a-4d30-4fcd-aa1c-414d4a08edaf"
   },
   "outputs": [
    {
     "data": {
      "text/plain": [
       "['a', 'b', 'd']"
      ]
     },
     "execution_count": 87,
     "metadata": {},
     "output_type": "execute_result"
    }
   ],
   "source": [
    "b.sort()\n",
    "\n",
    "b"
   ]
  },
  {
   "cell_type": "code",
   "execution_count": null,
   "metadata": {
    "colab": {
     "base_uri": "https://localhost:8080/"
    },
    "executionInfo": {
     "elapsed": 310,
     "status": "ok",
     "timestamp": 1641787991020,
     "user": {
      "displayName": "Nuka",
      "photoUrl": "https://lh3.googleusercontent.com/a-/AOh14GgzXEbNiG5F4JTW3wieKoLzpVqgW4vsXYaCn0mu=s64",
      "userId": "00108578877416785794"
     },
     "user_tz": -540
    },
    "id": "yJwcIOZQLls0",
    "outputId": "28890cb7-82d0-4f4d-d61b-aa29690b60f5"
   },
   "outputs": [
    {
     "data": {
      "text/plain": [
       "['a', 'd', 'b']"
      ]
     },
     "execution_count": 88,
     "metadata": {},
     "output_type": "execute_result"
    }
   ],
   "source": [
    "b = ['a', 'd', 'b']\n",
    "\n",
    "b"
   ]
  },
  {
   "cell_type": "code",
   "execution_count": null,
   "metadata": {
    "colab": {
     "base_uri": "https://localhost:8080/"
    },
    "executionInfo": {
     "elapsed": 335,
     "status": "ok",
     "timestamp": 1641788016842,
     "user": {
      "displayName": "Nuka",
      "photoUrl": "https://lh3.googleusercontent.com/a-/AOh14GgzXEbNiG5F4JTW3wieKoLzpVqgW4vsXYaCn0mu=s64",
      "userId": "00108578877416785794"
     },
     "user_tz": -540
    },
    "id": "uAH-MMsnMKEJ",
    "outputId": "e9ec9540-4b91-46ff-af93-8c37cc204521"
   },
   "outputs": [
    {
     "data": {
      "text/plain": [
       "['a', 'd', 'b']"
      ]
     },
     "execution_count": 90,
     "metadata": {},
     "output_type": "execute_result"
    }
   ],
   "source": [
    "b.reverse()\n",
    "\n",
    "b"
   ]
  },
  {
   "cell_type": "code",
   "execution_count": null,
   "metadata": {
    "colab": {
     "base_uri": "https://localhost:8080/"
    },
    "executionInfo": {
     "elapsed": 318,
     "status": "ok",
     "timestamp": 1641788180304,
     "user": {
      "displayName": "Nuka",
      "photoUrl": "https://lh3.googleusercontent.com/a-/AOh14GgzXEbNiG5F4JTW3wieKoLzpVqgW4vsXYaCn0mu=s64",
      "userId": "00108578877416785794"
     },
     "user_tz": -540
    },
    "id": "49Sw26hYMPYZ",
    "outputId": "b064fd03-75c2-460c-87d6-9471e954255a"
   },
   "outputs": [
    {
     "data": {
      "text/plain": [
       "2"
      ]
     },
     "execution_count": 92,
     "metadata": {},
     "output_type": "execute_result"
    }
   ],
   "source": [
    "b.index('b')"
   ]
  },
  {
   "cell_type": "code",
   "execution_count": null,
   "metadata": {
    "colab": {
     "base_uri": "https://localhost:8080/",
     "height": 177
    },
    "executionInfo": {
     "elapsed": 296,
     "status": "error",
     "timestamp": 1641788214796,
     "user": {
      "displayName": "Nuka",
      "photoUrl": "https://lh3.googleusercontent.com/a-/AOh14GgzXEbNiG5F4JTW3wieKoLzpVqgW4vsXYaCn0mu=s64",
      "userId": "00108578877416785794"
     },
     "user_tz": -540
    },
    "id": "Bc5fOQidM21R",
    "outputId": "ec631ef0-b3c6-46d2-8e83-11be12d3f70e"
   },
   "outputs": [
    {
     "ename": "ValueError",
     "evalue": "ignored",
     "output_type": "error",
     "traceback": [
      "\u001b[0;31m---------------------------------------------------------------------------\u001b[0m",
      "\u001b[0;31mValueError\u001b[0m                                Traceback (most recent call last)",
      "\u001b[0;32m<ipython-input-93-d875d8c1e738>\u001b[0m in \u001b[0;36m<module>\u001b[0;34m()\u001b[0m\n\u001b[0;32m----> 1\u001b[0;31m \u001b[0mb\u001b[0m\u001b[0;34m.\u001b[0m\u001b[0mindex\u001b[0m\u001b[0;34m(\u001b[0m\u001b[0;34m'c'\u001b[0m\u001b[0;34m)\u001b[0m\u001b[0;34m\u001b[0m\u001b[0;34m\u001b[0m\u001b[0m\n\u001b[0m",
      "\u001b[0;31mValueError\u001b[0m: 'c' is not in list"
     ]
    }
   ],
   "source": [
    "b.index('c')"
   ]
  },
  {
   "cell_type": "code",
   "execution_count": null,
   "metadata": {
    "colab": {
     "base_uri": "https://localhost:8080/"
    },
    "executionInfo": {
     "elapsed": 313,
     "status": "ok",
     "timestamp": 1641788703770,
     "user": {
      "displayName": "Nuka",
      "photoUrl": "https://lh3.googleusercontent.com/a-/AOh14GgzXEbNiG5F4JTW3wieKoLzpVqgW4vsXYaCn0mu=s64",
      "userId": "00108578877416785794"
     },
     "user_tz": -540
    },
    "id": "i4f5T6sINAtI",
    "outputId": "53a067bd-c0e1-4a74-9e64-cfda134ae659"
   },
   "outputs": [
    {
     "data": {
      "text/plain": [
       "[1, 2, 3]"
      ]
     },
     "execution_count": 112,
     "metadata": {},
     "output_type": "execute_result"
    }
   ],
   "source": [
    "a = [1, 2, 3]\n",
    "\n",
    "a"
   ]
  },
  {
   "cell_type": "code",
   "execution_count": null,
   "metadata": {
    "colab": {
     "base_uri": "https://localhost:8080/",
     "height": 177
    },
    "executionInfo": {
     "elapsed": 307,
     "status": "error",
     "timestamp": 1641788407067,
     "user": {
      "displayName": "Nuka",
      "photoUrl": "https://lh3.googleusercontent.com/a-/AOh14GgzXEbNiG5F4JTW3wieKoLzpVqgW4vsXYaCn0mu=s64",
      "userId": "00108578877416785794"
     },
     "user_tz": -540
    },
    "id": "xoarWsAmNpbR",
    "outputId": "dfe72bf7-563a-43f0-8cc8-97ff6c58674d"
   },
   "outputs": [
    {
     "ename": "TypeError",
     "evalue": "ignored",
     "output_type": "error",
     "traceback": [
      "\u001b[0;31m---------------------------------------------------------------------------\u001b[0m",
      "\u001b[0;31mTypeError\u001b[0m                                 Traceback (most recent call last)",
      "\u001b[0;32m<ipython-input-95-745d91531f69>\u001b[0m in \u001b[0;36m<module>\u001b[0;34m()\u001b[0m\n\u001b[0;32m----> 1\u001b[0;31m \u001b[0ma\u001b[0m\u001b[0;34m.\u001b[0m\u001b[0minsert\u001b[0m\u001b[0;34m(\u001b[0m\u001b[0;36m4\u001b[0m\u001b[0;34m)\u001b[0m\u001b[0;34m\u001b[0m\u001b[0;34m\u001b[0m\u001b[0m\n\u001b[0m",
      "\u001b[0;31mTypeError\u001b[0m: insert() takes exactly 2 arguments (1 given)"
     ]
    }
   ],
   "source": [
    "a.insert(4)"
   ]
  },
  {
   "cell_type": "code",
   "execution_count": null,
   "metadata": {
    "colab": {
     "base_uri": "https://localhost:8080/"
    },
    "executionInfo": {
     "elapsed": 282,
     "status": "ok",
     "timestamp": 1641788706120,
     "user": {
      "displayName": "Nuka",
      "photoUrl": "https://lh3.googleusercontent.com/a-/AOh14GgzXEbNiG5F4JTW3wieKoLzpVqgW4vsXYaCn0mu=s64",
      "userId": "00108578877416785794"
     },
     "user_tz": -540
    },
    "id": "Mq3ei-HdNvpA",
    "outputId": "1d681514-9cd5-40c2-97cd-7e1d320efd44"
   },
   "outputs": [
    {
     "data": {
      "text/plain": [
       "[4, 1, 2, 3]"
      ]
     },
     "execution_count": 113,
     "metadata": {},
     "output_type": "execute_result"
    }
   ],
   "source": [
    "a.insert(0, 4)\n",
    "\n",
    "a"
   ]
  },
  {
   "cell_type": "code",
   "execution_count": null,
   "metadata": {
    "colab": {
     "base_uri": "https://localhost:8080/"
    },
    "executionInfo": {
     "elapsed": 299,
     "status": "ok",
     "timestamp": 1641788710499,
     "user": {
      "displayName": "Nuka",
      "photoUrl": "https://lh3.googleusercontent.com/a-/AOh14GgzXEbNiG5F4JTW3wieKoLzpVqgW4vsXYaCn0mu=s64",
      "userId": "00108578877416785794"
     },
     "user_tz": -540
    },
    "id": "8HWnMFsqOD0J",
    "outputId": "1c2aa0c2-7ba3-495d-c7dc-c349a83da633"
   },
   "outputs": [
    {
     "data": {
      "text/plain": [
       "[4, 1, 2, 5, 3]"
      ]
     },
     "execution_count": 114,
     "metadata": {},
     "output_type": "execute_result"
    }
   ],
   "source": [
    "a.insert(3, 5)\n",
    "\n",
    "a"
   ]
  },
  {
   "cell_type": "code",
   "execution_count": null,
   "metadata": {
    "colab": {
     "base_uri": "https://localhost:8080/"
    },
    "executionInfo": {
     "elapsed": 303,
     "status": "ok",
     "timestamp": 1641789115220,
     "user": {
      "displayName": "Nuka",
      "photoUrl": "https://lh3.googleusercontent.com/a-/AOh14GgzXEbNiG5F4JTW3wieKoLzpVqgW4vsXYaCn0mu=s64",
      "userId": "00108578877416785794"
     },
     "user_tz": -540
    },
    "id": "XnZ_WRXsOaOx",
    "outputId": "80ceb238-b06a-49b4-b971-0bfca92f5d2d"
   },
   "outputs": [
    {
     "data": {
      "text/plain": [
       "[1, 2, 3, 1, 2, 3, 1, 2, 3]"
      ]
     },
     "execution_count": 125,
     "metadata": {},
     "output_type": "execute_result"
    }
   ],
   "source": [
    "a = [1,2,3]\n",
    "a = a * 3\n",
    "\n",
    "a"
   ]
  },
  {
   "cell_type": "code",
   "execution_count": null,
   "metadata": {
    "id": "I7TdPMcNPHJ3"
   },
   "outputs": [],
   "source": [
    "a.remove(3)"
   ]
  },
  {
   "cell_type": "code",
   "execution_count": null,
   "metadata": {
    "colab": {
     "base_uri": "https://localhost:8080/"
    },
    "executionInfo": {
     "elapsed": 284,
     "status": "ok",
     "timestamp": 1641789118433,
     "user": {
      "displayName": "Nuka",
      "photoUrl": "https://lh3.googleusercontent.com/a-/AOh14GgzXEbNiG5F4JTW3wieKoLzpVqgW4vsXYaCn0mu=s64",
      "userId": "00108578877416785794"
     },
     "user_tz": -540
    },
    "id": "JyERYQRGPZqR",
    "outputId": "433230ae-69b1-4e3d-93eb-052bafb81b6e"
   },
   "outputs": [
    {
     "data": {
      "text/plain": [
       "[1, 2, 1, 2, 3, 1, 2, 3]"
      ]
     },
     "execution_count": 127,
     "metadata": {},
     "output_type": "execute_result"
    }
   ],
   "source": [
    "a"
   ]
  },
  {
   "cell_type": "code",
   "execution_count": null,
   "metadata": {
    "colab": {
     "base_uri": "https://localhost:8080/"
    },
    "executionInfo": {
     "elapsed": 3,
     "status": "ok",
     "timestamp": 1641789119719,
     "user": {
      "displayName": "Nuka",
      "photoUrl": "https://lh3.googleusercontent.com/a-/AOh14GgzXEbNiG5F4JTW3wieKoLzpVqgW4vsXYaCn0mu=s64",
      "userId": "00108578877416785794"
     },
     "user_tz": -540
    },
    "id": "vlXQIcFIPbc5",
    "outputId": "036bd7a0-b769-4774-8877-c7e494c053d4"
   },
   "outputs": [
    {
     "data": {
      "text/plain": [
       "[1, 2, 1, 2, 1, 2, 3]"
      ]
     },
     "execution_count": 128,
     "metadata": {},
     "output_type": "execute_result"
    }
   ],
   "source": [
    "a.remove(3)\n",
    "\n",
    "a"
   ]
  },
  {
   "cell_type": "code",
   "execution_count": null,
   "metadata": {
    "colab": {
     "base_uri": "https://localhost:8080/"
    },
    "executionInfo": {
     "elapsed": 4,
     "status": "ok",
     "timestamp": 1641789122777,
     "user": {
      "displayName": "Nuka",
      "photoUrl": "https://lh3.googleusercontent.com/a-/AOh14GgzXEbNiG5F4JTW3wieKoLzpVqgW4vsXYaCn0mu=s64",
      "userId": "00108578877416785794"
     },
     "user_tz": -540
    },
    "id": "KrrZnRfBP4kA",
    "outputId": "d11d3068-8285-411d-cb4e-f484b5baea41"
   },
   "outputs": [
    {
     "data": {
      "text/plain": [
       "[1, 2, 1, 2, 1, 2]"
      ]
     },
     "execution_count": 129,
     "metadata": {},
     "output_type": "execute_result"
    }
   ],
   "source": [
    "a.remove(3)\n",
    "\n",
    "a"
   ]
  },
  {
   "cell_type": "code",
   "execution_count": null,
   "metadata": {
    "colab": {
     "base_uri": "https://localhost:8080/",
     "height": 177
    },
    "executionInfo": {
     "elapsed": 294,
     "status": "error",
     "timestamp": 1641788985527,
     "user": {
      "displayName": "Nuka",
      "photoUrl": "https://lh3.googleusercontent.com/a-/AOh14GgzXEbNiG5F4JTW3wieKoLzpVqgW4vsXYaCn0mu=s64",
      "userId": "00108578877416785794"
     },
     "user_tz": -540
    },
    "id": "QDiRmtLGP56B",
    "outputId": "5a6725bc-c82f-4b53-e209-66a0e1f9f539"
   },
   "outputs": [
    {
     "ename": "ValueError",
     "evalue": "ignored",
     "output_type": "error",
     "traceback": [
      "\u001b[0;31m---------------------------------------------------------------------------\u001b[0m",
      "\u001b[0;31mValueError\u001b[0m                                Traceback (most recent call last)",
      "\u001b[0;32m<ipython-input-123-fe741f3ae678>\u001b[0m in \u001b[0;36m<module>\u001b[0;34m()\u001b[0m\n\u001b[0;32m----> 1\u001b[0;31m \u001b[0ma\u001b[0m\u001b[0;34m.\u001b[0m\u001b[0mremove\u001b[0m\u001b[0;34m(\u001b[0m\u001b[0;36m3\u001b[0m\u001b[0;34m)\u001b[0m\u001b[0;34m\u001b[0m\u001b[0;34m\u001b[0m\u001b[0m\n\u001b[0m",
      "\u001b[0;31mValueError\u001b[0m: list.remove(x): x not in list"
     ]
    }
   ],
   "source": [
    "a.remove(3)"
   ]
  },
  {
   "cell_type": "code",
   "execution_count": null,
   "metadata": {
    "colab": {
     "base_uri": "https://localhost:8080/"
    },
    "executionInfo": {
     "elapsed": 302,
     "status": "ok",
     "timestamp": 1641789293825,
     "user": {
      "displayName": "Nuka",
      "photoUrl": "https://lh3.googleusercontent.com/a-/AOh14GgzXEbNiG5F4JTW3wieKoLzpVqgW4vsXYaCn0mu=s64",
      "userId": "00108578877416785794"
     },
     "user_tz": -540
    },
    "id": "WXzHAfMzQKKP",
    "outputId": "ce52509d-cff0-4879-f530-2c6e2a5e4281"
   },
   "outputs": [
    {
     "name": "stdout",
     "output_type": "stream",
     "text": [
      "[1, 2, 1, 2, 3]\n",
      "[1, 2, 1, 2]\n",
      "list.remove(x): x not in list\n"
     ]
    },
    {
     "data": {
      "text/plain": [
       "[1, 2, 1, 2]"
      ]
     },
     "execution_count": 132,
     "metadata": {},
     "output_type": "execute_result"
    }
   ],
   "source": [
    "a = [1, 2, 3, 1, 2, 3]\n",
    "\n",
    "while True:\n",
    "  try:\n",
    "    a.remove(3)\n",
    "    print(a)\n",
    "  except Exception as e:\n",
    "    print(e)\n",
    "    break\n",
    "\n",
    "a"
   ]
  },
  {
   "cell_type": "code",
   "execution_count": null,
   "metadata": {
    "colab": {
     "base_uri": "https://localhost:8080/"
    },
    "executionInfo": {
     "elapsed": 285,
     "status": "ok",
     "timestamp": 1641789404576,
     "user": {
      "displayName": "Nuka",
      "photoUrl": "https://lh3.googleusercontent.com/a-/AOh14GgzXEbNiG5F4JTW3wieKoLzpVqgW4vsXYaCn0mu=s64",
      "userId": "00108578877416785794"
     },
     "user_tz": -540
    },
    "id": "w5zOaWnDQx0R",
    "outputId": "24ececd8-7a40-48c8-afa1-28c3200633fd"
   },
   "outputs": [
    {
     "data": {
      "text/plain": [
       "[1, 2, 3]"
      ]
     },
     "execution_count": 133,
     "metadata": {},
     "output_type": "execute_result"
    }
   ],
   "source": [
    "a = [1, 2, 3]\n",
    "\n",
    "a"
   ]
  },
  {
   "cell_type": "code",
   "execution_count": null,
   "metadata": {
    "colab": {
     "base_uri": "https://localhost:8080/"
    },
    "executionInfo": {
     "elapsed": 322,
     "status": "ok",
     "timestamp": 1641789449571,
     "user": {
      "displayName": "Nuka",
      "photoUrl": "https://lh3.googleusercontent.com/a-/AOh14GgzXEbNiG5F4JTW3wieKoLzpVqgW4vsXYaCn0mu=s64",
      "userId": "00108578877416785794"
     },
     "user_tz": -540
    },
    "id": "43CGqV3mRjGh",
    "outputId": "33585fdf-f602-475c-e082-88370e11ab82"
   },
   "outputs": [
    {
     "data": {
      "text/plain": [
       "(3, [1, 2])"
      ]
     },
     "execution_count": 135,
     "metadata": {},
     "output_type": "execute_result"
    }
   ],
   "source": [
    "val = a.pop()\n",
    "\n",
    "val, a"
   ]
  },
  {
   "cell_type": "code",
   "execution_count": null,
   "metadata": {
    "colab": {
     "base_uri": "https://localhost:8080/"
    },
    "executionInfo": {
     "elapsed": 292,
     "status": "ok",
     "timestamp": 1641789514980,
     "user": {
      "displayName": "Nuka",
      "photoUrl": "https://lh3.googleusercontent.com/a-/AOh14GgzXEbNiG5F4JTW3wieKoLzpVqgW4vsXYaCn0mu=s64",
      "userId": "00108578877416785794"
     },
     "user_tz": -540
    },
    "id": "DHxq7cksRmgI",
    "outputId": "dce05cc2-845c-4ca8-85df-2e7ef2420410"
   },
   "outputs": [
    {
     "data": {
      "text/plain": [
       "[1, 2]"
      ]
     },
     "execution_count": 136,
     "metadata": {},
     "output_type": "execute_result"
    }
   ],
   "source": [
    "a = [1,2,3]\n",
    "\n",
    "a.remove(3)\n",
    "\n",
    "a"
   ]
  },
  {
   "cell_type": "code",
   "execution_count": null,
   "metadata": {
    "colab": {
     "base_uri": "https://localhost:8080/"
    },
    "executionInfo": {
     "elapsed": 289,
     "status": "ok",
     "timestamp": 1641789543656,
     "user": {
      "displayName": "Nuka",
      "photoUrl": "https://lh3.googleusercontent.com/a-/AOh14GgzXEbNiG5F4JTW3wieKoLzpVqgW4vsXYaCn0mu=s64",
      "userId": "00108578877416785794"
     },
     "user_tz": -540
    },
    "id": "Y7YbqMzJR-FI",
    "outputId": "f9d1eb86-ff2c-4962-99f9-9c34647208ae"
   },
   "outputs": [
    {
     "data": {
      "text/plain": [
       "(3, [1, 2])"
      ]
     },
     "execution_count": 138,
     "metadata": {},
     "output_type": "execute_result"
    }
   ],
   "source": [
    "a = [1,2,3]\n",
    "\n",
    "val = a.pop()\n",
    "\n",
    "val, a"
   ]
  },
  {
   "cell_type": "code",
   "execution_count": null,
   "metadata": {
    "colab": {
     "base_uri": "https://localhost:8080/"
    },
    "executionInfo": {
     "elapsed": 286,
     "status": "ok",
     "timestamp": 1641789583044,
     "user": {
      "displayName": "Nuka",
      "photoUrl": "https://lh3.googleusercontent.com/a-/AOh14GgzXEbNiG5F4JTW3wieKoLzpVqgW4vsXYaCn0mu=s64",
      "userId": "00108578877416785794"
     },
     "user_tz": -540
    },
    "id": "0Skhf-46SDrA",
    "outputId": "114524f8-c352-45aa-be47-b2a4f2d84db6"
   },
   "outputs": [
    {
     "data": {
      "text/plain": [
       "[1, 3]"
      ]
     },
     "execution_count": 139,
     "metadata": {},
     "output_type": "execute_result"
    }
   ],
   "source": [
    "a = [1,2,3]\n",
    "\n",
    "a.pop(1)\n",
    "\n",
    "a"
   ]
  },
  {
   "cell_type": "code",
   "execution_count": null,
   "metadata": {
    "colab": {
     "base_uri": "https://localhost:8080/"
    },
    "executionInfo": {
     "elapsed": 314,
     "status": "ok",
     "timestamp": 1641789657806,
     "user": {
      "displayName": "Nuka",
      "photoUrl": "https://lh3.googleusercontent.com/a-/AOh14GgzXEbNiG5F4JTW3wieKoLzpVqgW4vsXYaCn0mu=s64",
      "userId": "00108578877416785794"
     },
     "user_tz": -540
    },
    "id": "nlgoiFT6SOto",
    "outputId": "350e7209-9d33-4bd3-806a-20b1fae570b1"
   },
   "outputs": [
    {
     "data": {
      "text/plain": [
       "(7, [1, 2, 3, 4, 5, 6])"
      ]
     },
     "execution_count": 140,
     "metadata": {},
     "output_type": "execute_result"
    }
   ],
   "source": [
    "a = [1,2,3,4,5,6,7]\n",
    "\n",
    "val = a.pop()\n",
    "\n",
    "val, a"
   ]
  },
  {
   "cell_type": "code",
   "execution_count": null,
   "metadata": {
    "colab": {
     "base_uri": "https://localhost:8080/"
    },
    "executionInfo": {
     "elapsed": 287,
     "status": "ok",
     "timestamp": 1641789700777,
     "user": {
      "displayName": "Nuka",
      "photoUrl": "https://lh3.googleusercontent.com/a-/AOh14GgzXEbNiG5F4JTW3wieKoLzpVqgW4vsXYaCn0mu=s64",
      "userId": "00108578877416785794"
     },
     "user_tz": -540
    },
    "id": "5-MmxgtDSg4s",
    "outputId": "6ccaea96-8a17-40e7-c13f-3ee00d259215"
   },
   "outputs": [
    {
     "data": {
      "text/plain": [
       "2"
      ]
     },
     "execution_count": 141,
     "metadata": {},
     "output_type": "execute_result"
    }
   ],
   "source": [
    "a = [1,2,3,1,2]\n",
    "\n",
    "a.count(1)"
   ]
  },
  {
   "cell_type": "code",
   "execution_count": null,
   "metadata": {
    "colab": {
     "base_uri": "https://localhost:8080/"
    },
    "executionInfo": {
     "elapsed": 4,
     "status": "ok",
     "timestamp": 1641789742806,
     "user": {
      "displayName": "Nuka",
      "photoUrl": "https://lh3.googleusercontent.com/a-/AOh14GgzXEbNiG5F4JTW3wieKoLzpVqgW4vsXYaCn0mu=s64",
      "userId": "00108578877416785794"
     },
     "user_tz": -540
    },
    "id": "t0oe84UpSrfw",
    "outputId": "abe0a828-2a75-44e7-e512-1dbb0c20014f"
   },
   "outputs": [
    {
     "data": {
      "text/plain": [
       "1"
      ]
     },
     "execution_count": 142,
     "metadata": {},
     "output_type": "execute_result"
    }
   ],
   "source": [
    "a.count(3)"
   ]
  },
  {
   "cell_type": "code",
   "execution_count": null,
   "metadata": {
    "colab": {
     "base_uri": "https://localhost:8080/"
    },
    "executionInfo": {
     "elapsed": 286,
     "status": "ok",
     "timestamp": 1641789802294,
     "user": {
      "displayName": "Nuka",
      "photoUrl": "https://lh3.googleusercontent.com/a-/AOh14GgzXEbNiG5F4JTW3wieKoLzpVqgW4vsXYaCn0mu=s64",
      "userId": "00108578877416785794"
     },
     "user_tz": -540
    },
    "id": "ECSDTw4qS1v_",
    "outputId": "99310723-4d97-49dc-ae97-c53a097d44d6"
   },
   "outputs": [
    {
     "data": {
      "text/plain": [
       "[1, 2, 3, 4, 5, 6]"
      ]
     },
     "execution_count": 143,
     "metadata": {},
     "output_type": "execute_result"
    }
   ],
   "source": [
    "a = [1,2,3]\n",
    "b = [4,5,6]\n",
    "\n",
    "a + b"
   ]
  },
  {
   "cell_type": "code",
   "execution_count": null,
   "metadata": {
    "colab": {
     "base_uri": "https://localhost:8080/"
    },
    "executionInfo": {
     "elapsed": 276,
     "status": "ok",
     "timestamp": 1641789862412,
     "user": {
      "displayName": "Nuka",
      "photoUrl": "https://lh3.googleusercontent.com/a-/AOh14GgzXEbNiG5F4JTW3wieKoLzpVqgW4vsXYaCn0mu=s64",
      "userId": "00108578877416785794"
     },
     "user_tz": -540
    },
    "id": "QH7fYw24TENo",
    "outputId": "5d02bbe8-606b-40dd-b168-9f6018f20c6e"
   },
   "outputs": [
    {
     "data": {
      "text/plain": [
       "[1, 2, 3, 4, 5, 6]"
      ]
     },
     "execution_count": 144,
     "metadata": {},
     "output_type": "execute_result"
    }
   ],
   "source": [
    "a.extend(b)\n",
    "\n",
    "a"
   ]
  },
  {
   "cell_type": "code",
   "execution_count": null,
   "metadata": {
    "colab": {
     "base_uri": "https://localhost:8080/"
    },
    "executionInfo": {
     "elapsed": 285,
     "status": "ok",
     "timestamp": 1641789974214,
     "user": {
      "displayName": "Nuka",
      "photoUrl": "https://lh3.googleusercontent.com/a-/AOh14GgzXEbNiG5F4JTW3wieKoLzpVqgW4vsXYaCn0mu=s64",
      "userId": "00108578877416785794"
     },
     "user_tz": -540
    },
    "id": "Ya5LtPDuTS9a",
    "outputId": "f476a58f-180a-4de6-d79c-1fd6a6a67f27"
   },
   "outputs": [
    {
     "data": {
      "text/plain": [
       "[1, 2, 3, 4, 5, 6]"
      ]
     },
     "execution_count": 146,
     "metadata": {},
     "output_type": "execute_result"
    }
   ],
   "source": [
    "a = [1,2,3]\n",
    "b = [4,5,6]\n",
    "\n",
    "a = a + b\n",
    "\n",
    "a"
   ]
  },
  {
   "cell_type": "code",
   "execution_count": null,
   "metadata": {
    "colab": {
     "base_uri": "https://localhost:8080/"
    },
    "executionInfo": {
     "elapsed": 297,
     "status": "ok",
     "timestamp": 1641790645300,
     "user": {
      "displayName": "Nuka",
      "photoUrl": "https://lh3.googleusercontent.com/a-/AOh14GgzXEbNiG5F4JTW3wieKoLzpVqgW4vsXYaCn0mu=s64",
      "userId": "00108578877416785794"
     },
     "user_tz": -540
    },
    "id": "nNaOALfGTs6o",
    "outputId": "b3fabd09-31c5-4e43-88c7-7bb1e26b7b62"
   },
   "outputs": [
    {
     "data": {
      "text/plain": [
       "['스파이더맨', '경관의 피', '씽2게더']"
      ]
     },
     "execution_count": 152,
     "metadata": {},
     "output_type": "execute_result"
    }
   ],
   "source": [
    "movie_titles = ['스파이더맨', '경관의 피', '씽2게더']\n",
    "\n",
    "movie_titles"
   ]
  },
  {
   "cell_type": "code",
   "execution_count": null,
   "metadata": {
    "colab": {
     "base_uri": "https://localhost:8080/"
    },
    "executionInfo": {
     "elapsed": 318,
     "status": "ok",
     "timestamp": 1641790677796,
     "user": {
      "displayName": "Nuka",
      "photoUrl": "https://lh3.googleusercontent.com/a-/AOh14GgzXEbNiG5F4JTW3wieKoLzpVqgW4vsXYaCn0mu=s64",
      "userId": "00108578877416785794"
     },
     "user_tz": -540
    },
    "id": "lMcn2OYjVzMR",
    "outputId": "4fb72b30-0525-467b-a62f-72b37e7c1967"
   },
   "outputs": [
    {
     "data": {
      "text/plain": [
       "['스파이더맨', '경관의 피', '씽2게더', '킹스맨']"
      ]
     },
     "execution_count": 153,
     "metadata": {},
     "output_type": "execute_result"
    }
   ],
   "source": [
    "movie_titles.append('킹스맨')\n",
    "\n",
    "movie_titles"
   ]
  },
  {
   "cell_type": "code",
   "execution_count": null,
   "metadata": {
    "id": "KRkhQvtTWaBP"
   },
   "outputs": [],
   "source": [
    "movie_titles.insert(1, '매트릭스')"
   ]
  },
  {
   "cell_type": "code",
   "execution_count": null,
   "metadata": {
    "colab": {
     "base_uri": "https://localhost:8080/"
    },
    "executionInfo": {
     "elapsed": 289,
     "status": "ok",
     "timestamp": 1641791935623,
     "user": {
      "displayName": "Nuka",
      "photoUrl": "https://lh3.googleusercontent.com/a-/AOh14GgzXEbNiG5F4JTW3wieKoLzpVqgW4vsXYaCn0mu=s64",
      "userId": "00108578877416785794"
     },
     "user_tz": -540
    },
    "id": "cSRXmYICbI8O",
    "outputId": "a558ce2e-6a91-4ac6-f365-9cc82e611181"
   },
   "outputs": [
    {
     "data": {
      "text/plain": [
       "['스파이더맨', '매트릭스', '경관의 피', '씽2게더', '킹스맨']"
      ]
     },
     "execution_count": 155,
     "metadata": {},
     "output_type": "execute_result"
    }
   ],
   "source": [
    "movie_titles"
   ]
  },
  {
   "cell_type": "code",
   "execution_count": null,
   "metadata": {
    "colab": {
     "base_uri": "https://localhost:8080/"
    },
    "executionInfo": {
     "elapsed": 290,
     "status": "ok",
     "timestamp": 1641792173626,
     "user": {
      "displayName": "Nuka",
      "photoUrl": "https://lh3.googleusercontent.com/a-/AOh14GgzXEbNiG5F4JTW3wieKoLzpVqgW4vsXYaCn0mu=s64",
      "userId": "00108578877416785794"
     },
     "user_tz": -540
    },
    "id": "KOKmyNPLbuwe",
    "outputId": "3df1ffda-19f7-4106-e1f3-dee6111294f9"
   },
   "outputs": [
    {
     "data": {
      "text/plain": [
       "['스파이더맨', '경관의 피', '씽2게더', '킹스맨']"
      ]
     },
     "execution_count": 157,
     "metadata": {},
     "output_type": "execute_result"
    }
   ],
   "source": [
    "movie_titles.remove('매트릭스')\n",
    "\n",
    "movie_titles"
   ]
  },
  {
   "cell_type": "code",
   "execution_count": null,
   "metadata": {
    "colab": {
     "base_uri": "https://localhost:8080/"
    },
    "executionInfo": {
     "elapsed": 290,
     "status": "ok",
     "timestamp": 1641792324710,
     "user": {
      "displayName": "Nuka",
      "photoUrl": "https://lh3.googleusercontent.com/a-/AOh14GgzXEbNiG5F4JTW3wieKoLzpVqgW4vsXYaCn0mu=s64",
      "userId": "00108578877416785794"
     },
     "user_tz": -540
    },
    "id": "ImOJb8KQcHN-",
    "outputId": "c8bd53d3-7da9-4cfc-ffd5-986e36c36245"
   },
   "outputs": [
    {
     "data": {
      "text/plain": [
       "['스파이더맨', '경관의 피', '씽2게더', '킹스맨']"
      ]
     },
     "execution_count": 158,
     "metadata": {},
     "output_type": "execute_result"
    }
   ],
   "source": [
    "movie_titles = ['스파이더맨', '매트릭스', '경관의 피', '씽2게더', '킹스맨']\n",
    "\n",
    "movie_titles.pop(1)\n",
    "\n",
    "movie_titles"
   ]
  },
  {
   "cell_type": "code",
   "execution_count": null,
   "metadata": {
    "colab": {
     "base_uri": "https://localhost:8080/"
    },
    "executionInfo": {
     "elapsed": 294,
     "status": "ok",
     "timestamp": 1641792353012,
     "user": {
      "displayName": "Nuka",
      "photoUrl": "https://lh3.googleusercontent.com/a-/AOh14GgzXEbNiG5F4JTW3wieKoLzpVqgW4vsXYaCn0mu=s64",
      "userId": "00108578877416785794"
     },
     "user_tz": -540
    },
    "id": "M4Dsu3oJcsGm",
    "outputId": "dc862123-a8a3-4ad3-eb8d-a46693a479e6"
   },
   "outputs": [
    {
     "data": {
      "text/plain": [
       "['스파이더맨', '경관의 피', '씽2게더', '킹스맨']"
      ]
     },
     "execution_count": 159,
     "metadata": {},
     "output_type": "execute_result"
    }
   ],
   "source": [
    "movie_titles = ['스파이더맨', '매트릭스', '경관의 피', '씽2게더', '킹스맨']\n",
    "\n",
    "del movie_titles[1]\n",
    "\n",
    "movie_titles"
   ]
  },
  {
   "cell_type": "code",
   "execution_count": null,
   "metadata": {
    "id": "t7LNv2PmczAt"
   },
   "outputs": [],
   "source": [
    "compile_lang = ['C', 'C++', 'Java']\n",
    "\n",
    "interpret_lang = ['Python', 'Javascript']\n",
    "\n",
    "languages = compile_lang + interpret_lang"
   ]
  },
  {
   "cell_type": "code",
   "execution_count": null,
   "metadata": {
    "colab": {
     "base_uri": "https://localhost:8080/"
    },
    "executionInfo": {
     "elapsed": 323,
     "status": "ok",
     "timestamp": 1641792779699,
     "user": {
      "displayName": "Nuka",
      "photoUrl": "https://lh3.googleusercontent.com/a-/AOh14GgzXEbNiG5F4JTW3wieKoLzpVqgW4vsXYaCn0mu=s64",
      "userId": "00108578877416785794"
     },
     "user_tz": -540
    },
    "id": "Dj25su-hd0_G",
    "outputId": "e03cf1af-aeec-45ec-c060-6681fe4c8d32"
   },
   "outputs": [
    {
     "data": {
      "text/plain": [
       "['C', 'C++', 'Java', 'Python', 'Javascript']"
      ]
     },
     "execution_count": 167,
     "metadata": {},
     "output_type": "execute_result"
    }
   ],
   "source": [
    "languages"
   ]
  },
  {
   "cell_type": "code",
   "execution_count": null,
   "metadata": {
    "colab": {
     "base_uri": "https://localhost:8080/"
    },
    "executionInfo": {
     "elapsed": 288,
     "status": "ok",
     "timestamp": 1641792787631,
     "user": {
      "displayName": "Nuka",
      "photoUrl": "https://lh3.googleusercontent.com/a-/AOh14GgzXEbNiG5F4JTW3wieKoLzpVqgW4vsXYaCn0mu=s64",
      "userId": "00108578877416785794"
     },
     "user_tz": -540
    },
    "id": "Aikj0WooeVDl",
    "outputId": "6991f6e8-40ce-4106-d6ae-64acd28243f1"
   },
   "outputs": [
    {
     "data": {
      "text/plain": [
       "['C', 'C++', 'Java']"
      ]
     },
     "execution_count": 168,
     "metadata": {},
     "output_type": "execute_result"
    }
   ],
   "source": [
    "compile_lang"
   ]
  },
  {
   "cell_type": "code",
   "execution_count": null,
   "metadata": {
    "id": "31ZS8PSqedHu"
   },
   "outputs": [],
   "source": [
    "compile_lang = ['C', 'C++', 'Java']\n",
    "\n",
    "interpret_lang = ['Python', 'Javascript']"
   ]
  },
  {
   "cell_type": "code",
   "execution_count": null,
   "metadata": {
    "id": "_KRovS29eia9"
   },
   "outputs": [],
   "source": [
    "languages = compile_lang.extend(interpret_lang)\n",
    "\n",
    "languages"
   ]
  },
  {
   "cell_type": "code",
   "execution_count": null,
   "metadata": {
    "id": "TcsTr7VBerR2"
   },
   "outputs": [],
   "source": [
    "languages"
   ]
  },
  {
   "cell_type": "code",
   "execution_count": null,
   "metadata": {
    "colab": {
     "base_uri": "https://localhost:8080/"
    },
    "executionInfo": {
     "elapsed": 302,
     "status": "ok",
     "timestamp": 1641792863985,
     "user": {
      "displayName": "Nuka",
      "photoUrl": "https://lh3.googleusercontent.com/a-/AOh14GgzXEbNiG5F4JTW3wieKoLzpVqgW4vsXYaCn0mu=s64",
      "userId": "00108578877416785794"
     },
     "user_tz": -540
    },
    "id": "KwGYXExRes29",
    "outputId": "5ace9068-bcc1-495b-893a-f4c7bff1dd8e"
   },
   "outputs": [
    {
     "data": {
      "text/plain": [
       "['C', 'C++', 'Java', 'Python', 'Javascript']"
      ]
     },
     "execution_count": 174,
     "metadata": {},
     "output_type": "execute_result"
    }
   ],
   "source": [
    "languages"
   ]
  },
  {
   "cell_type": "code",
   "execution_count": null,
   "metadata": {
    "colab": {
     "base_uri": "https://localhost:8080/",
     "height": 215
    },
    "executionInfo": {
     "elapsed": 295,
     "status": "error",
     "timestamp": 1641792915006,
     "user": {
      "displayName": "Nuka",
      "photoUrl": "https://lh3.googleusercontent.com/a-/AOh14GgzXEbNiG5F4JTW3wieKoLzpVqgW4vsXYaCn0mu=s64",
      "userId": "00108578877416785794"
     },
     "user_tz": -540
    },
    "id": "7sNfiYccevwm",
    "outputId": "8a49569a-905f-4b6c-ebac-7d09c8fb1b01"
   },
   "outputs": [
    {
     "ename": "AttributeError",
     "evalue": "ignored",
     "output_type": "error",
     "traceback": [
      "\u001b[0;31m---------------------------------------------------------------------------\u001b[0m",
      "\u001b[0;31mAttributeError\u001b[0m                            Traceback (most recent call last)",
      "\u001b[0;32m<ipython-input-175-dd35380fd868>\u001b[0m in \u001b[0;36m<module>\u001b[0;34m()\u001b[0m\n\u001b[1;32m      1\u001b[0m \u001b[0mnums\u001b[0m \u001b[0;34m=\u001b[0m \u001b[0;34m[\u001b[0m\u001b[0;36m1\u001b[0m\u001b[0;34m,\u001b[0m \u001b[0;36m2\u001b[0m\u001b[0;34m,\u001b[0m \u001b[0;36m3\u001b[0m\u001b[0;34m,\u001b[0m \u001b[0;36m4\u001b[0m\u001b[0;34m,\u001b[0m \u001b[0;36m5\u001b[0m\u001b[0;34m,\u001b[0m \u001b[0;36m6\u001b[0m\u001b[0;34m]\u001b[0m\u001b[0;34m\u001b[0m\u001b[0;34m\u001b[0m\u001b[0m\n\u001b[1;32m      2\u001b[0m \u001b[0;34m\u001b[0m\u001b[0m\n\u001b[0;32m----> 3\u001b[0;31m \u001b[0mnums\u001b[0m\u001b[0;34m.\u001b[0m\u001b[0mmax\u001b[0m\u001b[0;34m(\u001b[0m\u001b[0;34m)\u001b[0m\u001b[0;34m\u001b[0m\u001b[0;34m\u001b[0m\u001b[0m\n\u001b[0m",
      "\u001b[0;31mAttributeError\u001b[0m: 'list' object has no attribute 'max'"
     ]
    }
   ],
   "source": [
    "nums = [1, 2, 3, 4, 5, 6]\n",
    "\n",
    "nums.max()"
   ]
  },
  {
   "cell_type": "code",
   "execution_count": null,
   "metadata": {
    "colab": {
     "base_uri": "https://localhost:8080/"
    },
    "executionInfo": {
     "elapsed": 289,
     "status": "ok",
     "timestamp": 1641792967408,
     "user": {
      "displayName": "Nuka",
      "photoUrl": "https://lh3.googleusercontent.com/a-/AOh14GgzXEbNiG5F4JTW3wieKoLzpVqgW4vsXYaCn0mu=s64",
      "userId": "00108578877416785794"
     },
     "user_tz": -540
    },
    "id": "EU2wz4mxe8N2",
    "outputId": "a35f0345-e4d7-461c-bf9f-a57c642f3f03"
   },
   "outputs": [
    {
     "data": {
      "text/plain": [
       "6"
      ]
     },
     "execution_count": 176,
     "metadata": {},
     "output_type": "execute_result"
    }
   ],
   "source": [
    "max(nums)"
   ]
  },
  {
   "cell_type": "code",
   "execution_count": null,
   "metadata": {
    "colab": {
     "base_uri": "https://localhost:8080/"
    },
    "executionInfo": {
     "elapsed": 347,
     "status": "ok",
     "timestamp": 1641792976637,
     "user": {
      "displayName": "Nuka",
      "photoUrl": "https://lh3.googleusercontent.com/a-/AOh14GgzXEbNiG5F4JTW3wieKoLzpVqgW4vsXYaCn0mu=s64",
      "userId": "00108578877416785794"
     },
     "user_tz": -540
    },
    "id": "vkPzGcwifJAe",
    "outputId": "c30471d7-b4c2-494d-d39a-f0e42fd25d7d"
   },
   "outputs": [
    {
     "data": {
      "text/plain": [
       "1"
      ]
     },
     "execution_count": 177,
     "metadata": {},
     "output_type": "execute_result"
    }
   ],
   "source": [
    "min(nums)"
   ]
  },
  {
   "cell_type": "code",
   "execution_count": null,
   "metadata": {
    "colab": {
     "base_uri": "https://localhost:8080/"
    },
    "executionInfo": {
     "elapsed": 292,
     "status": "ok",
     "timestamp": 1641793136692,
     "user": {
      "displayName": "Nuka",
      "photoUrl": "https://lh3.googleusercontent.com/a-/AOh14GgzXEbNiG5F4JTW3wieKoLzpVqgW4vsXYaCn0mu=s64",
      "userId": "00108578877416785794"
     },
     "user_tz": -540
    },
    "id": "7WJoYvatfLJV",
    "outputId": "a4e1c147-b39c-41e9-d12d-21cbf31fc66d"
   },
   "outputs": [
    {
     "name": "stdout",
     "output_type": "stream",
     "text": [
      "6\n"
     ]
    }
   ],
   "source": [
    "print(max(nums))"
   ]
  },
  {
   "cell_type": "code",
   "execution_count": null,
   "metadata": {
    "colab": {
     "base_uri": "https://localhost:8080/"
    },
    "executionInfo": {
     "elapsed": 317,
     "status": "ok",
     "timestamp": 1641793147559,
     "user": {
      "displayName": "Nuka",
      "photoUrl": "https://lh3.googleusercontent.com/a-/AOh14GgzXEbNiG5F4JTW3wieKoLzpVqgW4vsXYaCn0mu=s64",
      "userId": "00108578877416785794"
     },
     "user_tz": -540
    },
    "id": "cOdvqr8zfrn-",
    "outputId": "bf70d969-a862-4304-eeef-7ac89d0219b1"
   },
   "outputs": [
    {
     "name": "stdout",
     "output_type": "stream",
     "text": [
      "1\n"
     ]
    }
   ],
   "source": [
    "print(min(nums))"
   ]
  },
  {
   "cell_type": "code",
   "execution_count": null,
   "metadata": {
    "colab": {
     "base_uri": "https://localhost:8080/"
    },
    "executionInfo": {
     "elapsed": 287,
     "status": "ok",
     "timestamp": 1641793264295,
     "user": {
      "displayName": "Nuka",
      "photoUrl": "https://lh3.googleusercontent.com/a-/AOh14GgzXEbNiG5F4JTW3wieKoLzpVqgW4vsXYaCn0mu=s64",
      "userId": "00108578877416785794"
     },
     "user_tz": -540
    },
    "id": "gjUGVY90f0_W",
    "outputId": "1f5d0260-ae9d-4dfa-ab79-b8d7c8bdc6da"
   },
   "outputs": [
    {
     "name": "stdout",
     "output_type": "stream",
     "text": [
      "최대값 : 6\n",
      "최소값 : 1\n"
     ]
    }
   ],
   "source": [
    "print(f'최대값 : {max(nums)}')\n",
    "print(f'최소값 : {min(nums)}')"
   ]
  },
  {
   "cell_type": "code",
   "execution_count": null,
   "metadata": {
    "colab": {
     "base_uri": "https://localhost:8080/"
    },
    "executionInfo": {
     "elapsed": 339,
     "status": "ok",
     "timestamp": 1641795317067,
     "user": {
      "displayName": "Nuka",
      "photoUrl": "https://lh3.googleusercontent.com/a-/AOh14GgzXEbNiG5F4JTW3wieKoLzpVqgW4vsXYaCn0mu=s64",
      "userId": "00108578877416785794"
     },
     "user_tz": -540
    },
    "id": "DltQhzfigGqV",
    "outputId": "4f4f03c0-9f6f-442e-d42c-3bbd92eff650"
   },
   "outputs": [
    {
     "name": "stdout",
     "output_type": "stream",
     "text": [
      "최대값 : 6\n",
      "최소값 : 1\n",
      "총합 : 21\n",
      "평균값 : 3.5\n"
     ]
    }
   ],
   "source": [
    "nums = [1, 2, 3, 4, 5, 6]\n",
    "\n",
    "print(f'최대값 : {max(nums)}')\n",
    "print(f'최소값 : {min(nums)}')\n",
    "print(f'총합 : {sum(nums)}')\n",
    "print(f'평균값 : {sum(nums)/len(nums)}')"
   ]
  },
  {
   "cell_type": "code",
   "execution_count": null,
   "metadata": {
    "colab": {
     "base_uri": "https://localhost:8080/"
    },
    "executionInfo": {
     "elapsed": 315,
     "status": "ok",
     "timestamp": 1641795738470,
     "user": {
      "displayName": "Nuka",
      "photoUrl": "https://lh3.googleusercontent.com/a-/AOh14GgzXEbNiG5F4JTW3wieKoLzpVqgW4vsXYaCn0mu=s64",
      "userId": "00108578877416785794"
     },
     "user_tz": -540
    },
    "id": "QgZJxb3_oEgj",
    "outputId": "55ad1759-2044-411a-b689-d56221634444"
   },
   "outputs": [
    {
     "name": "stdout",
     "output_type": "stream",
     "text": [
      "평균값 : 3.5\n"
     ]
    }
   ],
   "source": [
    "import numpy as np\n",
    "\n",
    "array = np.array(nums)\n",
    "print(f'평균값 : {np.mean(array)}')"
   ]
  },
  {
   "cell_type": "code",
   "execution_count": null,
   "metadata": {
    "colab": {
     "base_uri": "https://localhost:8080/"
    },
    "executionInfo": {
     "elapsed": 310,
     "status": "ok",
     "timestamp": 1641795682166,
     "user": {
      "displayName": "Nuka",
      "photoUrl": "https://lh3.googleusercontent.com/a-/AOh14GgzXEbNiG5F4JTW3wieKoLzpVqgW4vsXYaCn0mu=s64",
      "userId": "00108578877416785794"
     },
     "user_tz": -540
    },
    "id": "4ERKszldpENM",
    "outputId": "4f8dadfb-b495-41da-87f4-4fd88468564a"
   },
   "outputs": [
    {
     "data": {
      "text/plain": [
       "[124000, 124000, 123500, 12400, 12400, 124000, 124500]"
      ]
     },
     "execution_count": 195,
     "metadata": {},
     "output_type": "execute_result"
    }
   ],
   "source": [
    "stock = [20220110, 124000, 124000, 123500, 12400,12400,124000,124500]\n",
    "\n",
    "stock.pop(0)\n",
    "\n",
    "stock"
   ]
  },
  {
   "cell_type": "code",
   "execution_count": null,
   "metadata": {
    "colab": {
     "base_uri": "https://localhost:8080/"
    },
    "executionInfo": {
     "elapsed": 322,
     "status": "ok",
     "timestamp": 1641795829025,
     "user": {
      "displayName": "Nuka",
      "photoUrl": "https://lh3.googleusercontent.com/a-/AOh14GgzXEbNiG5F4JTW3wieKoLzpVqgW4vsXYaCn0mu=s64",
      "userId": "00108578877416785794"
     },
     "user_tz": -540
    },
    "id": "wwrLmqN-pWE7",
    "outputId": "649a6f8c-6f67-43c4-870d-5be19d29dbf4"
   },
   "outputs": [
    {
     "data": {
      "text/plain": [
       "[124000, 124000, 123500, 12400, 12400, 124000, 124500]"
      ]
     },
     "execution_count": 197,
     "metadata": {},
     "output_type": "execute_result"
    }
   ],
   "source": [
    "stock = [20220110, 124000, 124000, 123500, 12400,12400,124000,124500]\n",
    "\n",
    "del stock[0]\n",
    "\n",
    "stock"
   ]
  },
  {
   "cell_type": "code",
   "execution_count": null,
   "metadata": {
    "colab": {
     "base_uri": "https://localhost:8080/"
    },
    "executionInfo": {
     "elapsed": 341,
     "status": "ok",
     "timestamp": 1641795885341,
     "user": {
      "displayName": "Nuka",
      "photoUrl": "https://lh3.googleusercontent.com/a-/AOh14GgzXEbNiG5F4JTW3wieKoLzpVqgW4vsXYaCn0mu=s64",
      "userId": "00108578877416785794"
     },
     "user_tz": -540
    },
    "id": "jd3CTFbhqDhz",
    "outputId": "9d57e9b1-b923-49bd-e22f-c859fe7af9cf"
   },
   "outputs": [
    {
     "data": {
      "text/plain": [
       "[124000, 124000, 123500, 12400, 12400, 124000, 124500]"
      ]
     },
     "execution_count": 201,
     "metadata": {},
     "output_type": "execute_result"
    }
   ],
   "source": [
    "stock = [20220110, 124000, 124000, 123500, 12400,12400,124000,124500]\n",
    "\n",
    "stock[1:]"
   ]
  },
  {
   "cell_type": "code",
   "execution_count": null,
   "metadata": {
    "colab": {
     "base_uri": "https://localhost:8080/"
    },
    "executionInfo": {
     "elapsed": 3,
     "status": "ok",
     "timestamp": 1641796154147,
     "user": {
      "displayName": "Nuka",
      "photoUrl": "https://lh3.googleusercontent.com/a-/AOh14GgzXEbNiG5F4JTW3wieKoLzpVqgW4vsXYaCn0mu=s64",
      "userId": "00108578877416785794"
     },
     "user_tz": -540
    },
    "id": "KH6h8QVlrMRy",
    "outputId": "abdab3ae-1104-4f9f-db5d-63f23a1c86de"
   },
   "outputs": [
    {
     "data": {
      "text/plain": [
       "[124000, 124000, 123500, 12400, 12400, 124000, 124500]"
      ]
     },
     "execution_count": 202,
     "metadata": {},
     "output_type": "execute_result"
    }
   ],
   "source": [
    "stock = [20220110, 124000, 124000, 123500, 12400,12400,124000,124500]\n",
    "\n",
    "stock.remove(20220110)\n",
    "stock"
   ]
  },
  {
   "cell_type": "markdown",
   "metadata": {
    "id": "pCTjurLAqthH"
   },
   "source": [
    "## 슬라이싱은 원본에 영향 안미침 따라서 밑에 stock 쓸필요 x\n",
    "## del,pop,reomve는 원본 영향 O stock써야 한다."
   ]
  },
  {
   "cell_type": "code",
   "execution_count": null,
   "metadata": {
    "colab": {
     "base_uri": "https://localhost:8080/"
    },
    "executionInfo": {
     "elapsed": 473,
     "status": "ok",
     "timestamp": 1641796370192,
     "user": {
      "displayName": "Nuka",
      "photoUrl": "https://lh3.googleusercontent.com/a-/AOh14GgzXEbNiG5F4JTW3wieKoLzpVqgW4vsXYaCn0mu=s64",
      "userId": "00108578877416785794"
     },
     "user_tz": -540
    },
    "id": "WDhnDZk4q8CQ",
    "outputId": "3de7f5cb-f448-4fbb-a7ab-a49a367b6e8e"
   },
   "outputs": [
    {
     "data": {
      "text/plain": [
       "[1, 2, 3, 4, 5, 6]"
      ]
     },
     "execution_count": 203,
     "metadata": {},
     "output_type": "execute_result"
    }
   ],
   "source": [
    "nums"
   ]
  },
  {
   "cell_type": "markdown",
   "metadata": {
    "id": "O6f_g9lIsPOi"
   },
   "source": [
    "## nums 에서 홀수 구하기 (슬라이싱 활용)\n",
    "## (start:stop:step)"
   ]
  },
  {
   "cell_type": "code",
   "execution_count": null,
   "metadata": {
    "colab": {
     "base_uri": "https://localhost:8080/"
    },
    "executionInfo": {
     "elapsed": 326,
     "status": "ok",
     "timestamp": 1641796573004,
     "user": {
      "displayName": "Nuka",
      "photoUrl": "https://lh3.googleusercontent.com/a-/AOh14GgzXEbNiG5F4JTW3wieKoLzpVqgW4vsXYaCn0mu=s64",
      "userId": "00108578877416785794"
     },
     "user_tz": -540
    },
    "id": "9hjOxiCTsLy3",
    "outputId": "851ef793-1c6a-42b7-ae08-abb2efc866d6"
   },
   "outputs": [
    {
     "data": {
      "text/plain": [
       "[1, 3, 5]"
      ]
     },
     "execution_count": 208,
     "metadata": {},
     "output_type": "execute_result"
    }
   ],
   "source": [
    "nums[::2]"
   ]
  },
  {
   "cell_type": "code",
   "execution_count": null,
   "metadata": {
    "colab": {
     "base_uri": "https://localhost:8080/"
    },
    "executionInfo": {
     "elapsed": 321,
     "status": "ok",
     "timestamp": 1641796614402,
     "user": {
      "displayName": "Nuka",
      "photoUrl": "https://lh3.googleusercontent.com/a-/AOh14GgzXEbNiG5F4JTW3wieKoLzpVqgW4vsXYaCn0mu=s64",
      "userId": "00108578877416785794"
     },
     "user_tz": -540
    },
    "id": "Wn2xRcDqsqcr",
    "outputId": "f274d974-dc37-487d-f763-d4c9b84f8c9e"
   },
   "outputs": [
    {
     "data": {
      "text/plain": [
       "[1, 3, 5]"
      ]
     },
     "execution_count": 209,
     "metadata": {},
     "output_type": "execute_result"
    }
   ],
   "source": [
    "nums[0:5:2]"
   ]
  },
  {
   "cell_type": "code",
   "execution_count": null,
   "metadata": {
    "colab": {
     "base_uri": "https://localhost:8080/"
    },
    "executionInfo": {
     "elapsed": 330,
     "status": "ok",
     "timestamp": 1641796881147,
     "user": {
      "displayName": "Nuka",
      "photoUrl": "https://lh3.googleusercontent.com/a-/AOh14GgzXEbNiG5F4JTW3wieKoLzpVqgW4vsXYaCn0mu=s64",
      "userId": "00108578877416785794"
     },
     "user_tz": -540
    },
    "id": "6Pa30aRHt6mi",
    "outputId": "71bdbc62-045e-4569-899b-615b4bea314f"
   },
   "outputs": [
    {
     "data": {
      "text/plain": [
       "[2, 4, 6]"
      ]
     },
     "execution_count": 213,
     "metadata": {},
     "output_type": "execute_result"
    }
   ],
   "source": [
    "nums[1::2]"
   ]
  },
  {
   "cell_type": "code",
   "execution_count": null,
   "metadata": {
    "colab": {
     "base_uri": "https://localhost:8080/"
    },
    "executionInfo": {
     "elapsed": 309,
     "status": "ok",
     "timestamp": 1641797240244,
     "user": {
      "displayName": "Nuka",
      "photoUrl": "https://lh3.googleusercontent.com/a-/AOh14GgzXEbNiG5F4JTW3wieKoLzpVqgW4vsXYaCn0mu=s64",
      "userId": "00108578877416785794"
     },
     "user_tz": -540
    },
    "id": "P7JZqxaRuEf7",
    "outputId": "2c0bbdc9-4b30-4038-ec65-185e4d0fa3b4"
   },
   "outputs": [
    {
     "data": {
      "text/plain": [
       "[1, 2, 3, 4, 5, 6]"
      ]
     },
     "execution_count": 220,
     "metadata": {},
     "output_type": "execute_result"
    }
   ],
   "source": [
    "nums"
   ]
  },
  {
   "cell_type": "code",
   "execution_count": null,
   "metadata": {
    "colab": {
     "base_uri": "https://localhost:8080/"
    },
    "executionInfo": {
     "elapsed": 5,
     "status": "ok",
     "timestamp": 1641797242380,
     "user": {
      "displayName": "Nuka",
      "photoUrl": "https://lh3.googleusercontent.com/a-/AOh14GgzXEbNiG5F4JTW3wieKoLzpVqgW4vsXYaCn0mu=s64",
      "userId": "00108578877416785794"
     },
     "user_tz": -540
    },
    "id": "Eaeemy9YvFvL",
    "outputId": "23eec9f5-44fa-4c8a-db2b-76101cb146f1"
   },
   "outputs": [
    {
     "data": {
      "text/plain": [
       "[6, 5, 4, 3, 2, 1]"
      ]
     },
     "execution_count": 221,
     "metadata": {},
     "output_type": "execute_result"
    }
   ],
   "source": [
    "nums[::-1]"
   ]
  },
  {
   "cell_type": "code",
   "execution_count": null,
   "metadata": {
    "colab": {
     "base_uri": "https://localhost:8080/"
    },
    "executionInfo": {
     "elapsed": 321,
     "status": "ok",
     "timestamp": 1641797327951,
     "user": {
      "displayName": "Nuka",
      "photoUrl": "https://lh3.googleusercontent.com/a-/AOh14GgzXEbNiG5F4JTW3wieKoLzpVqgW4vsXYaCn0mu=s64",
      "userId": "00108578877416785794"
     },
     "user_tz": -540
    },
    "id": "6-9sjuJIvXYa",
    "outputId": "6c910bcc-6cb5-41a8-d0eb-641b654a8fd8"
   },
   "outputs": [
    {
     "data": {
      "text/plain": [
       "[6, 5, 4, 3, 2, 1]"
      ]
     },
     "execution_count": 223,
     "metadata": {},
     "output_type": "execute_result"
    }
   ],
   "source": [
    "nums.reverse()\n",
    "nums"
   ]
  },
  {
   "cell_type": "code",
   "execution_count": null,
   "metadata": {
    "colab": {
     "base_uri": "https://localhost:8080/"
    },
    "executionInfo": {
     "elapsed": 332,
     "status": "ok",
     "timestamp": 1641797402070,
     "user": {
      "displayName": "Nuka",
      "photoUrl": "https://lh3.googleusercontent.com/a-/AOh14GgzXEbNiG5F4JTW3wieKoLzpVqgW4vsXYaCn0mu=s64",
      "userId": "00108578877416785794"
     },
     "user_tz": -540
    },
    "id": "_68bQCPtvxja",
    "outputId": "f4af9167-c339-4ce9-866f-d92fa8e5bb6d"
   },
   "outputs": [
    {
     "data": {
      "text/plain": [
       "[1, 2, 3, 4, 5, 6]"
      ]
     },
     "execution_count": 224,
     "metadata": {},
     "output_type": "execute_result"
    }
   ],
   "source": [
    "nums[::-1]"
   ]
  },
  {
   "cell_type": "code",
   "execution_count": null,
   "metadata": {
    "colab": {
     "base_uri": "https://localhost:8080/"
    },
    "executionInfo": {
     "elapsed": 343,
     "status": "ok",
     "timestamp": 1641797501836,
     "user": {
      "displayName": "Nuka",
      "photoUrl": "https://lh3.googleusercontent.com/a-/AOh14GgzXEbNiG5F4JTW3wieKoLzpVqgW4vsXYaCn0mu=s64",
      "userId": "00108578877416785794"
     },
     "user_tz": -540
    },
    "id": "yBygAiSQwDra",
    "outputId": "d76da8f7-11dd-48bb-b3ab-71a3977d0370"
   },
   "outputs": [
    {
     "data": {
      "text/plain": [
       "[1, 2, 3, 4, 5, 6]"
      ]
     },
     "execution_count": 225,
     "metadata": {},
     "output_type": "execute_result"
    }
   ],
   "source": [
    "nums.reverse()\n",
    "nums"
   ]
  },
  {
   "cell_type": "code",
   "execution_count": null,
   "metadata": {
    "colab": {
     "base_uri": "https://localhost:8080/"
    },
    "executionInfo": {
     "elapsed": 286,
     "status": "ok",
     "timestamp": 1641799899228,
     "user": {
      "displayName": "Nuka",
      "photoUrl": "https://lh3.googleusercontent.com/a-/AOh14GgzXEbNiG5F4JTW3wieKoLzpVqgW4vsXYaCn0mu=s64",
      "userId": "00108578877416785794"
     },
     "user_tz": -540
    },
    "id": "PjTfC5IvwcCS",
    "outputId": "6673ce55-34af-427c-c5ce-a18a138cb32d"
   },
   "outputs": [
    {
     "data": {
      "text/plain": [
       "(1, 2, 3)"
      ]
     },
     "execution_count": 226,
     "metadata": {},
     "output_type": "execute_result"
    }
   ],
   "source": [
    "t1 = ()\n",
    "t2 = (1, )\n",
    "t3 = (1, 2, 3)\n",
    "t4 = 1,2,3\n",
    "t5 = ('a', 'b', ('ab', 'cd'))\n",
    "\n",
    "t4"
   ]
  },
  {
   "cell_type": "code",
   "execution_count": null,
   "metadata": {
    "colab": {
     "base_uri": "https://localhost:8080/",
     "height": 215
    },
    "executionInfo": {
     "elapsed": 5,
     "status": "error",
     "timestamp": 1641799964045,
     "user": {
      "displayName": "Nuka",
      "photoUrl": "https://lh3.googleusercontent.com/a-/AOh14GgzXEbNiG5F4JTW3wieKoLzpVqgW4vsXYaCn0mu=s64",
      "userId": "00108578877416785794"
     },
     "user_tz": -540
    },
    "id": "1XpwvFDp5lPI",
    "outputId": "2e7ebe33-3d66-4d16-c9fd-e89dadd3b2c2"
   },
   "outputs": [
    {
     "ename": "TypeError",
     "evalue": "ignored",
     "output_type": "error",
     "traceback": [
      "\u001b[0;31m---------------------------------------------------------------------------\u001b[0m",
      "\u001b[0;31mTypeError\u001b[0m                                 Traceback (most recent call last)",
      "\u001b[0;32m<ipython-input-227-a22c4adcadf6>\u001b[0m in \u001b[0;36m<module>\u001b[0;34m()\u001b[0m\n\u001b[1;32m      1\u001b[0m \u001b[0mt1\u001b[0m \u001b[0;34m=\u001b[0m \u001b[0;34m(\u001b[0m\u001b[0;36m1\u001b[0m\u001b[0;34m,\u001b[0m \u001b[0;36m2\u001b[0m\u001b[0;34m,\u001b[0m \u001b[0;34m'a'\u001b[0m\u001b[0;34m,\u001b[0m \u001b[0;34m'b'\u001b[0m\u001b[0;34m)\u001b[0m\u001b[0;34m\u001b[0m\u001b[0;34m\u001b[0m\u001b[0m\n\u001b[1;32m      2\u001b[0m \u001b[0;34m\u001b[0m\u001b[0m\n\u001b[0;32m----> 3\u001b[0;31m \u001b[0;32mdel\u001b[0m \u001b[0mt1\u001b[0m\u001b[0;34m[\u001b[0m\u001b[0;36m0\u001b[0m\u001b[0;34m]\u001b[0m\u001b[0;34m\u001b[0m\u001b[0;34m\u001b[0m\u001b[0m\n\u001b[0m",
      "\u001b[0;31mTypeError\u001b[0m: 'tuple' object doesn't support item deletion"
     ]
    }
   ],
   "source": [
    "t1 = (1, 2, 'a', 'b')\n",
    "\n",
    "del t1[0]"
   ]
  },
  {
   "cell_type": "markdown",
   "metadata": {
    "id": "LpBrIG_j7CGg"
   },
   "source": [
    "튜플은 데이터의 삭제가 불가하다."
   ]
  },
  {
   "cell_type": "code",
   "execution_count": null,
   "metadata": {
    "colab": {
     "base_uri": "https://localhost:8080/",
     "height": 177
    },
    "executionInfo": {
     "elapsed": 307,
     "status": "error",
     "timestamp": 1641800050728,
     "user": {
      "displayName": "Nuka",
      "photoUrl": "https://lh3.googleusercontent.com/a-/AOh14GgzXEbNiG5F4JTW3wieKoLzpVqgW4vsXYaCn0mu=s64",
      "userId": "00108578877416785794"
     },
     "user_tz": -540
    },
    "id": "3j1niy2L51I4",
    "outputId": "27524522-7aef-4d60-9226-6d1cbea75a66"
   },
   "outputs": [
    {
     "ename": "TypeError",
     "evalue": "ignored",
     "output_type": "error",
     "traceback": [
      "\u001b[0;31m---------------------------------------------------------------------------\u001b[0m",
      "\u001b[0;31mTypeError\u001b[0m                                 Traceback (most recent call last)",
      "\u001b[0;32m<ipython-input-228-3c8e12ad4afd>\u001b[0m in \u001b[0;36m<module>\u001b[0;34m()\u001b[0m\n\u001b[0;32m----> 1\u001b[0;31m \u001b[0mt1\u001b[0m\u001b[0;34m[\u001b[0m\u001b[0;36m0\u001b[0m\u001b[0;34m]\u001b[0m \u001b[0;34m=\u001b[0m \u001b[0;36m100\u001b[0m\u001b[0;34m\u001b[0m\u001b[0;34m\u001b[0m\u001b[0m\n\u001b[0m",
      "\u001b[0;31mTypeError\u001b[0m: 'tuple' object does not support item assignment"
     ]
    }
   ],
   "source": [
    "t1[0] = 100"
   ]
  },
  {
   "cell_type": "markdown",
   "metadata": {
    "id": "42U2_iBy6_Q3"
   },
   "source": [
    "튜플은 데이터의 변조가 불가하다."
   ]
  },
  {
   "cell_type": "code",
   "execution_count": null,
   "metadata": {
    "colab": {
     "base_uri": "https://localhost:8080/"
    },
    "executionInfo": {
     "elapsed": 300,
     "status": "ok",
     "timestamp": 1641800580454,
     "user": {
      "displayName": "Nuka",
      "photoUrl": "https://lh3.googleusercontent.com/a-/AOh14GgzXEbNiG5F4JTW3wieKoLzpVqgW4vsXYaCn0mu=s64",
      "userId": "00108578877416785794"
     },
     "user_tz": -540
    },
    "id": "Oz5LqoFT6KVc",
    "outputId": "88144c8d-c6f7-4f76-f1be-fb9c94443c4f"
   },
   "outputs": [
    {
     "data": {
      "text/plain": [
       "(1, 2, 'a', 'b')"
      ]
     },
     "execution_count": 229,
     "metadata": {},
     "output_type": "execute_result"
    }
   ],
   "source": [
    "t1"
   ]
  },
  {
   "cell_type": "code",
   "execution_count": null,
   "metadata": {
    "colab": {
     "base_uri": "https://localhost:8080/"
    },
    "executionInfo": {
     "elapsed": 287,
     "status": "ok",
     "timestamp": 1641800587413,
     "user": {
      "displayName": "Nuka",
      "photoUrl": "https://lh3.googleusercontent.com/a-/AOh14GgzXEbNiG5F4JTW3wieKoLzpVqgW4vsXYaCn0mu=s64",
      "userId": "00108578877416785794"
     },
     "user_tz": -540
    },
    "id": "uWOg21_r8Lqg",
    "outputId": "123e1fc8-7790-47a1-8ae8-603542287dfc"
   },
   "outputs": [
    {
     "data": {
      "text/plain": [
       "1"
      ]
     },
     "execution_count": 230,
     "metadata": {},
     "output_type": "execute_result"
    }
   ],
   "source": [
    "t1[0]"
   ]
  },
  {
   "cell_type": "code",
   "execution_count": null,
   "metadata": {
    "colab": {
     "base_uri": "https://localhost:8080/"
    },
    "executionInfo": {
     "elapsed": 320,
     "status": "ok",
     "timestamp": 1641800661947,
     "user": {
      "displayName": "Nuka",
      "photoUrl": "https://lh3.googleusercontent.com/a-/AOh14GgzXEbNiG5F4JTW3wieKoLzpVqgW4vsXYaCn0mu=s64",
      "userId": "00108578877416785794"
     },
     "user_tz": -540
    },
    "id": "nCUHmtlx8NV4",
    "outputId": "0a0d6186-1f62-4761-b7ae-5a49f8d4356f"
   },
   "outputs": [
    {
     "data": {
      "text/plain": [
       "(2, 'a', 'b')"
      ]
     },
     "execution_count": 231,
     "metadata": {},
     "output_type": "execute_result"
    }
   ],
   "source": [
    "t1[1:]"
   ]
  },
  {
   "cell_type": "code",
   "execution_count": null,
   "metadata": {
    "colab": {
     "base_uri": "https://localhost:8080/"
    },
    "executionInfo": {
     "elapsed": 314,
     "status": "ok",
     "timestamp": 1641800779367,
     "user": {
      "displayName": "Nuka",
      "photoUrl": "https://lh3.googleusercontent.com/a-/AOh14GgzXEbNiG5F4JTW3wieKoLzpVqgW4vsXYaCn0mu=s64",
      "userId": "00108578877416785794"
     },
     "user_tz": -540
    },
    "id": "ZtT0dY558fjg",
    "outputId": "8a9189ea-3d05-4204-a99f-7185bb4deca6"
   },
   "outputs": [
    {
     "data": {
      "text/plain": [
       "(1, 2, 'a', 'b', 'c', 'd')"
      ]
     },
     "execution_count": 232,
     "metadata": {},
     "output_type": "execute_result"
    }
   ],
   "source": [
    "t2 = ('c', 'd')\n",
    "\n",
    "t1 + t2"
   ]
  },
  {
   "cell_type": "code",
   "execution_count": null,
   "metadata": {
    "colab": {
     "base_uri": "https://localhost:8080/"
    },
    "executionInfo": {
     "elapsed": 303,
     "status": "ok",
     "timestamp": 1641800813004,
     "user": {
      "displayName": "Nuka",
      "photoUrl": "https://lh3.googleusercontent.com/a-/AOh14GgzXEbNiG5F4JTW3wieKoLzpVqgW4vsXYaCn0mu=s64",
      "userId": "00108578877416785794"
     },
     "user_tz": -540
    },
    "id": "IdShV3bJ88OI",
    "outputId": "aee0f802-3f26-4da9-b6e6-2141c9ec3988"
   },
   "outputs": [
    {
     "data": {
      "text/plain": [
       "('c', 'd', 'c', 'd', 'c', 'd', 'c', 'd')"
      ]
     },
     "execution_count": 233,
     "metadata": {},
     "output_type": "execute_result"
    }
   ],
   "source": [
    "t2 * 4"
   ]
  },
  {
   "cell_type": "code",
   "execution_count": null,
   "metadata": {
    "colab": {
     "base_uri": "https://localhost:8080/"
    },
    "executionInfo": {
     "elapsed": 328,
     "status": "ok",
     "timestamp": 1641800860676,
     "user": {
      "displayName": "Nuka",
      "photoUrl": "https://lh3.googleusercontent.com/a-/AOh14GgzXEbNiG5F4JTW3wieKoLzpVqgW4vsXYaCn0mu=s64",
      "userId": "00108578877416785794"
     },
     "user_tz": -540
    },
    "id": "ae2uM4LW9Eb_",
    "outputId": "8b75a12b-47c9-4a5c-ee41-4cde92251e42"
   },
   "outputs": [
    {
     "data": {
      "text/plain": [
       "4"
      ]
     },
     "execution_count": 235,
     "metadata": {},
     "output_type": "execute_result"
    }
   ],
   "source": [
    "len(t1)"
   ]
  },
  {
   "cell_type": "code",
   "execution_count": null,
   "metadata": {
    "colab": {
     "base_uri": "https://localhost:8080/"
    },
    "executionInfo": {
     "elapsed": 305,
     "status": "ok",
     "timestamp": 1641800955715,
     "user": {
      "displayName": "Nuka",
      "photoUrl": "https://lh3.googleusercontent.com/a-/AOh14GgzXEbNiG5F4JTW3wieKoLzpVqgW4vsXYaCn0mu=s64",
      "userId": "00108578877416785794"
     },
     "user_tz": -540
    },
    "id": "_Y5L-qVK9N2B",
    "outputId": "041dbe61-6bd1-448a-f33f-8313f0857cc3"
   },
   "outputs": [
    {
     "data": {
      "text/plain": [
       "1"
      ]
     },
     "execution_count": 237,
     "metadata": {},
     "output_type": "execute_result"
    }
   ],
   "source": [
    "t1.count(1)"
   ]
  },
  {
   "cell_type": "code",
   "execution_count": null,
   "metadata": {
    "id": "8sgZoFXc9hJo"
   },
   "outputs": [],
   "source": [
    "tu1 = (1,2,1,1,1,3,4,5,5,6,7,8,10)"
   ]
  },
  {
   "cell_type": "code",
   "execution_count": null,
   "metadata": {
    "colab": {
     "base_uri": "https://localhost:8080/"
    },
    "executionInfo": {
     "elapsed": 288,
     "status": "ok",
     "timestamp": 1641801044094,
     "user": {
      "displayName": "Nuka",
      "photoUrl": "https://lh3.googleusercontent.com/a-/AOh14GgzXEbNiG5F4JTW3wieKoLzpVqgW4vsXYaCn0mu=s64",
      "userId": "00108578877416785794"
     },
     "user_tz": -540
    },
    "id": "47OPW6ZI9tO5",
    "outputId": "449a6eaa-2ada-4c57-902e-d814db6680d5"
   },
   "outputs": [
    {
     "data": {
      "text/plain": [
       "4"
      ]
     },
     "execution_count": 243,
     "metadata": {},
     "output_type": "execute_result"
    }
   ],
   "source": [
    "tu1.count(1)"
   ]
  },
  {
   "cell_type": "code",
   "execution_count": null,
   "metadata": {
    "colab": {
     "base_uri": "https://localhost:8080/",
     "height": 215
    },
    "executionInfo": {
     "elapsed": 311,
     "status": "error",
     "timestamp": 1641801054291,
     "user": {
      "displayName": "Nuka",
      "photoUrl": "https://lh3.googleusercontent.com/a-/AOh14GgzXEbNiG5F4JTW3wieKoLzpVqgW4vsXYaCn0mu=s64",
      "userId": "00108578877416785794"
     },
     "user_tz": -540
    },
    "id": "bVu1EBZP94T4",
    "outputId": "d31e419e-3044-4339-e729-1a017e77cca3"
   },
   "outputs": [
    {
     "ename": "AttributeError",
     "evalue": "ignored",
     "output_type": "error",
     "traceback": [
      "\u001b[0;31m---------------------------------------------------------------------------\u001b[0m",
      "\u001b[0;31mAttributeError\u001b[0m                            Traceback (most recent call last)",
      "\u001b[0;32m<ipython-input-244-0d23f9c9f4e7>\u001b[0m in \u001b[0;36m<module>\u001b[0;34m()\u001b[0m\n\u001b[0;32m----> 1\u001b[0;31m \u001b[0mtu1\u001b[0m\u001b[0;34m.\u001b[0m\u001b[0mpop\u001b[0m\u001b[0;34m(\u001b[0m\u001b[0;34m)\u001b[0m\u001b[0;34m\u001b[0m\u001b[0;34m\u001b[0m\u001b[0m\n\u001b[0m\u001b[1;32m      2\u001b[0m \u001b[0;34m\u001b[0m\u001b[0m\n\u001b[1;32m      3\u001b[0m \u001b[0mtu1\u001b[0m\u001b[0;34m\u001b[0m\u001b[0;34m\u001b[0m\u001b[0m\n",
      "\u001b[0;31mAttributeError\u001b[0m: 'tuple' object has no attribute 'pop'"
     ]
    }
   ],
   "source": [
    "tu1.pop()\n",
    "\n",
    "tu1"
   ]
  },
  {
   "cell_type": "markdown",
   "metadata": {
    "id": "tL3w4pDk-Al5"
   },
   "source": [
    "pop 메소드는 맨뒤의 숫자를 빼내는 것이기에 변조 시도. 따라서 튜플에서는 사용불가"
   ]
  },
  {
   "cell_type": "code",
   "execution_count": null,
   "metadata": {
    "colab": {
     "base_uri": "https://localhost:8080/"
    },
    "executionInfo": {
     "elapsed": 290,
     "status": "ok",
     "timestamp": 1641801104570,
     "user": {
      "displayName": "Nuka",
      "photoUrl": "https://lh3.googleusercontent.com/a-/AOh14GgzXEbNiG5F4JTW3wieKoLzpVqgW4vsXYaCn0mu=s64",
      "userId": "00108578877416785794"
     },
     "user_tz": -540
    },
    "id": "T6Ks-xOD9_Q3",
    "outputId": "ad30928b-acd6-4950-d043-8f418d97073e"
   },
   "outputs": [
    {
     "data": {
      "text/plain": [
       "7"
      ]
     },
     "execution_count": 245,
     "metadata": {},
     "output_type": "execute_result"
    }
   ],
   "source": [
    "tu1.index(5)"
   ]
  },
  {
   "cell_type": "code",
   "execution_count": null,
   "metadata": {
    "colab": {
     "base_uri": "https://localhost:8080/",
     "height": 215
    },
    "executionInfo": {
     "elapsed": 295,
     "status": "error",
     "timestamp": 1641801118535,
     "user": {
      "displayName": "Nuka",
      "photoUrl": "https://lh3.googleusercontent.com/a-/AOh14GgzXEbNiG5F4JTW3wieKoLzpVqgW4vsXYaCn0mu=s64",
      "userId": "00108578877416785794"
     },
     "user_tz": -540
    },
    "id": "MATcHRfK-LoA",
    "outputId": "e5002422-018d-42fc-db08-24420f7fca90"
   },
   "outputs": [
    {
     "ename": "AttributeError",
     "evalue": "ignored",
     "output_type": "error",
     "traceback": [
      "\u001b[0;31m---------------------------------------------------------------------------\u001b[0m",
      "\u001b[0;31mAttributeError\u001b[0m                            Traceback (most recent call last)",
      "\u001b[0;32m<ipython-input-246-3ddcc1780ada>\u001b[0m in \u001b[0;36m<module>\u001b[0;34m()\u001b[0m\n\u001b[0;32m----> 1\u001b[0;31m \u001b[0mtu1\u001b[0m\u001b[0;34m.\u001b[0m\u001b[0mreverse\u001b[0m\u001b[0;34m(\u001b[0m\u001b[0;34m)\u001b[0m\u001b[0;34m\u001b[0m\u001b[0;34m\u001b[0m\u001b[0m\n\u001b[0m\u001b[1;32m      2\u001b[0m \u001b[0;34m\u001b[0m\u001b[0m\n\u001b[1;32m      3\u001b[0m \u001b[0mtu1\u001b[0m\u001b[0;34m\u001b[0m\u001b[0;34m\u001b[0m\u001b[0m\n",
      "\u001b[0;31mAttributeError\u001b[0m: 'tuple' object has no attribute 'reverse'"
     ]
    }
   ],
   "source": [
    "tu1.reverse()\n",
    "\n",
    "tu1"
   ]
  },
  {
   "cell_type": "markdown",
   "metadata": {
    "id": "NYLBptg--QUV"
   },
   "source": [
    "reverse도 마찬가지로 변조이기에 사용 불가!"
   ]
  },
  {
   "cell_type": "code",
   "execution_count": null,
   "metadata": {
    "id": "sK3O2cYH-PB3"
   },
   "outputs": [],
   "source": []
  }
 ],
 "metadata": {
  "colab": {
   "authorship_tag": "ABX9TyPAYliLAqZChlswCkZrHxTE",
   "collapsed_sections": [],
   "name": "20220110.ipynb",
   "provenance": []
  },
  "kernelspec": {
   "display_name": "Python 3 (ipykernel)",
   "language": "python",
   "name": "python3"
  },
  "language_info": {
   "codemirror_mode": {
    "name": "ipython",
    "version": 3
   },
   "file_extension": ".py",
   "mimetype": "text/x-python",
   "name": "python",
   "nbconvert_exporter": "python",
   "pygments_lexer": "ipython3",
   "version": "3.9.7"
  }
 },
 "nbformat": 4,
 "nbformat_minor": 1
}
